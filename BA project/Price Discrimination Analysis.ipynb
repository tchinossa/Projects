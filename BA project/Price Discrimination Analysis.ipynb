{
 "cells": [
  {
   "cell_type": "markdown",
   "id": "e034f8c1-6d7d-4d9f-aee9-fdc60c606e27",
   "metadata": {},
   "source": [
    "# Price Discrimination Scrape - Confirmatory Analysis\n",
    "This is the code for doing the price discrimination scrape. It is comprised of two steps:\n",
    "- Getting Amazon URLS\n",
    "- Getting Data from URLS\n",
    "\n",
    "> Note that due to ethics reasons we will not be storing this data and the data is removed from the MongoDB records."
   ]
  },
  {
   "cell_type": "code",
   "execution_count": null,
   "id": "06ad33d8-f9f9-490d-88d6-d3d621967d4e",
   "metadata": {
    "tags": []
   },
   "outputs": [],
   "source": [
    "# Imports\n",
    "import pandas as pd\n",
    "import requests\n",
    "from pymongo import MongoClient\n",
    "from bs4 import BeautifulSoup\n",
    "from selenium import webdriver\n",
    "import time\n",
    "import concurrent.futures"
   ]
  },
  {
   "cell_type": "markdown",
   "id": "b1071ced-9689-4590-9ce2-82ec8a1d7e9a",
   "metadata": {},
   "source": [
    "### Load in the data"
   ]
  },
  {
   "cell_type": "code",
   "execution_count": null,
   "id": "6d946822-c773-4e14-b9b2-33051ce63bc5",
   "metadata": {
    "tags": []
   },
   "outputs": [],
   "source": [
    "df = pd.read_csv(\"archive/asr.csv\")"
   ]
  },
  {
   "cell_type": "code",
   "execution_count": 21,
   "id": "2b9ef1d2-daae-4966-ace9-ca36cbd08f4e",
   "metadata": {
    "tags": []
   },
   "outputs": [
    {
     "data": {
      "text/plain": [
       "'SET389-KR-NP-S'"
      ]
     },
     "execution_count": 21,
     "metadata": {},
     "output_type": "execute_result"
    }
   ],
   "source": [
    "skus = list(df.SKU.unique())\n",
    "skus[0]"
   ]
  },
  {
   "cell_type": "markdown",
   "id": "5d0dbd1f-8ee1-46df-8fa0-fd757c82f2eb",
   "metadata": {
    "tags": []
   },
   "source": [
    "### Retrieving the SKU Amazon Page Urls\n",
    "Retrieve the SKUs of the Amazon pages per SKU for the next stage of scraping\n",
    "- Loop over all skus\n",
    "- Get the page with the driver\n",
    "- Once retrieved, get the soup source\n",
    "- Use getData for all of the results (.g)\n",
    "- Store data in mongo collection\n",
    "\n",
    "\n",
    "> Note that Captchas still need to be solved"
   ]
  },
  {
   "cell_type": "code",
   "execution_count": null,
   "id": "c286e812-21d3-4896-b57a-f1d62a847a6e",
   "metadata": {
    "tags": []
   },
   "outputs": [],
   "source": [
    "skus = [x for x in client.ba.skus.find({'retrieved': 0})]\n",
    "driver = webdriver.Chrome()\n",
    "\n",
    "for i in skus:\n",
    "    sku = i['sku']\n",
    "    driver.get(f'https://www.google.com/search?hl=en&q={sku}')\n",
    "    soup = BeautifulSoup(driver.page_source, 'lxml')\n",
    "    link_list = soup.select(\".g\")\n",
    "    \n",
    "    if \"It looks like there aren't\" in soup.text:\n",
    "        client.ba.skus.update_one({'sku': sku}, {\"$set\": {\"retrieved\": 2}})\n",
    "        continue\n",
    "        \n",
    "    if 'Our systems have detected unusual traffic from your computer' in soup.text:\n",
    "        # driver.close()\n",
    "        # driver = webdriver.Chrome()\n",
    "        input(\"Do the captcha and click enter\")\n",
    "    \n",
    "    soup = BeautifulSoup(driver.page_source, 'lxml')\n",
    "    for elem in link_list:\n",
    "        d = getData(elem, sku)\n",
    "        client.ba.links.insert_one(d)\n",
    "    client.ba.skus.update_one({'sku': sku}, {\"$set\": {\"retrieved\": 1}})\n",
    "    "
   ]
  },
  {
   "cell_type": "markdown",
   "id": "e8fe7710-f202-4d57-b483-b3ff937e97c7",
   "metadata": {},
   "source": [
    "### Retrieving the price from Amazon\n",
    "Using a proprietary scraping api, pricing is retrieved and stored in a new MongoDB collection"
   ]
  },
  {
   "cell_type": "code",
   "execution_count": 1,
   "id": "1d31605e-2e81-4ac9-a896-6b0d42bd6dce",
   "metadata": {
    "tags": []
   },
   "outputs": [],
   "source": [
    "def request_url(url, params):\n",
    "    tries = 0\n",
    "    page = ''\n",
    "    while page == '' and tries < 10:\n",
    "        try:\n",
    "            page = requests.get(url, params=params)\n",
    "            return page\n",
    "        except:\n",
    "            tries += 1\n",
    "            time.sleep(3)\n",
    "            continue\n",
    "    return None\n",
    "\n",
    "\n",
    "def proprietarySoftware():\n",
    "    return \"\"\n",
    "\n",
    "\n",
    "def getPage(url, tries=0):\n",
    "    if tries > 10:\n",
    "        return None, None\n",
    "\n",
    "    res = proprietarySoftware()\n",
    "    \n",
    "    soup = BeautifulSoup(res.content, 'html.parser')\n",
    "    if soup is None:\n",
    "        return None, None\n",
    "    if len(soup.select(\"#desktop_unifiedPrice\")) < 1:\n",
    "        soup, tries = getPage(url, tries=tries+1)\n",
    "\n",
    "    return soup, tries"
   ]
  },
  {
   "cell_type": "markdown",
   "id": "9432a1f4-b71d-446b-851f-7442fe622c08",
   "metadata": {},
   "source": [
    "Retrieve the different data parts (due to different page structures for different countries, different prices are retrieved"
   ]
  },
  {
   "cell_type": "code",
   "execution_count": 2,
   "id": "38c3c52b-564d-4541-b593-602fe6ce28cc",
   "metadata": {
    "tags": []
   },
   "outputs": [],
   "source": [
    "def getData(soup, link):\n",
    "    data = {'link': link, 'data_retrieved': 1}\n",
    "    \n",
    "    try:\n",
    "        data['title'] = soup.select(\"#productTitle\")[0].text.strip()\n",
    "    except:\n",
    "        pass\n",
    "    try:\n",
    "        data['n_ratings'] = soup.select(\"#acrCustomerReviewText\")[0].text\n",
    "    except:\n",
    "        pass\n",
    "    try:\n",
    "        data['price'] = soup.select('.a-price-symbol')[0].text + soup.select(\".a-price-whole\")[0].text + soup.select(\".a-price-fraction\")[0].text\n",
    "    except:\n",
    "        pass\n",
    "    try:\n",
    "        data['price2'] = soup.select('#desktop_unifiedPrice')[0].text\n",
    "    except:\n",
    "        pass\n",
    "    try:\n",
    "        data['rating'] = soup.select(\"#acrPopover\")[0].text\n",
    "    except:\n",
    "        pass\n",
    "    try:\n",
    "        data['other'] = soup.select(\"#productFactsDesktopExpander\")[0].text\n",
    "    except:\n",
    "        pass\n",
    "    \n",
    "    return data\n",
    "    "
   ]
  },
  {
   "cell_type": "markdown",
   "id": "b82c1384-25cb-47dc-ae77-afbf56c921c8",
   "metadata": {},
   "source": [
    "Loop over the different skus and then the retrieved URLS to get the data and input it into the MongoDB"
   ]
  },
  {
   "cell_type": "code",
   "execution_count": null,
   "id": "06f7ad97-58f2-4921-ac69-f734b532d273",
   "metadata": {},
   "outputs": [],
   "source": [
    "def getSkuData(skus):\n",
    "    client = MongoClient()\n",
    "    for sku in skus:\n",
    "        links = [x for x in client.ba.links.find({'sku': sku})]\n",
    "        link_found = False\n",
    "        for i in links:\n",
    "            if link_found:\n",
    "                break\n",
    "            link = i['link']\n",
    "            if '/product-reviews/' in link:\n",
    "                continue\n",
    "            if 'www.amazon' in link:\n",
    "                link_found = True\n",
    "                # Do the function\n",
    "                soup, _ = getPage(link)\n",
    "                if soup is None:\n",
    "                    continue\n",
    "                data = getData(soup, link)\n",
    "                data['sku'] = sku\n",
    "                client.ba.skus.update_one({'sku': sku}, {\"$set\": data})\n",
    "                client.ba.sku_data.insert_one(data)\n",
    "        if not link_found:\n",
    "            client.ba.skus.update_one({'sku': sku}, {\"$set\": {'data_retrieved': 1}})\n",
    "    client.close()\n",
    "    return True  "
   ]
  },
  {
   "cell_type": "markdown",
   "id": "d1469d86-87f7-4047-ab99-5ccc811151cb",
   "metadata": {},
   "source": [
    "Run the function concurrently with 50 workers to allow for a quicker retrieval (~1 hour)"
   ]
  },
  {
   "cell_type": "code",
   "execution_count": null,
   "id": "b956eb44-6a41-4b45-8bf8-8890a5c41708",
   "metadata": {},
   "outputs": [],
   "source": [
    "skus_found = client.ba.sku.find({\"data_retrieved\": {\"$nin\": [1]}}).distinct(\"sku\")\n",
    "skus = client.ba.links.find({'sku': {\"$nin\": skus_found}}).distinct(\"sku\")\n",
    "\n",
    "split_links = np.array_split(skus, 50)\n",
    "\n",
    "with concurrent.futures.ThreadPoolExecutor(max_workers=50) as executor:\n",
    "    lnks = [executor.submit(getSkuData, docs) for docs in split_links]"
   ]
  },
  {
   "cell_type": "markdown",
   "id": "4c32d06d-394d-4e7d-8364-18b5b2f2c0a5",
   "metadata": {},
   "source": [
    "### Data Comparison\n",
    "A simple median check is done to see if the data is similar in both datasets.\n",
    "\n",
    "#### Data Loading and Cleaning\n",
    "- Load the data from the Mongo Database\n",
    "- Clear currency and translate to one common currency (of that day)"
   ]
  },
  {
   "cell_type": "code",
   "execution_count": null,
   "id": "4144437e-e06d-4d51-8c49-83bcfa85abc7",
   "metadata": {},
   "outputs": [],
   "source": [
    "sku_data = []\n",
    "\n",
    "for sku in skus:\n",
    "    d = client.ba.sku_data.find_one({'sku': sku})\n",
    "    sku_data.append(d)"
   ]
  },
  {
   "cell_type": "code",
   "execution_count": 161,
   "id": "91bf2b2a-4b09-4667-a258-c7f50ab0733f",
   "metadata": {
    "tags": []
   },
   "outputs": [
    {
     "data": {
      "text/html": [
       "<div>\n",
       "<style scoped>\n",
       "    .dataframe tbody tr th:only-of-type {\n",
       "        vertical-align: middle;\n",
       "    }\n",
       "\n",
       "    .dataframe tbody tr th {\n",
       "        vertical-align: top;\n",
       "    }\n",
       "\n",
       "    .dataframe thead th {\n",
       "        text-align: right;\n",
       "    }\n",
       "</style>\n",
       "<table border=\"1\" class=\"dataframe\">\n",
       "  <thead>\n",
       "    <tr style=\"text-align: right;\">\n",
       "      <th></th>\n",
       "      <th>_id</th>\n",
       "      <th>link</th>\n",
       "      <th>data_retrieved</th>\n",
       "      <th>title</th>\n",
       "      <th>price</th>\n",
       "      <th>price2</th>\n",
       "      <th>sku</th>\n",
       "      <th>n_ratings</th>\n",
       "      <th>rating</th>\n",
       "      <th>other</th>\n",
       "    </tr>\n",
       "  </thead>\n",
       "  <tbody>\n",
       "    <tr>\n",
       "      <th>0</th>\n",
       "      <td>65417a27c2bd975958033dba</td>\n",
       "      <td>https://www.amazon.com/KASK-Safety-Helmet-Zeni...</td>\n",
       "      <td>1</td>\n",
       "      <td>KASK Safety Helmet Zenith XL HI VIZ - an, 201-...</td>\n",
       "      <td>$159.99</td>\n",
       "      <td>\\n\\n\\n</td>\n",
       "      <td>AN201-RED-XL</td>\n",
       "      <td>NaN</td>\n",
       "      <td>NaN</td>\n",
       "      <td>NaN</td>\n",
       "    </tr>\n",
       "    <tr>\n",
       "      <th>1</th>\n",
       "      <td>6541ad34c2bd97595803588b</td>\n",
       "      <td>https://www.amazon.com/KASK-Safety-Helmet-Zeni...</td>\n",
       "      <td>1</td>\n",
       "      <td>KASK Safety Helmet Zenith XL HI VIZ - an, 201-...</td>\n",
       "      <td>$159.99</td>\n",
       "      <td>\\n\\n\\n</td>\n",
       "      <td>AN201-RED-XXL</td>\n",
       "      <td>NaN</td>\n",
       "      <td>NaN</td>\n",
       "      <td>NaN</td>\n",
       "    </tr>\n",
       "    <tr>\n",
       "      <th>2</th>\n",
       "      <td>65417ab9c2bd975958033e9b</td>\n",
       "      <td>https://www.amazon.com/Doctor-Stuff-Veterinari...</td>\n",
       "      <td>1</td>\n",
       "      <td>Doctor Stuff - Veterinarian File Folder Chart ...</td>\n",
       "      <td>$12.39</td>\n",
       "      <td>\\n\\n\\n</td>\n",
       "      <td>AN204-PURPLE-S</td>\n",
       "      <td>4 ratings</td>\n",
       "      <td>\\n   5.0  5.0 out of 5 stars</td>\n",
       "      <td>NaN</td>\n",
       "    </tr>\n",
       "    <tr>\n",
       "      <th>3</th>\n",
       "      <td>65415f85c2bd97595803372c</td>\n",
       "      <td>https://www.amazon.com/ZZYINH-Organizer-Neckla...</td>\n",
       "      <td>1</td>\n",
       "      <td>ZZYINH AN207 Round Velvet Jewelry Organizer Ri...</td>\n",
       "      <td>NaN</td>\n",
       "      <td>\\n\\n\\n</td>\n",
       "      <td>AN207-PINK-L</td>\n",
       "      <td>NaN</td>\n",
       "      <td>NaN</td>\n",
       "      <td>NaN</td>\n",
       "    </tr>\n",
       "    <tr>\n",
       "      <th>4</th>\n",
       "      <td>65417b8bc2bd975958033f8b</td>\n",
       "      <td>https://www.amazon.com/ZZYINH-Organizer-Neckla...</td>\n",
       "      <td>1</td>\n",
       "      <td>ZZYINH AN207 Round Velvet Jewelry Organizer Ri...</td>\n",
       "      <td>NaN</td>\n",
       "      <td>\\n\\n\\n</td>\n",
       "      <td>AN207-PINK-S</td>\n",
       "      <td>NaN</td>\n",
       "      <td>NaN</td>\n",
       "      <td>NaN</td>\n",
       "    </tr>\n",
       "  </tbody>\n",
       "</table>\n",
       "</div>"
      ],
      "text/plain": [
       "                        _id                                               link  data_retrieved                                              title    price  price2             sku  n_ratings                            rating other\n",
       "0  65417a27c2bd975958033dba  https://www.amazon.com/KASK-Safety-Helmet-Zeni...               1  KASK Safety Helmet Zenith XL HI VIZ - an, 201-...  $159.99  \\n\\n\\n    AN201-RED-XL        NaN                               NaN   NaN\n",
       "1  6541ad34c2bd97595803588b  https://www.amazon.com/KASK-Safety-Helmet-Zeni...               1  KASK Safety Helmet Zenith XL HI VIZ - an, 201-...  $159.99  \\n\\n\\n   AN201-RED-XXL        NaN                               NaN   NaN\n",
       "2  65417ab9c2bd975958033e9b  https://www.amazon.com/Doctor-Stuff-Veterinari...               1  Doctor Stuff - Veterinarian File Folder Chart ...   $12.39  \\n\\n\\n  AN204-PURPLE-S  4 ratings  \\n   5.0  5.0 out of 5 stars       NaN\n",
       "3  65415f85c2bd97595803372c  https://www.amazon.com/ZZYINH-Organizer-Neckla...               1  ZZYINH AN207 Round Velvet Jewelry Organizer Ri...      NaN  \\n\\n\\n    AN207-PINK-L        NaN                               NaN   NaN\n",
       "4  65417b8bc2bd975958033f8b  https://www.amazon.com/ZZYINH-Organizer-Neckla...               1  ZZYINH AN207 Round Velvet Jewelry Organizer Ri...      NaN  \\n\\n\\n    AN207-PINK-S        NaN                               NaN   NaN"
      ]
     },
     "execution_count": 161,
     "metadata": {},
     "output_type": "execute_result"
    }
   ],
   "source": [
    "df = pd.DataFrame.from_dict(sku_data)\n",
    "df.head()"
   ]
  },
  {
   "cell_type": "code",
   "execution_count": null,
   "id": "77e56e8c-3fd0-4594-9dac-e194384560e2",
   "metadata": {},
   "outputs": [],
   "source": [
    "curr_lookup = {\n",
    "    '$': 'USD',\n",
    "    '₹': 'RUP', \n",
    "    'SAR': 'SAR', \n",
    "    '£': 'GBP', \n",
    "    '€': 'EUR', \n",
    "    'AED': 'AED', \n",
    "    'S$': 'USD', \n",
    "    '$\\u200e': 'USD', \n",
    "    'EGP': 'EGP',\n",
    "    'US$': 'USD', \n",
    "    'kr': 'SKR', \n",
    "    '¥': 'YCN'\n",
    "}\n",
    "\n",
    "def parsePrice(price, curr=False):\n",
    "    if type(price) is not str:\n",
    "        return np.nan\n",
    "    \n",
    "    parsed_price = ''.join(re.findall(r'[0-9\\.\\,]', price))\n",
    "    p_t = price\n",
    "    \n",
    "    for elem in parsed_price:\n",
    "        p_t = p_t.replace(elem, '')\n",
    "    currency = p_t\n",
    "    \n",
    "    if curr:\n",
    "        try:\n",
    "            return curr_lookup[currency]\n",
    "        except:\n",
    "            return np.nan\n",
    "    \n",
    "    if ',' in parsed_price:\n",
    "        if '.' in parsed_price:\n",
    "            # Here it is used as a 1.000 separator\n",
    "            parsed_price = parsed_price.replace(\",\", \"\")\n",
    "        else:\n",
    "            parsed_price = parsed_price.replace(\",\", \".\")\n",
    "            \n",
    "    if len(parsed_price) > 4:\n",
    "        parsed_price = parsed_price[:3]\n",
    "    \n",
    "    return float(parsed_price)\n",
    "\n",
    "\n",
    "df['price_parsed'] = df.apply(lambda x: parsePrice(x['price']), axis=1)\n",
    "df['currency'] = df.apply(lambda x: parsePrice(x['price'], True), axis=1)"
   ]
  },
  {
   "cell_type": "code",
   "execution_count": null,
   "id": "4872c099-991c-4d95-a315-7d7d5c790f95",
   "metadata": {},
   "outputs": [],
   "source": [
    "curr_lookup = {\n",
    "    '$': 1.06,\n",
    "    '₹': 88.4, \n",
    "    'SAR': 3.98, \n",
    "    '£': 0.87, \n",
    "    '€': 1, \n",
    "    'AED': 3.9, \n",
    "    'S$': 1.06, \n",
    "    '$\\u200e': 1.06, \n",
    "    'EGP': 32.86,\n",
    "    'US$': 1.06, \n",
    "    'kr': 11.81, \n",
    "    '¥': 7.77\n",
    "}\n",
    "\n",
    "def updatePriceEur(price, currency):\n",
    "    try:\n",
    "        return price * currency\n",
    "    except:\n",
    "        return price\n",
    "    \n",
    "    \n",
    "df['price_euro'] = df.apply(lambda x: updatePriceEur(x['price_parsed'], x['currency']), axis=1)"
   ]
  },
  {
   "cell_type": "markdown",
   "id": "fd217bc5-eefe-4e4d-8931-153363308a0b",
   "metadata": {},
   "source": [
    "Now load in the data and add the found price to the dataset to do a comparison"
   ]
  },
  {
   "cell_type": "code",
   "execution_count": null,
   "id": "1e931890-2368-4aea-9aa4-99b838dc8039",
   "metadata": {},
   "outputs": [],
   "source": [
    "data = pd.read_csv('asr.csv')\n",
    "\n",
    "def addPrice(sku):\n",
    "    try:\n",
    "        return sku_lookup[sku]\n",
    "    except:\n",
    "        return np.nan\n",
    "    \n",
    "data['price'] = data.apply(lambda x: addPrice(x['SKU']), axis=1)"
   ]
  },
  {
   "cell_type": "code",
   "execution_count": 219,
   "id": "113e0144-30e1-4787-9872-7288a2b1f97f",
   "metadata": {
    "tags": []
   },
   "outputs": [
    {
     "data": {
      "text/plain": [
       "count    67102.000000\n",
       "mean       170.118558\n",
       "std        227.067492\n",
       "min          1.000000\n",
       "25%         26.000000\n",
       "50%         50.000000\n",
       "75%        299.000000\n",
       "max        999.000000\n",
       "Name: price, dtype: float64"
      ]
     },
     "execution_count": 219,
     "metadata": {},
     "output_type": "execute_result"
    }
   ],
   "source": [
    "data['price'].describe()"
   ]
  },
  {
   "cell_type": "code",
   "execution_count": 220,
   "id": "693f2ea8-398d-4e9c-bfa7-5ada376d3fc0",
   "metadata": {
    "tags": []
   },
   "outputs": [
    {
     "data": {
      "text/plain": [
       "count    939.000000\n",
       "mean     185.005911\n",
       "std      233.392637\n",
       "min        1.300000\n",
       "25%       27.000000\n",
       "50%       55.000000\n",
       "75%      339.000000\n",
       "max      999.000000\n",
       "Name: price, dtype: float64"
      ]
     },
     "execution_count": 220,
     "metadata": {},
     "output_type": "execute_result"
    }
   ],
   "source": [
    "data[data['Status'].isin(['Shipped - Returned to Seller', 'Shipped - Rejected by Buyer'])]['price'].describe()"
   ]
  },
  {
   "cell_type": "code",
   "execution_count": 4,
   "id": "61be8970-05cb-42a5-adbc-e7be63890f4a",
   "metadata": {
    "tags": []
   },
   "outputs": [
    {
     "data": {
      "text/plain": [
       "count    121180.000000\n",
       "mean        648.561465\n",
       "std         281.211687\n",
       "min           0.000000\n",
       "25%         449.000000\n",
       "50%         605.000000\n",
       "75%         788.000000\n",
       "max        5584.000000\n",
       "Name: Amount, dtype: float64"
      ]
     },
     "execution_count": 4,
     "metadata": {},
     "output_type": "execute_result"
    }
   ],
   "source": [
    "data['Amount'].describe()"
   ]
  },
  {
   "cell_type": "markdown",
   "id": "076cb86c-97ff-4d2b-9a75-4ea22461b7ae",
   "metadata": {},
   "source": [
    "### Conclusion\n",
    "One can see that the mean is around the same for both prices and thus our confirmatory experiment does indeed confirm that the prices in the dataset are correct. Additionally one can see that products of a lower price are send back more often (mean is significantly lower)"
   ]
  }
 ],
 "metadata": {
  "kernelspec": {
   "display_name": "Python 3 (ipykernel)",
   "language": "python",
   "name": "python3"
  },
  "language_info": {
   "codemirror_mode": {
    "name": "ipython",
    "version": 3
   },
   "file_extension": ".py",
   "mimetype": "text/x-python",
   "name": "python",
   "nbconvert_exporter": "python",
   "pygments_lexer": "ipython3",
   "version": "3.11.5"
  }
 },
 "nbformat": 4,
 "nbformat_minor": 5
}
