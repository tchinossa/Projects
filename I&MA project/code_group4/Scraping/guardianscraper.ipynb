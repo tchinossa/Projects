{
 "cells": [
  {
   "cell_type": "code",
   "execution_count": 1,
   "id": "bf8c8693",
   "metadata": {},
   "outputs": [],
   "source": [
    "import pandas as pd\n",
    "import requests"
   ]
  },
  {
   "cell_type": "code",
   "execution_count": 30,
   "id": "deff2a4f",
   "metadata": {},
   "outputs": [
    {
     "name": "stdout",
     "output_type": "stream",
     "text": [
      "Done Scraping!\n"
     ]
    }
   ],
   "source": [
    "# load and parse the json file\n",
    "query_json = open(\"query_result.json\")\n",
    "parsed_query = json.load(query_json)\n",
    "\n",
    "# create a list containing the individual result json bits\n",
    "results = parsed_query[\"response\"][\"results\"]\n",
    "\n",
    "# open the csv file so that we can write to it\n",
    "with open(\"guardian_results.csv\", \"w\") as file:\n",
    "    # Create a writer\n",
    "    writer = csv.writer(file)\n",
    "    # Create a header row\n",
    "    writer.writerow([\n",
    "        \"title\",\n",
    "        \"date\",\n",
    "        \"url\",\n",
    "        \"full text\"\n",
    "    ])\n",
    "\n",
    "    # iterate through each entry, adding it to the csv and fetching the\n",
    "    # full text of its article.\n",
    "    for result in results:\n",
    "        # assign data from json to variables\n",
    "        title = result[\"webTitle\"]\n",
    "        date = result[\"webPublicationDate\"]\n",
    "        date = date[:10] #trim off extra time information\n",
    "        url = result[\"webUrl\"]\n",
    "\n",
    "        # Go and Scrape the article's text\n",
    "        # set up an object to visit the page\n",
    "        headers = {'User-Agent': 'Mozilla/5.0 (Macintosh; Intel Mac OS X 10_15_3) AppleWebKit/537.36 (KHTML, like Gecko) Chrome/99.0.4844.84 Safari/537.36'}\n",
    "        response = requests.get(url, headers=headers)\n",
    "        page_soup = BeautifulSoup(response.content, features=\"lxml\")\n",
    "\n",
    "        # add the contents of the new article to collected\n",
    "        full_text = \"\"\n",
    "\n",
    "        for x in page_soup.find_all('p'):\n",
    "            full_text = full_text + x.get_text() + \"\\n\"\n",
    "\n",
    "        # write the variables to the spreadsheet as a new row\n",
    "        writer.writerow([\n",
    "            title,\n",
    "            date,\n",
    "            url,\n",
    "            full_text\n",
    "        ])\n",
    "\n",
    "print(\"Done Scraping!\")"
   ]
  },
  {
   "cell_type": "code",
   "execution_count": null,
   "id": "efab35ac",
   "metadata": {},
   "outputs": [],
   "source": []
  }
 ],
 "metadata": {
  "kernelspec": {
   "display_name": "Python 3 (ipykernel)",
   "language": "python",
   "name": "python3"
  },
  "language_info": {
   "codemirror_mode": {
    "name": "ipython",
    "version": 3
   },
   "file_extension": ".py",
   "mimetype": "text/x-python",
   "name": "python",
   "nbconvert_exporter": "python",
   "pygments_lexer": "ipython3",
   "version": "3.11.4"
  }
 },
 "nbformat": 4,
 "nbformat_minor": 5
}
