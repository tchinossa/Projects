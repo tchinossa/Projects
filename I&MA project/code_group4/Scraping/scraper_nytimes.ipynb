{
 "cells": [
  {
   "cell_type": "code",
   "execution_count": 12,
   "metadata": {},
   "outputs": [],
   "source": [
    "import requests\n",
    "import pprint\n",
    "from bs4 import BeautifulSoup\n",
    "from lxml import html\n",
    "import pandas as pd\n",
    "import random\n",
    "import webdriver_manager.chrome\n",
    "from selenium import webdriver\n",
    "import time\n",
    "from selenium import webdriver\n",
    "from selenium.webdriver.chrome.service import Service\n",
    "from webdriver_manager.chrome import ChromeDriverManager"
   ]
  },
  {
   "cell_type": "code",
   "execution_count": null,
   "metadata": {},
   "outputs": [],
   "source": [
    "from pynytimes import NYTAPI\n",
    "nyt = NYTAPI(\"vqD4pDZZTlqr4ufxBwjoAZWNRM1hhJkG\")\n",
    "articles = nyt.article_search(query = \"Israel\", results = 2500)\n",
    "URLS = []\n",
    "for article in articles:\n",
    "    print(article)\n",
    "    URL = article['web_url']\n",
    "    URLS.append(URL)"
   ]
  },
  {
   "cell_type": "code",
   "execution_count": 10,
   "metadata": {},
   "outputs": [],
   "source": [
    "def get_body(url):\n",
    "    driver.get(url)\n",
    "    article_text = ''\n",
    "    soup = BeautifulSoup(driver.page_source, 'html.parser')\n",
    "    paragraph = soup.find_all('p')\n",
    "    a = ' '.join([a.text for a in soup.find_all('p')])\n",
    "    time.sleep(4)\n",
    "    return a"
   ]
  },
  {
   "cell_type": "code",
   "execution_count": 58,
   "metadata": {},
   "outputs": [],
   "source": [
    "driver = webdriver.Chrome(service=Service(ChromeDriverManager().install()))\n",
    "driver.get(\"https://www.nytimes.com\")\n",
    "\n",
    "# Optionally, clear existing cookies\n",
    "driver.delete_all_cookies()\n",
    "\n",
    "# List of cookies adapted for use with Selenium\n",
    "cookies = [\n",
    "    {\"name\": \"nyt-a\", \"value\": \"3D5JaSHFcmB1fL-gpPDyMw\", \"domain\": \".nytimes.com\", \"expiry\": 1745499596, \"path\": \"/\", \"secure\": True, \"sameSite\": \"None\"},\n",
    "    {\"name\": \"nyt-auth-method\", \"value\": \"username\", \"domain\": \".nytimes.com\", \"expiry\": 1729447168, \"path\": \"/\", \"secure\": True, \"sameSite\": \"None\"},\n",
    "    {\"name\": \"datadome\", \"value\": \"pKPa0ylEXVoUfvIMFLcjWTSXGErAA8AylYuLvhWk6lcT~ZK3H6mZjBHda_VZE~bx8LOEzAuMFDuOplv~svnUqdo~zm0QqKvhWoaUHa3MpGbLrwjgS6iNbRxPyCHQAUvL\", \"domain\": \".www.nytimes.com\", \"expiry\": 1745499485, \"path\": \"/\", \"secure\": True, \"sameSite\": \"Lax\"},\n",
    "    {\"name\": \"NYT-S\", \"value\": \"0^CBcSMQiA7p-xBhDEhaSxBhoSMS17pJ1CzA_PIwRsScj-1hmJIIzl5XUqAh5VOIvLmrEGQgAaQAzXIWKwzjU6Gwu3dJcLnUIDWTfm-I19eI-ePijJFex7CrPqUyxF_4qoazqszqpHVRe_gS95QtgF26VKbmrTcwk=\", \"domain\": \".nytimes.com\", \"expiry\": 1745499596, \"path\": \"/\", \"secure\": True, \"httpOnly\": True, \"sameSite\": \"None\"},\n",
    "    {\"name\": \"SIDNY\", \"value\": \"CBcSMQiA7p-xBhDEhaSxBhoSMS17pJ1CzA_PIwRsScj-1hmJIIzl5XUqAh5VOIvLmrEGQgAaQAzXIWKwzjU6Gwu3dJcLnUIDWTfm-I19eI-ePijJFex7CrPqUyxF_4qoazqszqpHVRe_gS95QtgF26VKbmrTcwk=\", \"domain\": \".nytimes.com\", \"expiry\": 1721739596, \"path\": \"/\", \"secure\": True, \"httpOnly\": True, \"sameSite\": \"None\"},\n",
    "]\n",
    "\n",
    "\n",
    "# Adding each cookie to the browser\n",
    "for cookie in cookies:\n",
    "    if 'secure' in cookie and cookie['secure']:\n",
    "        driver.get(\"https://www.nytimes.com\")  # Ensure secure cookies are set on HTTPS\n",
    "    driver.add_cookie(cookie)\n",
    "articles = []\n",
    "for url in URLS[200:220]:\n",
    "  articles.append(get_body(url))\n",
    "pd.DataFrame(articles).to_csv(\"200-220 Articles\")"
   ]
  },
  {
   "cell_type": "code",
   "execution_count": 76,
   "metadata": {},
   "outputs": [],
   "source": [
    "pd.DataFrame(articles).to_csv(\"200-220 Articles\")"
   ]
  },
  {
   "cell_type": "markdown",
   "metadata": {},
   "source": [
    "### Cleaning Data"
   ]
  },
  {
   "cell_type": "code",
   "execution_count": 61,
   "metadata": {},
   "outputs": [],
   "source": [
    "a = pd.read_csv(\"/Users/pasqualecaponio/Library/CloudStorage/OneDrive-UniversitàCommercialeLuigiBocconi/GoodNotes/Bocconi/Magistrale/Primo Anno/Secondo Semestre/Marketing Analytics/Group Project/Data Scraped/1-10 Articles.csv\")\n",
    "b = pd.read_csv(\"/Users/pasqualecaponio/Library/CloudStorage/OneDrive-UniversitàCommercialeLuigiBocconi/GoodNotes/Bocconi/Magistrale/Primo Anno/Secondo Semestre/Marketing Analytics/Group Project/Data Scraped/10-30 Articles.csv\")\n",
    "c = pd.read_csv(\"/Users/pasqualecaponio/Library/CloudStorage/OneDrive-UniversitàCommercialeLuigiBocconi/GoodNotes/Bocconi/Magistrale/Primo Anno/Secondo Semestre/Marketing Analytics/Group Project/Data Scraped/30-60 Articles.csv\")\n",
    "d = pd.read_csv(\"/Users/pasqualecaponio/Library/CloudStorage/OneDrive-UniversitàCommercialeLuigiBocconi/GoodNotes/Bocconi/Magistrale/Primo Anno/Secondo Semestre/Marketing Analytics/Group Project/Data Scraped/60-160 Articles.csv\")\n",
    "e = pd.read_csv(\"/Users/pasqualecaponio/Library/CloudStorage/OneDrive-UniversitàCommercialeLuigiBocconi/GoodNotes/Bocconi/Magistrale/Primo Anno/Secondo Semestre/Marketing Analytics/Group Project/Data Scraped/160-200 Articles.csv\")\n",
    "e11 = pd.read_csv(\"/Users/pasqualecaponio/Library/CloudStorage/OneDrive-UniversitàCommercialeLuigiBocconi/GoodNotes/Bocconi/Magistrale/Primo Anno/Secondo Semestre/Marketing Analytics/Group Project/200-220 Articles\")\n",
    "f = pd.read_csv(\"/Users/pasqualecaponio/Library/CloudStorage/OneDrive-UniversitàCommercialeLuigiBocconi/GoodNotes/Bocconi/Magistrale/Primo Anno/Secondo Semestre/Marketing Analytics/Group Project/Data Scraped/220-320 Articles.csv\")\n",
    "g = pd.read_csv(\"/Users/pasqualecaponio/Library/CloudStorage/OneDrive-UniversitàCommercialeLuigiBocconi/GoodNotes/Bocconi/Magistrale/Primo Anno/Secondo Semestre/Marketing Analytics/Group Project/Data Scraped/320-500 Articles.csv\")\n",
    "h = pd.read_csv(\"/Users/pasqualecaponio/Library/CloudStorage/OneDrive-UniversitàCommercialeLuigiBocconi/GoodNotes/Bocconi/Magistrale/Primo Anno/Secondo Semestre/Marketing Analytics/Group Project/Data Scraped/500-700 Articles.csv\")\n",
    "i = pd.read_csv(\"/Users/pasqualecaponio/Library/CloudStorage/OneDrive-UniversitàCommercialeLuigiBocconi/GoodNotes/Bocconi/Magistrale/Primo Anno/Secondo Semestre/Marketing Analytics/Group Project/Data Scraped/700-1000 Articles.csv\")\n",
    "j = pd.read_csv(\"/Users/pasqualecaponio/Library/CloudStorage/OneDrive-UniversitàCommercialeLuigiBocconi/GoodNotes/Bocconi/Magistrale/Primo Anno/Secondo Semestre/Marketing Analytics/Group Project/Data Scraped/1000-1500 Articles.csv\")\n",
    "k = pd.read_csv(\"/Users/pasqualecaponio/Library/CloudStorage/OneDrive-UniversitàCommercialeLuigiBocconi/GoodNotes/Bocconi/Magistrale/Primo Anno/Secondo Semestre/Marketing Analytics/Group Project/Data Scraped/1500-2010 Articles.csv\")\n",
    "to_concatenate = [a,b, c, d, e, e11, f,g,h,i,j,k]\n",
    "artikkel = pd.concat(to_concatenate, ignore_index=True)\n",
    "artikkel = artikkel.iloc[:, 1]"
   ]
  },
  {
   "cell_type": "code",
   "execution_count": null,
   "metadata": {},
   "outputs": [],
   "source": [
    "final_df = pd.DataFrame(URLS)\n",
    "final_df[\"articles\"] = artikkel\n",
    "final_df.rename({\"0\": \"links\"}, axis = 1, inplace = True)\n",
    "final_df.drop(\"articles\", axis = 0, inplace = True)\n",
    "final_df[\"date\"] = final_df[\"links\"].str[24:34]\n",
    "final_df = final_df[(~final_df[\"date\"].str.startswith(\"video\")) & (~final_df[\"date\"].str.startswith(\"interactiv\"))]\n",
    "final_df = final_df[~final_df[\"articles\"].isna()]\n",
    "final_df = final_df[(~final_df[\"articles\"].str[6:].str.startswith(\"sorry\")) & (~final_df[\"articles\"].str.startswith(\"For more audio\")) & (~final_df[\"articles\"].str.startswith(\"Make sense\"))]\n",
    "final_df = final_df.sort_values(\"date\")\n",
    "cookies_text_index = 12292\n",
    "# podcasts = podcasts[~podcasts[\"articles\"].str.startswith(\"For more audio\")]\n",
    "# podcasts[\"articles\"].iloc[0]\n",
    "no_we_and_our = final_df[~final_df[\"articles\"].str.startswith(\"We and our vendors\")]\n",
    "we_and_our_df = final_df[final_df[\"articles\"].str.startswith(\"We and our vendors\")]\n",
    "we_and_our_df[\"articles\"] = final_df[\"articles\"].str[cookies_text_index:]\n",
    "to_concatenate = [no_we_and_our, we_and_our_df]\n",
    "nytimes = pd.concat(to_concatenate, ignore_index= True)\n",
    "nytimes.sort_values(\"date\", inplace = True)\n",
    "nytimes.loc[0].articles\n",
    "nytimes[\"articles\"] = nytimes[\"articles\"].str.lstrip()\n",
    "nytimes_clean = nytimes[(~nytimes[\"articles\"].str.startswith(\"Israel\")) & (~nytimes[\"articles\"].str.startswith(\"Russia\")) & (~nytimes[\"articles\"].str.startswith(\"Advertisement\")) & (~nytimes[\"articles\"].str.startswith(\"Middle East Crisis\")) & (~nytimes[\"articles\"].str.startswith(\"Campus Protests Advertisement\"))]\n",
    "israel_hamas = nytimes[nytimes[\"articles\"].str.startswith(\"Israel\")]\n",
    "russia = nytimes[nytimes[\"articles\"].str.startswith(\"Russia\")]\n",
    "advertisement = nytimes[nytimes[\"articles\"].str.startswith(\"Advertisement\")]\n",
    "middle_east_crisis = nytimes[nytimes[\"articles\"].str.startswith(\"Middle East Crisis\")]\n",
    "campus = nytimes[nytimes[\"articles\"].str.startswith(\"Campus\")]\n",
    "israel_hamas[\"articles\"] = israel_hamas[\"articles\"].str[30:]\n",
    "russia[\"articles\"] = russia[\"articles\"].str[33:]\n",
    "advertisement[\"articles\"] = advertisement[\"articles\"].str[14:]\n",
    "middle_east_crisis[\"articles\"] = middle_east_crisis[\"articles\"].str[33:]\n",
    "campus[\"articles\"] = campus[\"articles\"].str[30:]\n",
    "to_concatenate = [nytimes_clean, israel_hamas, russia, advertisement, middle_east_crisis, campus]\n",
    "nytimes = pd.concat(to_concatenate, ignore_index=True)\n",
    "nytimes.sort_values(\"date\", inplace = True)\n",
    "nytimes\n"
   ]
  }
 ],
 "metadata": {
  "kernelspec": {
   "display_name": "base",
   "language": "python",
   "name": "python3"
  },
  "language_info": {
   "codemirror_mode": {
    "name": "ipython",
    "version": 3
   },
   "file_extension": ".py",
   "mimetype": "text/x-python",
   "name": "python",
   "nbconvert_exporter": "python",
   "pygments_lexer": "ipython3",
   "version": "3.11.5"
  }
 },
 "nbformat": 4,
 "nbformat_minor": 2
}
