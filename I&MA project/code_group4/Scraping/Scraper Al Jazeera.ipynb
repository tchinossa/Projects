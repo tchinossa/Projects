{
 "cells": [
  {
   "cell_type": "code",
   "execution_count": 1,
   "metadata": {},
   "outputs": [],
   "source": [
    "import requests\n",
    "from selenium import webdriver\n",
    "from selenium.webdriver.chrome.options import Options\n",
    "from selenium.webdriver.chrome.service import Service\n",
    "from selenium.webdriver.common.by import By\n",
    "from selenium.webdriver.support.ui import WebDriverWait\n",
    "from selenium.webdriver.support import expected_conditions as EC\n",
    "from bs4 import BeautifulSoup\n",
    "import pandas as pd\n",
    "import os\n",
    "import requests\n",
    "import re\n",
    "from webdriver_manager.chrome import ChromeDriverManager\n",
    "import time\n"
   ]
  },
  {
   "cell_type": "code",
   "execution_count": 2,
   "metadata": {},
   "outputs": [],
   "source": [
    "def requestPage(link):\n",
    "    try:\n",
    "        response = requests.get(link)\n",
    "        response.raise_for_status()  # Raise an exception for 4xx or 5xx status codes\n",
    "        return response.text  # Return the HTML content of the page\n",
    "    except requests.RequestException as e:\n",
    "        print(f\"Error fetching page: {e}\")\n",
    "        return None\n"
   ]
  },
  {
   "cell_type": "code",
   "execution_count": 3,
   "metadata": {},
   "outputs": [],
   "source": [
    "def requestPageUsingWebDriver(self, link, web_agent=\"chrome\"):\n",
    "   options = driver = None\n",
    "   if web_agent == \"firefox\":\n",
    "       options = webdriver.FirefoxOptions()\n",
    "       options.add_argument(\"--headless\")\n",
    "       driver = webdriver.Firefox(options=options)\n",
    "   elif web_agent == \"chrome\":\n",
    "       options = Options()\n",
    "       options.add_argument(\"--disable-dev-shm-usage\")\n",
    "       options.add_argument(\"--headless\")\n",
    "       options.add_argument(\"--no-sandbox\")\n",
    "       driver = webdriver.Chrome(options=options)\n",
    "   else:\n",
    "       raise Exception(\"Invalid Web Agent! Please use firefox or chrome.\")\n",
    "   driver.get(link)\n",
    "   driver.implicitly_wait(50)\n",
    "   soup = BeautifulSoup(driver.page_source, \"html.parser\")\n",
    "   driver.quit()\n",
    "   return soup\n",
    "\n"
   ]
  },
  {
   "cell_type": "code",
   "execution_count": 4,
   "metadata": {},
   "outputs": [],
   "source": [
    "def requestPage(link):\n",
    "    try:\n",
    "        print(f\"Fetching page: {link}\")\n",
    "        response = requests.get(link)\n",
    "        response.raise_for_status()  # Raise an exception for 4xx or 5xx status codes\n",
    "        soup = BeautifulSoup(response.text, 'html.parser')  # Parse the HTML content\n",
    "        return soup\n",
    "    except requests.RequestException as e:\n",
    "        print(f\"Error fetching page: {e}\")\n",
    "        return None\n"
   ]
  },
  {
   "cell_type": "code",
   "execution_count": 17,
   "metadata": {},
   "outputs": [],
   "source": [
    "def extractArticleLinks(category_link, show_more,max_links=7000,sections=['news']):\n",
    "    article_links = []\n",
    "    domain_url = 'https://www.aljazeera.com/tag/israel-palestine-conflict/'\n",
    "    news_regex = re.compile(r'\\/news\\/\\d+')\n",
    "    \n",
    "    options = Options()\n",
    "    driver = webdriver.Chrome(service = Service(ChromeDriverManager().install()))\n",
    "    wait = WebDriverWait(driver, 2)  # Adjust the timeout as needed\n",
    "    \n",
    "    driver.get(category_link)\n",
    "    for i in range(show_more):\n",
    "        try:\n",
    "            time.sleep(3)\n",
    "            show_more_button = wait.until(EC.element_to_be_clickable((By.CLASS_NAME, \"show-more-button.big-margin\")))\n",
    "                        \n",
    "            #show_more_button = driver.find_element(By.CLASS_NAME, \"screen-reader-text\")\n",
    "            driver.execute_script(\"arguments[0].click();\", show_more_button)\n",
    "        except Exception as e:\n",
    "            print(\"No more 'Show More' buttons to click.\")\n",
    "            break\n",
    "    \n",
    "    while len(article_links) < max_links:\n",
    "        article_tags = driver.find_elements(By.CSS_SELECTOR, \"a.u-clickable-card__link\")\n",
    "        for a_tag in article_tags:\n",
    "            link = a_tag.get_attribute(\"href\")\n",
    "            if any(section in link for section in sections):\n",
    "                if not link.startswith(\"http\"):\n",
    "                    link = domain_url + link\n",
    "                if news_regex.search(link):\n",
    "                    article_links.append(link)\n",
    "                    if len(article_links) >= max_links:\n",
    "                        break\n",
    "\n",
    "\n",
    "    driver.quit()  # Close the WebDriver session\n",
    "    \n",
    "    return article_links[:max_links]  # Return only up to max_links\n"
   ]
  }
 ],
 "metadata": {
  "kernelspec": {
   "display_name": "sim",
   "language": "python",
   "name": "python3"
  },
  "language_info": {
   "codemirror_mode": {
    "name": "ipython",
    "version": 3
   },
   "file_extension": ".py",
   "mimetype": "text/x-python",
   "name": "python",
   "nbconvert_exporter": "python",
   "pygments_lexer": "ipython3",
   "version": "3.11.9"
  }
 },
 "nbformat": 4,
 "nbformat_minor": 2
}
