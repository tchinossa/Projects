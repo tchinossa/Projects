{
 "cells": [
  {
   "cell_type": "code",
   "execution_count": 14,
   "metadata": {},
   "outputs": [],
   "source": [
    "import requests\n",
    "import pprint\n",
    "from bs4 import BeautifulSoup\n",
    "from lxml import html\n",
    "import pandas as pd\n",
    "import re\n",
    "import random\n"
   ]
  },
  {
   "cell_type": "code",
   "execution_count": 15,
   "metadata": {},
   "outputs": [],
   "source": [
    "data = pd.read_csv(\"article_links.csv\")"
   ]
  },
  {
   "cell_type": "code",
   "execution_count": 16,
   "metadata": {},
   "outputs": [],
   "source": [
    "user_agents_list = [\n",
    "    'Mozilla/5.0 (iPad; CPU OS 12_2 like Mac OS X) AppleWebKit/605.1.15 (KHTML, like Gecko) Mobile/15E148',\n",
    "    'Mozilla/5.0 (Macintosh; Intel Mac OS X 10_15_7) AppleWebKit/537.36 (KHTML, like Gecko) Chrome/99.0.4844.83 Safari/537.36',\n",
    "    'Mozilla/5.0 (Windows NT 10.0; Win64; x64) AppleWebKit/537.36 (KHTML, like Gecko) Chrome/99.0.4844.51 Safari/537.36'\n",
    "]\n",
    "\n",
    "def get_article(url):\n",
    "    page = requests.get(url, headers={'User-Agent': random.choice(user_agents_list)})\n",
    "    soup  = BeautifulSoup(page.content, 'html.parser')\n",
    "    article = soup.find_all('p')\n",
    "    return article"
   ]
  },
  {
   "cell_type": "code",
   "execution_count": null,
   "metadata": {},
   "outputs": [],
   "source": [
    "index = 0\n",
    "l= []\n",
    "for url in data['0'].values:\n",
    "    index += 1\n",
    "    if index % 10 == 0:\n",
    "        print(index)\n",
    "    l.append(get_article(url))"
   ]
  },
  {
   "cell_type": "code",
   "execution_count": null,
   "metadata": {},
   "outputs": [],
   "source": [
    "# Function to scrape an individual article\n",
    "def scrapeArticle(link):\n",
    "    parsed_page = requestPage(link)\n",
    "    if parsed_page:\n",
    "        title_element = parsed_page.find('h1', class_='article-heading__title')\n",
    "        if title_element:\n",
    "            title = title_element.text.strip()\n",
    "        else:\n",
    "            title = \"No Title\"\n",
    "\n",
    "        author_element = parsed_page.find('a', class_='author-link')\n",
    "        if author_element:\n",
    "            author = author_element.text.strip()\n",
    "        else:\n",
    "            author = \"Unknown\"\n",
    "\n",
    "        date_element = parsed_page.find('time', class_='date__time')\n",
    "        if date_element and 'datetime' in date_element.attrs:\n",
    "            date = date_element['datetime']\n",
    "        else:\n",
    "            date = \"Unknown\"\n",
    "\n",
    "        content_element = parsed_page.find('div', class_='wysiwyg')\n",
    "        if content_element:\n",
    "            paragraphs = [p.text.strip() for p in content_element.find_all('p')]\n",
    "            content = '\\n'.join(paragraphs)\n",
    "        else:\n",
    "            content = \"No Content\"\n",
    "        \n",
    "        # Create a dictionary to store the scraped data\n",
    "        article_data = {\n",
    "            'Title': title,\n",
    "            'Author': author,\n",
    "            'Date': date,\n",
    "            'Link': link,\n",
    "            'Content': content\n",
    "        }\n",
    "        \n",
    "        return article_data\n",
    "    else:\n",
    "        print(f\"Failed to scrape article: {link}\")\n",
    "        return None\n"
   ]
  },
  {
   "cell_type": "code",
   "execution_count": 32,
   "metadata": {},
   "outputs": [],
   "source": [
    "def extract_date_from_url(url):\n",
    "    # Define the regular expression pattern to match the date format in the URL\n",
    "    date_pattern = r'(\\d{4})/(\\d{1,2})/(\\d{1,2})/'\n",
    "    \n",
    "    # Search for the date pattern in the URL\n",
    "    match = re.search(date_pattern, url)\n",
    "    \n",
    "    if match:\n",
    "        # Extract year, month, and day from the matched groups\n",
    "        year = int(match.group(1))\n",
    "        month = int(match.group(2))\n",
    "        day = int(match.group(3))\n",
    "        \n",
    "        return pd.to_datetime(f'{year}-{month}-{day}').date()\n",
    "    else:\n",
    "        return None\n",
    "\n",
    "# Example usage:\n",
    "data['date'] = [extract_date_from_url(url) for url in data['0'].values]"
   ]
  },
  {
   "cell_type": "code",
   "execution_count": 34,
   "metadata": {},
   "outputs": [],
   "source": [
    "data.to_csv(\"article_links_updated.csv\", index=False)"
   ]
  },
  {
   "cell_type": "code",
   "execution_count": 38,
   "metadata": {},
   "outputs": [],
   "source": [
    "def extract_text(html_content):\n",
    "    # Parse the HTML content\n",
    "    soup = BeautifulSoup(str(html_content), \"html.parser\")\n",
    "    # Extract and return the textual part of the HTML\n",
    "    return soup.get_text(separator=\"\\n\")"
   ]
  },
  {
   "cell_type": "code",
   "execution_count": 39,
   "metadata": {},
   "outputs": [],
   "source": [
    "data['text_up'] = [extract_text(article) for article in data['article'].values]"
   ]
  },
  {
   "cell_type": "code",
   "execution_count": 42,
   "metadata": {},
   "outputs": [],
   "source": [
    "data['text_up'] = data['text_up'].str.replace('\\n', ' ')"
   ]
  },
  {
   "cell_type": "code",
   "execution_count": 45,
   "metadata": {},
   "outputs": [],
   "source": [
    "data.to_csv(\"article_links_updated.csv\", index=False)"
   ]
  }
 ],
 "metadata": {
  "kernelspec": {
   "display_name": "base",
   "language": "python",
   "name": "python3"
  },
  "language_info": {
   "codemirror_mode": {
    "name": "ipython",
    "version": 3
   },
   "file_extension": ".py",
   "mimetype": "text/x-python",
   "name": "python",
   "nbconvert_exporter": "python",
   "pygments_lexer": "ipython3",
   "version": "3.9.13"
  }
 },
 "nbformat": 4,
 "nbformat_minor": 2
}
