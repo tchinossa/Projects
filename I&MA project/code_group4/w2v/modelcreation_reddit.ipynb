{
 "cells": [
  {
   "cell_type": "code",
   "execution_count": 1,
   "metadata": {},
   "outputs": [],
   "source": [
    "import pandas as pd\n",
    "r1 = pd.read_csv('pse_isr_reddit_comment.csv')\n",
    "r2 = pd.read_csv('reddit_opinion_PSE_ISR.csv')\n",
    "\n",
    "reddit = pd.concat((r2.iloc[:,0:5], r1), axis=0)"
   ]
  },
  {
   "cell_type": "code",
   "execution_count": 6,
   "metadata": {},
   "outputs": [],
   "source": [
    "r1.created_time= pd.to_datetime(r1.created_time)"
   ]
  },
  {
   "cell_type": "code",
   "execution_count": 7,
   "metadata": {},
   "outputs": [],
   "source": [
    "r2.created_time= pd.to_datetime(r2.created_time)"
   ]
  },
  {
   "cell_type": "code",
   "execution_count": 15,
   "metadata": {},
   "outputs": [
    {
     "data": {
      "text/plain": [
       "(1992, 24)"
      ]
     },
     "execution_count": 15,
     "metadata": {},
     "output_type": "execute_result"
    }
   ],
   "source": [
    "r2[r2.created_time < '2023-10-01'].shape"
   ]
  },
  {
   "cell_type": "code",
   "execution_count": 22,
   "metadata": {},
   "outputs": [
    {
     "data": {
      "text/html": [
       "<div>\n",
       "<style scoped>\n",
       "    .dataframe tbody tr th:only-of-type {\n",
       "        vertical-align: middle;\n",
       "    }\n",
       "\n",
       "    .dataframe tbody tr th {\n",
       "        vertical-align: top;\n",
       "    }\n",
       "\n",
       "    .dataframe thead th {\n",
       "        text-align: right;\n",
       "    }\n",
       "</style>\n",
       "<table border=\"1\" class=\"dataframe\">\n",
       "  <thead>\n",
       "    <tr style=\"text-align: right;\">\n",
       "      <th></th>\n",
       "      <th>comment_id</th>\n",
       "      <th>score</th>\n",
       "      <th>self_text</th>\n",
       "      <th>subreddit</th>\n",
       "      <th>created_time</th>\n",
       "    </tr>\n",
       "  </thead>\n",
       "  <tbody>\n",
       "    <tr>\n",
       "      <th>0</th>\n",
       "      <td>l0me1zt</td>\n",
       "      <td>1</td>\n",
       "      <td>Arabs can buy land in Israel today, under the ...</td>\n",
       "      <td>IsraelPalestine</td>\n",
       "      <td>2024-04-21 17:23:31</td>\n",
       "    </tr>\n",
       "    <tr>\n",
       "      <th>1</th>\n",
       "      <td>l0me0k3</td>\n",
       "      <td>1</td>\n",
       "      <td>&amp;gt; My bad then, but a major reason as to why...</td>\n",
       "      <td>IsraelPalestine</td>\n",
       "      <td>2024-04-21 17:23:17</td>\n",
       "    </tr>\n",
       "    <tr>\n",
       "      <th>2</th>\n",
       "      <td>l0mdz6a</td>\n",
       "      <td>1</td>\n",
       "      <td>Oooo nice! I mean someone should make use of t...</td>\n",
       "      <td>IsrealPalestineWar_23</td>\n",
       "      <td>2024-04-21 17:23:03</td>\n",
       "    </tr>\n",
       "    <tr>\n",
       "      <th>3</th>\n",
       "      <td>l0mdya0</td>\n",
       "      <td>1</td>\n",
       "      <td>They can try to get a piece from Turkey.</td>\n",
       "      <td>AskMiddleEast</td>\n",
       "      <td>2024-04-21 17:22:54</td>\n",
       "    </tr>\n",
       "    <tr>\n",
       "      <th>4</th>\n",
       "      <td>l0mdxs5</td>\n",
       "      <td>1</td>\n",
       "      <td>You made the right decision.</td>\n",
       "      <td>ActualPublicFreakouts</td>\n",
       "      <td>2024-04-21 17:22:50</td>\n",
       "    </tr>\n",
       "  </tbody>\n",
       "</table>\n",
       "</div>"
      ],
      "text/plain": [
       "  comment_id  score                                          self_text  \\\n",
       "0    l0me1zt      1  Arabs can buy land in Israel today, under the ...   \n",
       "1    l0me0k3      1  &gt; My bad then, but a major reason as to why...   \n",
       "2    l0mdz6a      1  Oooo nice! I mean someone should make use of t...   \n",
       "3    l0mdya0      1           They can try to get a piece from Turkey.   \n",
       "4    l0mdxs5      1                       You made the right decision.   \n",
       "\n",
       "               subreddit         created_time  \n",
       "0        IsraelPalestine  2024-04-21 17:23:31  \n",
       "1        IsraelPalestine  2024-04-21 17:23:17  \n",
       "2  IsrealPalestineWar_23  2024-04-21 17:23:03  \n",
       "3          AskMiddleEast  2024-04-21 17:22:54  \n",
       "4  ActualPublicFreakouts  2024-04-21 17:22:50  "
      ]
     },
     "execution_count": 22,
     "metadata": {},
     "output_type": "execute_result"
    }
   ],
   "source": [
    "reddit.head()"
   ]
  },
  {
   "cell_type": "code",
   "execution_count": 23,
   "metadata": {},
   "outputs": [],
   "source": [
    "reddit_dataset_sample = reddit.sample(frac = 1, random_state = 42)"
   ]
  },
  {
   "cell_type": "code",
   "execution_count": 24,
   "metadata": {},
   "outputs": [],
   "source": [
    "import re\n",
    "from nltk.corpus import stopwords\n",
    "from nltk.stem import WordNetLemmatizer\n",
    "from nltk.tokenize import word_tokenize\n",
    "\n",
    "def preprocessing(corpus):\n",
    "    stop_words = set(stopwords.words('english'))\n",
    "    lemmatizer = WordNetLemmatizer()\n",
    "    corpus = re.sub(r'[^\\w\\s]', '', corpus)\n",
    "    tokens = word_tokenize(corpus)\n",
    "    tokens = [word.lower() for word in tokens]\n",
    "    tokens = [word.replace(',' , '') for word in tokens if word not in stop_words]\n",
    "    tokens = [lemmatizer.lemmatize(word) for word in tokens]\n",
    "    return tokens"
   ]
  },
  {
   "cell_type": "code",
   "execution_count": 28,
   "metadata": {},
   "outputs": [],
   "source": [
    "corpus_processed = [preprocessing(corpus) for corpus in reddit_dataset_sample.self_text.astype(str).values]"
   ]
  },
  {
   "cell_type": "code",
   "execution_count": 29,
   "metadata": {},
   "outputs": [],
   "source": [
    "reddit_dataset_sample['corpus_processed'] = corpus_processed"
   ]
  },
  {
   "cell_type": "code",
   "execution_count": 30,
   "metadata": {},
   "outputs": [
    {
     "data": {
      "text/plain": [
       "(2094237150, 2130400500)"
      ]
     },
     "execution_count": 30,
     "metadata": {},
     "output_type": "execute_result"
    }
   ],
   "source": [
    "from gensim.models import Word2Vec\n",
    "from gensim.models.word2vec import FAST_VERSION\n",
    "from multiprocessing import cpu_count\n",
    "\n",
    "# initialize model\n",
    "\n",
    "w2v_model = Word2Vec(vector_size=100, # vector size\n",
    "                     window=10, # window for sampling\n",
    "                     sample=0.01, # subsampling rate\n",
    "                     epochs=50, # iterations\n",
    "                     negative=10, # negative samples\n",
    "                     min_count=10, # minimum threshold\n",
    "                     workers=cpu_count(), # parallelize to all cores\n",
    "                     hs=0, # no hierarchical softmax when negative sampling is active\n",
    ")\n",
    "\n",
    "# build the vocabulary\n",
    "w2v_model.build_vocab(corpus_processed)\n",
    "\n",
    "# train the model\n",
    "w2v_model.train(corpus_processed,\n",
    "                total_examples=w2v_model.corpus_count,\n",
    "                epochs=w2v_model.epochs)\n"
   ]
  },
  {
   "cell_type": "code",
   "execution_count": 43,
   "metadata": {},
   "outputs": [],
   "source": [
    "model_total.save('model_total')"
   ]
  },
  {
   "cell_type": "markdown",
   "metadata": {},
   "source": [
    "### Overtime Analysis"
   ]
  },
  {
   "cell_type": "code",
   "execution_count": 37,
   "metadata": {},
   "outputs": [],
   "source": [
    "reddit_dataset_sample['created_time'] = pd.to_datetime(reddit_dataset_sample['created_time'], utc=True)\n",
    "\n",
    "reddit_dataset_sample['month'] = reddit_dataset_sample['created_time'].dt.strftime('%Y-%B')\n",
    "\n",
    "# Dictionary to hold the dataframes by month\n",
    "df_dict = {}\n",
    "for month in reddit_dataset_sample['month'].unique():\n",
    "    df_dict[month] = reddit_dataset_sample[reddit_dataset_sample['month'] == month]"
   ]
  },
  {
   "cell_type": "code",
   "execution_count": 38,
   "metadata": {},
   "outputs": [],
   "source": [
    "reddit_dataset_sample.to_csv('reddit_dataset_final_processed.csv')"
   ]
  },
  {
   "cell_type": "code",
   "execution_count": 39,
   "metadata": {},
   "outputs": [
    {
     "name": "stdout",
     "output_type": "stream",
     "text": [
      "doing 2023-November\n",
      "doing 2024-January\n",
      "doing 2023-October\n",
      "doing 2024-March\n",
      "doing 2023-December\n",
      "doing 2024-April\n",
      "doing 2024-February\n",
      "doing 2023-September\n"
     ]
    }
   ],
   "source": [
    "from gensim.models import Word2Vec\n",
    "from gensim.models.word2vec import FAST_VERSION\n",
    "from multiprocessing import cpu_count\n",
    "\n",
    "\n",
    "# initialize model\n",
    "\n",
    "modellist = []\n",
    "\n",
    "\n",
    "for month, corpus in df_dict.items():\n",
    "    print(f'doing {month}')\n",
    "    corpus_processed = corpus['corpus_processed']\n",
    "\n",
    "    w2v_model = Word2Vec(vector_size=100,\n",
    "                        window=10, \n",
    "                        sample=0.01, \n",
    "                        epochs=50, \n",
    "                        negative=10, \n",
    "                        min_count=10, \n",
    "                        workers=cpu_count(), \n",
    "                        hs=0, \n",
    "    )\n",
    "\n",
    "    # build the vocabulary\n",
    "    w2v_model.build_vocab(corpus_processed)\n",
    "\n",
    "    # train the model\n",
    "    w2v_model.train(corpus_processed,\n",
    "                    total_examples=w2v_model.corpus_count,\n",
    "                    epochs=w2v_model.epochs)\n",
    "    modellist.append(w2v_model)\n"
   ]
  },
  {
   "cell_type": "code",
   "execution_count": null,
   "metadata": {},
   "outputs": [],
   "source": [
    "import pickle   \n",
    "with open('model_list', 'wb') as f:\n",
    "    pickle.dump(modellist, f) \n",
    "\n"
   ]
  }
 ],
 "metadata": {
  "kernelspec": {
   "display_name": "base",
   "language": "python",
   "name": "python3"
  },
  "language_info": {
   "codemirror_mode": {
    "name": "ipython",
    "version": 3
   },
   "file_extension": ".py",
   "mimetype": "text/x-python",
   "name": "python",
   "nbconvert_exporter": "python",
   "pygments_lexer": "ipython3",
   "version": "3.9.13"
  }
 },
 "nbformat": 4,
 "nbformat_minor": 2
}
