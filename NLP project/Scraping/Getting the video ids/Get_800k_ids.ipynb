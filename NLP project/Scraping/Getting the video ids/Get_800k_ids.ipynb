{
 "cells": [
  {
   "cell_type": "code",
   "execution_count": 1,
   "id": "9c00c0e7-d5fe-4f71-b660-1e5fbf261a97",
   "metadata": {},
   "outputs": [],
   "source": [
    "import pandas as pd\n",
    "import pickle"
   ]
  },
  {
   "cell_type": "code",
   "execution_count": 3,
   "id": "366eb170-4be1-46aa-bfc1-5a2926d931fe",
   "metadata": {},
   "outputs": [],
   "source": [
    "with open('../../data/chapters.pkl', 'rb') as f:\n",
    "    data = pickle.load(f)"
   ]
  },
  {
   "cell_type": "code",
   "execution_count": 4,
   "id": "075a815c-0305-475b-a4fc-33ff326b21d0",
   "metadata": {},
   "outputs": [],
   "source": [
    "df = pd.DataFrame.from_dict(data, orient='index')"
   ]
  },
  {
   "cell_type": "code",
   "execution_count": 5,
   "id": "3564f73d-286a-4952-ad36-634e7e2df0b7",
   "metadata": {},
   "outputs": [
    {
     "name": "stderr",
     "output_type": "stream",
     "text": [
      "/var/folders/j9/w6m91zxs22l58fngjqhl5xm80000gn/T/ipykernel_42403/2922009860.py:1: FutureWarning: Series.__getitem__ treating keys as positions is deprecated. In a future version, integer keys will always be treated as labels (consistent with DataFrame behavior). To access a value by position, use `ser.iloc[pos]`\n",
      "  df[\"chapters\"][0]\n"
     ]
    },
    {
     "data": {
      "text/plain": [
       "[{'label': 'You won’t look amazing', 'time': 45},\n",
       " {'label': 'Bad energy', 'time': 50},\n",
       " {'label': 'No point', 'time': 56},\n",
       " {'label': 'Don’t bite back', 'time': 85},\n",
       " {'label': 'Nothing to do with you', 'time': 105},\n",
       " {'label': 'The good things', 'time': 120},\n",
       " {'label': 'Collaboration', 'time': 125}]"
      ]
     },
     "execution_count": 5,
     "metadata": {},
     "output_type": "execute_result"
    }
   ],
   "source": [
    "df[\"chapters\"][0]"
   ]
  },
  {
   "cell_type": "code",
   "execution_count": 6,
   "id": "e7d4afa6-c768-4c68-aa8b-739332b25e21",
   "metadata": {},
   "outputs": [],
   "source": [
    "video_ids = list(data.keys())"
   ]
  },
  {
   "cell_type": "code",
   "execution_count": 7,
   "id": "96a1297a-4158-4ad8-99d1-ed607b04b41c",
   "metadata": {},
   "outputs": [
    {
     "data": {
      "text/plain": [
       "['jOiOkFwBpNI',\n",
       " 'vBv5G5emgl0',\n",
       " 'IkrXmYjWgIo',\n",
       " '2rj9fXhUKnI',\n",
       " 'C0sdqnGCE2w',\n",
       " 'TM3WQU1PdmA',\n",
       " 'Ejqk4opUMlQ',\n",
       " 'lxK_CfAX9Kc',\n",
       " 'T4DlP0piQV4',\n",
       " 'J_EjWApTf9I']"
      ]
     },
     "execution_count": 7,
     "metadata": {},
     "output_type": "execute_result"
    }
   ],
   "source": [
    "video_ids[0:10]"
   ]
  },
  {
   "cell_type": "code",
   "execution_count": 9,
   "id": "50c35188-c2e7-4ce0-9a1e-c0cd05c63646",
   "metadata": {},
   "outputs": [],
   "source": [
    "with open(\"resID/800k_ids.pickle\", 'wb') as f:\n",
    "    pickle.dump(video_ids, f)"
   ]
  },
  {
   "cell_type": "code",
   "execution_count": null,
   "id": "2e6451fc-ad7d-4a9c-aeb5-212d85616e20",
   "metadata": {},
   "outputs": [],
   "source": []
  }
 ],
 "metadata": {
  "kernelspec": {
   "display_name": "Python 3 (ipykernel)",
   "language": "python",
   "name": "python3"
  },
  "language_info": {
   "codemirror_mode": {
    "name": "ipython",
    "version": 3
   },
   "file_extension": ".py",
   "mimetype": "text/x-python",
   "name": "python",
   "nbconvert_exporter": "python",
   "pygments_lexer": "ipython3",
   "version": "3.11.5"
  }
 },
 "nbformat": 4,
 "nbformat_minor": 5
}
