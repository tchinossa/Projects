{
 "cells": [
  {
   "cell_type": "markdown",
   "id": "b7d1f6c5-8f1d-45a2-84d0-6e71b7845556",
   "metadata": {},
   "source": [
    "# EVALUATION OF FIXED CHAPTERS"
   ]
  },
  {
   "cell_type": "code",
   "execution_count": 10,
   "id": "a29b4fc3-7c76-4f33-88e3-9cff1af87a8a",
   "metadata": {
    "tags": []
   },
   "outputs": [],
   "source": [
    "import os \n",
    "import pandas as pd\n",
    "import pickle\n",
    "import json\n",
    "import numpy as np\n",
    "import random\n",
    "from tqdm import tqdm\n",
    "import matplotlib.pyplot as plt"
   ]
  },
  {
   "cell_type": "code",
   "execution_count": 11,
   "id": "7c53bafd-cccb-49c7-81fa-e31527e935a3",
   "metadata": {},
   "outputs": [],
   "source": [
    "random.seed(69420)"
   ]
  },
  {
   "cell_type": "markdown",
   "id": "2f9e578d-5d03-4a00-acd8-14020a793527",
   "metadata": {},
   "source": [
    "# Human chapters cleaning"
   ]
  },
  {
   "cell_type": "code",
   "execution_count": 15,
   "id": "79f66510-b2fa-483a-a932-b64aeb661684",
   "metadata": {
    "tags": []
   },
   "outputs": [
    {
     "name": "stdout",
     "output_type": "stream",
     "text": [
      "CPU times: user 8.03 s, sys: 3.92 s, total: 11.9 s\n",
      "Wall time: 12.9 s\n"
     ]
    }
   ],
   "source": [
    "%%time\n",
    "with open('../data/chapters.pkl', 'rb') as f:\n",
    "    human_chapters_raw = pickle.load(f)\n",
    "human_chapters = pd.DataFrame.from_dict(human_chapters_raw, orient='index')\n",
    "human_chapters = human_chapters[[\"chapters\"]]\n",
    "human_chapters.reset_index(inplace=True)\n",
    "human_chapters.rename(columns={'index': 'id'}, inplace=True)\n",
    "human_chapters.rename(columns={'chapters': 'human'}, inplace=True)\n",
    "human_chapters.dropna(inplace=True)"
   ]
  },
  {
   "cell_type": "code",
   "execution_count": 16,
   "id": "44a5bfe1-8b7e-4e14-9997-096e4cd232c8",
   "metadata": {
    "tags": []
   },
   "outputs": [
    {
     "name": "stdout",
     "output_type": "stream",
     "text": [
      "817076\n",
      "817076\n"
     ]
    }
   ],
   "source": [
    "iteratore = human_chapters[\"human\"]\n",
    "print(len(iteratore)) \n",
    "jason = []\n",
    "\n",
    "for video in iteratore:\n",
    "    dict = {}    \n",
    "    for n, item in enumerate(video):\n",
    "        title = item[\"label\"]\n",
    "        dict[f\"{n+1}\"] = title\n",
    "    jason.append(dict)\n",
    "print(len(jason))\n",
    "    "
   ]
  },
  {
   "cell_type": "code",
   "execution_count": 17,
   "id": "10322513-a387-49c7-a349-8cd26ab41a9e",
   "metadata": {
    "tags": []
   },
   "outputs": [],
   "source": [
    "human_chapters[\"human_json\"] = jason"
   ]
  },
  {
   "cell_type": "code",
   "execution_count": 18,
   "id": "afe1a5c3-f459-426f-9745-c78f0649a6c1",
   "metadata": {
    "tags": []
   },
   "outputs": [
    {
     "data": {
      "text/html": [
       "<div>\n",
       "<style scoped>\n",
       "    .dataframe tbody tr th:only-of-type {\n",
       "        vertical-align: middle;\n",
       "    }\n",
       "\n",
       "    .dataframe tbody tr th {\n",
       "        vertical-align: top;\n",
       "    }\n",
       "\n",
       "    .dataframe thead th {\n",
       "        text-align: right;\n",
       "    }\n",
       "</style>\n",
       "<table border=\"1\" class=\"dataframe\">\n",
       "  <thead>\n",
       "    <tr style=\"text-align: right;\">\n",
       "      <th></th>\n",
       "      <th>id</th>\n",
       "      <th>human</th>\n",
       "      <th>human_json</th>\n",
       "    </tr>\n",
       "  </thead>\n",
       "  <tbody>\n",
       "    <tr>\n",
       "      <th>0</th>\n",
       "      <td>jOiOkFwBpNI</td>\n",
       "      <td>[{'label': 'You won’t look amazing', 'time': 4...</td>\n",
       "      <td>{'1': 'You won’t look amazing', '2': 'Bad ener...</td>\n",
       "    </tr>\n",
       "    <tr>\n",
       "      <th>1</th>\n",
       "      <td>vBv5G5emgl0</td>\n",
       "      <td>[{'label': 'Sheldon's Financial Situation - Th...</td>\n",
       "      <td>{'1': 'Sheldon's Financial Situation - The Big...</td>\n",
       "    </tr>\n",
       "    <tr>\n",
       "      <th>2</th>\n",
       "      <td>IkrXmYjWgIo</td>\n",
       "      <td>[{'label': 'Introduction', 'time': 0}, {'label...</td>\n",
       "      <td>{'1': 'Introduction', '2': 'Unboxing', '3': 'U...</td>\n",
       "    </tr>\n",
       "    <tr>\n",
       "      <th>3</th>\n",
       "      <td>2rj9fXhUKnI</td>\n",
       "      <td>[{'label': 'moon sparo - void', 'time': 47}, {...</td>\n",
       "      <td>{'1': 'moon sparo - void', '2': 'moon sparo - ...</td>\n",
       "    </tr>\n",
       "    <tr>\n",
       "      <th>4</th>\n",
       "      <td>C0sdqnGCE2w</td>\n",
       "      <td>[{'label': 'intro', 'time': 0}, {'label': 'all...</td>\n",
       "      <td>{'1': 'intro', '2': 'allergy shots gone bad', ...</td>\n",
       "    </tr>\n",
       "    <tr>\n",
       "      <th>...</th>\n",
       "      <td>...</td>\n",
       "      <td>...</td>\n",
       "      <td>...</td>\n",
       "    </tr>\n",
       "    <tr>\n",
       "      <th>817071</th>\n",
       "      <td>Au6GfZev_kc</td>\n",
       "      <td>[{'label': 'Recording Start - (...after many t...</td>\n",
       "      <td>{'1': 'Recording Start - (...after many techni...</td>\n",
       "    </tr>\n",
       "    <tr>\n",
       "      <th>817072</th>\n",
       "      <td>AuTQwyGsMsU</td>\n",
       "      <td>[{'label': '1 Xerox &amp; Freeman - Karina (Remix ...</td>\n",
       "      <td>{'1': '1 Xerox &amp; Freeman - Karina (Remix 1998'...</td>\n",
       "    </tr>\n",
       "    <tr>\n",
       "      <th>817073</th>\n",
       "      <td>Auflu6XTrnc</td>\n",
       "      <td>[{'label': 'Step 1 - Grip', 'time': 136}, {'la...</td>\n",
       "      <td>{'1': 'Step 1 - Grip', '2': 'Step 2- Setup &amp; S...</td>\n",
       "    </tr>\n",
       "    <tr>\n",
       "      <th>817074</th>\n",
       "      <td>AuHNvEwx-4g</td>\n",
       "      <td>[{'label': 'Intro', 'time': 0}, {'label': 'BTC...</td>\n",
       "      <td>{'1': 'Intro', '2': 'BTC or Fiat pairs explain...</td>\n",
       "    </tr>\n",
       "    <tr>\n",
       "      <th>817075</th>\n",
       "      <td>AunT7EInm-k</td>\n",
       "      <td>[{'label': 'Yes, yes, yes, come', 'time': 0}, ...</td>\n",
       "      <td>{'1': 'Yes, yes, yes, come', '2': 'Impossibly ...</td>\n",
       "    </tr>\n",
       "  </tbody>\n",
       "</table>\n",
       "<p>817076 rows × 3 columns</p>\n",
       "</div>"
      ],
      "text/plain": [
       "                 id                                              human  \\\n",
       "0       jOiOkFwBpNI  [{'label': 'You won’t look amazing', 'time': 4...   \n",
       "1       vBv5G5emgl0  [{'label': 'Sheldon's Financial Situation - Th...   \n",
       "2       IkrXmYjWgIo  [{'label': 'Introduction', 'time': 0}, {'label...   \n",
       "3       2rj9fXhUKnI  [{'label': 'moon sparo - void', 'time': 47}, {...   \n",
       "4       C0sdqnGCE2w  [{'label': 'intro', 'time': 0}, {'label': 'all...   \n",
       "...             ...                                                ...   \n",
       "817071  Au6GfZev_kc  [{'label': 'Recording Start - (...after many t...   \n",
       "817072  AuTQwyGsMsU  [{'label': '1 Xerox & Freeman - Karina (Remix ...   \n",
       "817073  Auflu6XTrnc  [{'label': 'Step 1 - Grip', 'time': 136}, {'la...   \n",
       "817074  AuHNvEwx-4g  [{'label': 'Intro', 'time': 0}, {'label': 'BTC...   \n",
       "817075  AunT7EInm-k  [{'label': 'Yes, yes, yes, come', 'time': 0}, ...   \n",
       "\n",
       "                                               human_json  \n",
       "0       {'1': 'You won’t look amazing', '2': 'Bad ener...  \n",
       "1       {'1': 'Sheldon's Financial Situation - The Big...  \n",
       "2       {'1': 'Introduction', '2': 'Unboxing', '3': 'U...  \n",
       "3       {'1': 'moon sparo - void', '2': 'moon sparo - ...  \n",
       "4       {'1': 'intro', '2': 'allergy shots gone bad', ...  \n",
       "...                                                   ...  \n",
       "817071  {'1': 'Recording Start - (...after many techni...  \n",
       "817072  {'1': '1 Xerox & Freeman - Karina (Remix 1998'...  \n",
       "817073  {'1': 'Step 1 - Grip', '2': 'Step 2- Setup & S...  \n",
       "817074  {'1': 'Intro', '2': 'BTC or Fiat pairs explain...  \n",
       "817075  {'1': 'Yes, yes, yes, come', '2': 'Impossibly ...  \n",
       "\n",
       "[817076 rows x 3 columns]"
      ]
     },
     "execution_count": 18,
     "metadata": {},
     "output_type": "execute_result"
    }
   ],
   "source": [
    "human_chapters"
   ]
  },
  {
   "cell_type": "markdown",
   "id": "52c200a2-5ce2-45a4-bfe9-ad3d754d96e8",
   "metadata": {},
   "source": [
    "### The next part, is to collect sentences to feed to the doc2vec model that we wil need to calcualte the cosine similarity"
   ]
  },
  {
   "cell_type": "markdown",
   "id": "0c04d8f1-3df8-4f6f-b056-98f2e8027a7f",
   "metadata": {},
   "source": [
    "We are sampeling 112000 sentences from all the sentences present in in the human chapters, this is done because we only have 112000 sentences in the in the fixed chapters and we want our doc2vec model to be balanced and trained on the same number of humna mande sentences and machine made sentences. We belive that this will make the model more accurate in our particular use case."
   ]
  },
  {
   "cell_type": "code",
   "execution_count": 19,
   "id": "e61647ee-ff02-4291-b1dc-c9339ffd5984",
   "metadata": {
    "tags": []
   },
   "outputs": [],
   "source": [
    "tutteFrasiUmani = []\n",
    "for vid in human_chapters[\"human_json\"]:\n",
    "    sent = list(vid.values())\n",
    "    for broccolo in sent:\n",
    "        tutteFrasiUmani.append(broccolo)"
   ]
  },
  {
   "cell_type": "code",
   "execution_count": 20,
   "id": "9cfabd3e-1e43-4479-a1b9-8d5d7010a570",
   "metadata": {
    "tags": []
   },
   "outputs": [
    {
     "data": {
      "text/plain": [
       "112000"
      ]
     },
     "execution_count": 20,
     "metadata": {},
     "output_type": "execute_result"
    }
   ],
   "source": [
    "tutteFrasi = random.sample(tutteFrasiUmani, 112000)\n",
    "len(tutteFrasi)"
   ]
  },
  {
   "cell_type": "markdown",
   "id": "5453aebe-ac67-46c2-ae12-d894812e6bf3",
   "metadata": {},
   "source": [
    "# LLAMA chapters cleaning"
   ]
  },
  {
   "cell_type": "code",
   "execution_count": 21,
   "id": "ebdcc2ee-fae5-4fdd-a49b-3b2ddc4af523",
   "metadata": {
    "tags": []
   },
   "outputs": [],
   "source": [
    "directory = '../data/resFixed/'\n",
    "file_names = []\n",
    "file_contents = []\n",
    "\n",
    "for file_name in os.listdir(directory):\n",
    "    file_path = os.path.join(directory, file_name)\n",
    "    if os.path.isfile(file_path):\n",
    "        with open(file_path, 'r', encoding='utf-8') as file:\n",
    "            content = file.read()\n",
    "        file_names.append(file_name[:-5])\n",
    "        file_contents.append(content)\n",
    "\n",
    "fixed_chapters = pd.DataFrame({\n",
    "    'file_name': file_names,\n",
    "    'content': file_contents\n",
    "})\n",
    "fixed_chapters.rename(columns={'file_name': 'id'}, inplace=True)\n",
    "fixed_chapters.rename(columns={'content': 'fixed'}, inplace=True)\n"
   ]
  },
  {
   "cell_type": "code",
   "execution_count": 22,
   "id": "797cbb29-de33-44dd-a514-b690ce913325",
   "metadata": {},
   "outputs": [
    {
     "data": {
      "text/html": [
       "<div>\n",
       "<style scoped>\n",
       "    .dataframe tbody tr th:only-of-type {\n",
       "        vertical-align: middle;\n",
       "    }\n",
       "\n",
       "    .dataframe tbody tr th {\n",
       "        vertical-align: top;\n",
       "    }\n",
       "\n",
       "    .dataframe thead th {\n",
       "        text-align: right;\n",
       "    }\n",
       "</style>\n",
       "<table border=\"1\" class=\"dataframe\">\n",
       "  <thead>\n",
       "    <tr style=\"text-align: right;\">\n",
       "      <th></th>\n",
       "      <th>id</th>\n",
       "      <th>fixed</th>\n",
       "    </tr>\n",
       "  </thead>\n",
       "  <tbody>\n",
       "    <tr>\n",
       "      <th>0</th>\n",
       "      <td>tVAiE-pk7aY</td>\n",
       "      <td>{\\n    \"1\": \"Error processing this chunk...\",\\...</td>\n",
       "    </tr>\n",
       "    <tr>\n",
       "      <th>1</th>\n",
       "      <td>C97vQGjeOXI</td>\n",
       "      <td>{\\n    \"1\": \"There's two main options to pcs t...</td>\n",
       "    </tr>\n",
       "    <tr>\n",
       "      <th>2</th>\n",
       "      <td>zRUk0qHDa_Q</td>\n",
       "      <td>{\\n    \"1\": \"The lightsaber is the blade is ca...</td>\n",
       "    </tr>\n",
       "    <tr>\n",
       "      <th>3</th>\n",
       "      <td>TkFpcVNiZ_E</td>\n",
       "      <td>{\\n    \"1\": \"\\\"I thought I'd share how to make...</td>\n",
       "    </tr>\n",
       "    <tr>\n",
       "      <th>4</th>\n",
       "      <td>uOpAxzHiKW8</td>\n",
       "      <td>{\\n    \"1\": \"The Shaq back pocket belt travel ...</td>\n",
       "    </tr>\n",
       "    <tr>\n",
       "      <th>...</th>\n",
       "      <td>...</td>\n",
       "      <td>...</td>\n",
       "    </tr>\n",
       "    <tr>\n",
       "      <th>19309</th>\n",
       "      <td>NoBCYMwQUTQ</td>\n",
       "      <td>{\\n    \"1\": \"\\\"I'll be teaching the shorty a c...</td>\n",
       "    </tr>\n",
       "    <tr>\n",
       "      <th>19310</th>\n",
       "      <td>TynGofurKPM</td>\n",
       "      <td>{\\n    \"1\": \"Ligue 1 predictions round 50 Cove...</td>\n",
       "    </tr>\n",
       "    <tr>\n",
       "      <th>19311</th>\n",
       "      <td>FhnX9B0An9g</td>\n",
       "      <td>{\\n    \"1\": \"Error processing this chunk...\",\\...</td>\n",
       "    </tr>\n",
       "    <tr>\n",
       "      <th>19312</th>\n",
       "      <td>cHasvMSjMFw</td>\n",
       "      <td>{\\n    \"1\": \"Stretch wrappers are a great way ...</td>\n",
       "    </tr>\n",
       "    <tr>\n",
       "      <th>19313</th>\n",
       "      <td>D1ENGA59vH0</td>\n",
       "      <td>{\\n    \"1\": \"Ryze tie dye is back with a rever...</td>\n",
       "    </tr>\n",
       "  </tbody>\n",
       "</table>\n",
       "<p>19314 rows × 2 columns</p>\n",
       "</div>"
      ],
      "text/plain": [
       "                id                                              fixed\n",
       "0      tVAiE-pk7aY  {\\n    \"1\": \"Error processing this chunk...\",\\...\n",
       "1      C97vQGjeOXI  {\\n    \"1\": \"There's two main options to pcs t...\n",
       "2      zRUk0qHDa_Q  {\\n    \"1\": \"The lightsaber is the blade is ca...\n",
       "3      TkFpcVNiZ_E  {\\n    \"1\": \"\\\"I thought I'd share how to make...\n",
       "4      uOpAxzHiKW8  {\\n    \"1\": \"The Shaq back pocket belt travel ...\n",
       "...            ...                                                ...\n",
       "19309  NoBCYMwQUTQ  {\\n    \"1\": \"\\\"I'll be teaching the shorty a c...\n",
       "19310  TynGofurKPM  {\\n    \"1\": \"Ligue 1 predictions round 50 Cove...\n",
       "19311  FhnX9B0An9g  {\\n    \"1\": \"Error processing this chunk...\",\\...\n",
       "19312  cHasvMSjMFw  {\\n    \"1\": \"Stretch wrappers are a great way ...\n",
       "19313  D1ENGA59vH0  {\\n    \"1\": \"Ryze tie dye is back with a rever...\n",
       "\n",
       "[19314 rows x 2 columns]"
      ]
     },
     "execution_count": 22,
     "metadata": {},
     "output_type": "execute_result"
    }
   ],
   "source": [
    "fixed_chapters"
   ]
  },
  {
   "cell_type": "code",
   "execution_count": 23,
   "id": "4e89bb36-620b-442f-a7d3-3f4d1dc1a6b4",
   "metadata": {
    "tags": []
   },
   "outputs": [
    {
     "data": {
      "text/html": [
       "<div>\n",
       "<style scoped>\n",
       "    .dataframe tbody tr th:only-of-type {\n",
       "        vertical-align: middle;\n",
       "    }\n",
       "\n",
       "    .dataframe tbody tr th {\n",
       "        vertical-align: top;\n",
       "    }\n",
       "\n",
       "    .dataframe thead th {\n",
       "        text-align: right;\n",
       "    }\n",
       "</style>\n",
       "<table border=\"1\" class=\"dataframe\">\n",
       "  <thead>\n",
       "    <tr style=\"text-align: right;\">\n",
       "      <th></th>\n",
       "      <th>id</th>\n",
       "      <th>fixed</th>\n",
       "      <th>fixed_json</th>\n",
       "    </tr>\n",
       "  </thead>\n",
       "  <tbody>\n",
       "    <tr>\n",
       "      <th>0</th>\n",
       "      <td>tVAiE-pk7aY</td>\n",
       "      <td>{\\n    \"1\": \"Error processing this chunk...\",\\...</td>\n",
       "      <td>{'1': 'Error processing this chunk...', '2': '...</td>\n",
       "    </tr>\n",
       "    <tr>\n",
       "      <th>1</th>\n",
       "      <td>C97vQGjeOXI</td>\n",
       "      <td>{\\n    \"1\": \"There's two main options to pcs t...</td>\n",
       "      <td>{'1': 'There's two main options to pcs to germ...</td>\n",
       "    </tr>\n",
       "    <tr>\n",
       "      <th>2</th>\n",
       "      <td>zRUk0qHDa_Q</td>\n",
       "      <td>{\\n    \"1\": \"The lightsaber is the blade is ca...</td>\n",
       "      <td>{'1': 'The lightsaber is the blade is capable ...</td>\n",
       "    </tr>\n",
       "    <tr>\n",
       "      <th>3</th>\n",
       "      <td>TkFpcVNiZ_E</td>\n",
       "      <td>{\\n    \"1\": \"\\\"I thought I'd share how to make...</td>\n",
       "      <td>{'1': '\"I thought I'd share how to make a simp...</td>\n",
       "    </tr>\n",
       "    <tr>\n",
       "      <th>4</th>\n",
       "      <td>uOpAxzHiKW8</td>\n",
       "      <td>{\\n    \"1\": \"The Shaq back pocket belt travel ...</td>\n",
       "      <td>{'1': 'The Shaq back pocket belt travel wallet...</td>\n",
       "    </tr>\n",
       "    <tr>\n",
       "      <th>...</th>\n",
       "      <td>...</td>\n",
       "      <td>...</td>\n",
       "      <td>...</td>\n",
       "    </tr>\n",
       "    <tr>\n",
       "      <th>19309</th>\n",
       "      <td>NoBCYMwQUTQ</td>\n",
       "      <td>{\\n    \"1\": \"\\\"I'll be teaching the shorty a c...</td>\n",
       "      <td>{'1': '\"I'll be teaching the shorty a car whic...</td>\n",
       "    </tr>\n",
       "    <tr>\n",
       "      <th>19310</th>\n",
       "      <td>TynGofurKPM</td>\n",
       "      <td>{\\n    \"1\": \"Ligue 1 predictions round 50 Cove...</td>\n",
       "      <td>{'1': 'Ligue 1 predictions round 50 Coventry C...</td>\n",
       "    </tr>\n",
       "    <tr>\n",
       "      <th>19311</th>\n",
       "      <td>FhnX9B0An9g</td>\n",
       "      <td>{\\n    \"1\": \"Error processing this chunk...\",\\...</td>\n",
       "      <td>{'1': 'Error processing this chunk...', '2': '...</td>\n",
       "    </tr>\n",
       "    <tr>\n",
       "      <th>19312</th>\n",
       "      <td>cHasvMSjMFw</td>\n",
       "      <td>{\\n    \"1\": \"Stretch wrappers are a great way ...</td>\n",
       "      <td>{'1': 'Stretch wrappers are a great way to sav...</td>\n",
       "    </tr>\n",
       "    <tr>\n",
       "      <th>19313</th>\n",
       "      <td>D1ENGA59vH0</td>\n",
       "      <td>{\\n    \"1\": \"Ryze tie dye is back with a rever...</td>\n",
       "      <td>{'1': 'Ryze tie dye is back with a reverse dye...</td>\n",
       "    </tr>\n",
       "  </tbody>\n",
       "</table>\n",
       "<p>19314 rows × 3 columns</p>\n",
       "</div>"
      ],
      "text/plain": [
       "                id                                              fixed  \\\n",
       "0      tVAiE-pk7aY  {\\n    \"1\": \"Error processing this chunk...\",\\...   \n",
       "1      C97vQGjeOXI  {\\n    \"1\": \"There's two main options to pcs t...   \n",
       "2      zRUk0qHDa_Q  {\\n    \"1\": \"The lightsaber is the blade is ca...   \n",
       "3      TkFpcVNiZ_E  {\\n    \"1\": \"\\\"I thought I'd share how to make...   \n",
       "4      uOpAxzHiKW8  {\\n    \"1\": \"The Shaq back pocket belt travel ...   \n",
       "...            ...                                                ...   \n",
       "19309  NoBCYMwQUTQ  {\\n    \"1\": \"\\\"I'll be teaching the shorty a c...   \n",
       "19310  TynGofurKPM  {\\n    \"1\": \"Ligue 1 predictions round 50 Cove...   \n",
       "19311  FhnX9B0An9g  {\\n    \"1\": \"Error processing this chunk...\",\\...   \n",
       "19312  cHasvMSjMFw  {\\n    \"1\": \"Stretch wrappers are a great way ...   \n",
       "19313  D1ENGA59vH0  {\\n    \"1\": \"Ryze tie dye is back with a rever...   \n",
       "\n",
       "                                              fixed_json  \n",
       "0      {'1': 'Error processing this chunk...', '2': '...  \n",
       "1      {'1': 'There's two main options to pcs to germ...  \n",
       "2      {'1': 'The lightsaber is the blade is capable ...  \n",
       "3      {'1': '\"I thought I'd share how to make a simp...  \n",
       "4      {'1': 'The Shaq back pocket belt travel wallet...  \n",
       "...                                                  ...  \n",
       "19309  {'1': '\"I'll be teaching the shorty a car whic...  \n",
       "19310  {'1': 'Ligue 1 predictions round 50 Coventry C...  \n",
       "19311  {'1': 'Error processing this chunk...', '2': '...  \n",
       "19312  {'1': 'Stretch wrappers are a great way to sav...  \n",
       "19313  {'1': 'Ryze tie dye is back with a reverse dye...  \n",
       "\n",
       "[19314 rows x 3 columns]"
      ]
     },
     "execution_count": 23,
     "metadata": {},
     "output_type": "execute_result"
    }
   ],
   "source": [
    "cosini = fixed_chapters[\"fixed\"]\n",
    "lolol = []\n",
    "\n",
    "for vidd in cosini:\n",
    "    try:\n",
    "        parsed_dict = json.loads(vidd)\n",
    "        lolol.append(parsed_dict)\n",
    "    except:\n",
    "        lolol.append(None) \n",
    "    \n",
    "fixed_chapters[\"fixed_json\"] = lolol\n",
    "fixed_chapters.dropna(inplace=True)\n",
    "fixed_chapters"
   ]
  },
  {
   "cell_type": "code",
   "execution_count": 24,
   "id": "7c3ff07c-2d67-4f85-a0f2-2691f8531645",
   "metadata": {},
   "outputs": [],
   "source": [
    "for i in range(len(fixed_chapters)):\n",
    "    if \"Error processing this chunk...\" in set(fixed_chapters[\"fixed_json\"][i].values()):\n",
    "        fixed_chapters[\"fixed_json\"][i] = None"
   ]
  },
  {
   "cell_type": "code",
   "execution_count": 25,
   "id": "d7c99494-3612-4bd1-aaf0-b3a4f026877e",
   "metadata": {},
   "outputs": [],
   "source": [
    "fixed_chapters.dropna(inplace=True)"
   ]
  },
  {
   "cell_type": "code",
   "execution_count": 26,
   "id": "27d4805a-3dab-4753-9830-361773bbecef",
   "metadata": {},
   "outputs": [
    {
     "data": {
      "text/html": [
       "<div>\n",
       "<style scoped>\n",
       "    .dataframe tbody tr th:only-of-type {\n",
       "        vertical-align: middle;\n",
       "    }\n",
       "\n",
       "    .dataframe tbody tr th {\n",
       "        vertical-align: top;\n",
       "    }\n",
       "\n",
       "    .dataframe thead th {\n",
       "        text-align: right;\n",
       "    }\n",
       "</style>\n",
       "<table border=\"1\" class=\"dataframe\">\n",
       "  <thead>\n",
       "    <tr style=\"text-align: right;\">\n",
       "      <th></th>\n",
       "      <th>id</th>\n",
       "      <th>fixed</th>\n",
       "      <th>fixed_json</th>\n",
       "    </tr>\n",
       "  </thead>\n",
       "  <tbody>\n",
       "    <tr>\n",
       "      <th>1</th>\n",
       "      <td>C97vQGjeOXI</td>\n",
       "      <td>{\\n    \"1\": \"There's two main options to pcs t...</td>\n",
       "      <td>{'1': 'There's two main options to pcs to germ...</td>\n",
       "    </tr>\n",
       "    <tr>\n",
       "      <th>2</th>\n",
       "      <td>zRUk0qHDa_Q</td>\n",
       "      <td>{\\n    \"1\": \"The lightsaber is the blade is ca...</td>\n",
       "      <td>{'1': 'The lightsaber is the blade is capable ...</td>\n",
       "    </tr>\n",
       "    <tr>\n",
       "      <th>3</th>\n",
       "      <td>TkFpcVNiZ_E</td>\n",
       "      <td>{\\n    \"1\": \"\\\"I thought I'd share how to make...</td>\n",
       "      <td>{'1': '\"I thought I'd share how to make a simp...</td>\n",
       "    </tr>\n",
       "    <tr>\n",
       "      <th>4</th>\n",
       "      <td>uOpAxzHiKW8</td>\n",
       "      <td>{\\n    \"1\": \"The Shaq back pocket belt travel ...</td>\n",
       "      <td>{'1': 'The Shaq back pocket belt travel wallet...</td>\n",
       "    </tr>\n",
       "    <tr>\n",
       "      <th>5</th>\n",
       "      <td>FDtApfo_hzY</td>\n",
       "      <td>{\\n    \"1\": \"The Showers Pass Utility backpack...</td>\n",
       "      <td>{'1': 'The Showers Pass Utility backpack is a ...</td>\n",
       "    </tr>\n",
       "    <tr>\n",
       "      <th>...</th>\n",
       "      <td>...</td>\n",
       "      <td>...</td>\n",
       "      <td>...</td>\n",
       "    </tr>\n",
       "    <tr>\n",
       "      <th>19308</th>\n",
       "      <td>OxA81RKqQDo</td>\n",
       "      <td>{\\n    \"1\": \"The new Urban Decay Naked honey p...</td>\n",
       "      <td>{'1': 'The new Urban Decay Naked honey palette...</td>\n",
       "    </tr>\n",
       "    <tr>\n",
       "      <th>19309</th>\n",
       "      <td>NoBCYMwQUTQ</td>\n",
       "      <td>{\\n    \"1\": \"\\\"I'll be teaching the shorty a c...</td>\n",
       "      <td>{'1': '\"I'll be teaching the shorty a car whic...</td>\n",
       "    </tr>\n",
       "    <tr>\n",
       "      <th>19310</th>\n",
       "      <td>TynGofurKPM</td>\n",
       "      <td>{\\n    \"1\": \"Ligue 1 predictions round 50 Cove...</td>\n",
       "      <td>{'1': 'Ligue 1 predictions round 50 Coventry C...</td>\n",
       "    </tr>\n",
       "    <tr>\n",
       "      <th>19312</th>\n",
       "      <td>cHasvMSjMFw</td>\n",
       "      <td>{\\n    \"1\": \"Stretch wrappers are a great way ...</td>\n",
       "      <td>{'1': 'Stretch wrappers are a great way to sav...</td>\n",
       "    </tr>\n",
       "    <tr>\n",
       "      <th>19313</th>\n",
       "      <td>D1ENGA59vH0</td>\n",
       "      <td>{\\n    \"1\": \"Ryze tie dye is back with a rever...</td>\n",
       "      <td>{'1': 'Ryze tie dye is back with a reverse dye...</td>\n",
       "    </tr>\n",
       "  </tbody>\n",
       "</table>\n",
       "<p>14096 rows × 3 columns</p>\n",
       "</div>"
      ],
      "text/plain": [
       "                id                                              fixed  \\\n",
       "1      C97vQGjeOXI  {\\n    \"1\": \"There's two main options to pcs t...   \n",
       "2      zRUk0qHDa_Q  {\\n    \"1\": \"The lightsaber is the blade is ca...   \n",
       "3      TkFpcVNiZ_E  {\\n    \"1\": \"\\\"I thought I'd share how to make...   \n",
       "4      uOpAxzHiKW8  {\\n    \"1\": \"The Shaq back pocket belt travel ...   \n",
       "5      FDtApfo_hzY  {\\n    \"1\": \"The Showers Pass Utility backpack...   \n",
       "...            ...                                                ...   \n",
       "19308  OxA81RKqQDo  {\\n    \"1\": \"The new Urban Decay Naked honey p...   \n",
       "19309  NoBCYMwQUTQ  {\\n    \"1\": \"\\\"I'll be teaching the shorty a c...   \n",
       "19310  TynGofurKPM  {\\n    \"1\": \"Ligue 1 predictions round 50 Cove...   \n",
       "19312  cHasvMSjMFw  {\\n    \"1\": \"Stretch wrappers are a great way ...   \n",
       "19313  D1ENGA59vH0  {\\n    \"1\": \"Ryze tie dye is back with a rever...   \n",
       "\n",
       "                                              fixed_json  \n",
       "1      {'1': 'There's two main options to pcs to germ...  \n",
       "2      {'1': 'The lightsaber is the blade is capable ...  \n",
       "3      {'1': '\"I thought I'd share how to make a simp...  \n",
       "4      {'1': 'The Shaq back pocket belt travel wallet...  \n",
       "5      {'1': 'The Showers Pass Utility backpack is a ...  \n",
       "...                                                  ...  \n",
       "19308  {'1': 'The new Urban Decay Naked honey palette...  \n",
       "19309  {'1': '\"I'll be teaching the shorty a car whic...  \n",
       "19310  {'1': 'Ligue 1 predictions round 50 Coventry C...  \n",
       "19312  {'1': 'Stretch wrappers are a great way to sav...  \n",
       "19313  {'1': 'Ryze tie dye is back with a reverse dye...  \n",
       "\n",
       "[14096 rows x 3 columns]"
      ]
     },
     "execution_count": 26,
     "metadata": {},
     "output_type": "execute_result"
    }
   ],
   "source": [
    "fixed_chapters"
   ]
  },
  {
   "cell_type": "code",
   "execution_count": 27,
   "id": "cf8a37dd-8cdb-467b-996f-bf5cab5a1dd7",
   "metadata": {
    "tags": []
   },
   "outputs": [],
   "source": [
    "for vid in fixed_chapters[\"fixed_json\"]:\n",
    "    sent = list(vid.values())\n",
    "    for broccolo in sent:\n",
    "        tutteFrasi.append(broccolo)"
   ]
  },
  {
   "cell_type": "code",
   "execution_count": 28,
   "id": "c03c90e1-2c15-44e4-9071-5dc6848dce15",
   "metadata": {
    "tags": []
   },
   "outputs": [
    {
     "data": {
      "text/plain": [
       "224767"
      ]
     },
     "execution_count": 28,
     "metadata": {},
     "output_type": "execute_result"
    }
   ],
   "source": [
    "len(tutteFrasi)"
   ]
  },
  {
   "cell_type": "markdown",
   "id": "37425b2d-244e-41b3-99fd-64dd25934965",
   "metadata": {},
   "source": [
    "# Merge the 2 dataframes"
   ]
  },
  {
   "cell_type": "code",
   "execution_count": 29,
   "id": "c4fcebdd-aa9d-4145-a509-e50b1436ed68",
   "metadata": {
    "tags": []
   },
   "outputs": [],
   "source": [
    "merged_df = pd.merge(fixed_chapters, human_chapters, on='id', how='inner')"
   ]
  },
  {
   "cell_type": "code",
   "execution_count": 30,
   "id": "ebfd8c24-aaf2-40eb-9067-d30b13851f3c",
   "metadata": {
    "tags": []
   },
   "outputs": [],
   "source": [
    "merged_final = merged_df[[\"id\", \"fixed_json\", \"human_json\"]]"
   ]
  },
  {
   "cell_type": "code",
   "execution_count": 31,
   "id": "c4f666df-a78f-4eac-a531-c72d9bef899c",
   "metadata": {
    "tags": []
   },
   "outputs": [
    {
     "data": {
      "text/html": [
       "<div>\n",
       "<style scoped>\n",
       "    .dataframe tbody tr th:only-of-type {\n",
       "        vertical-align: middle;\n",
       "    }\n",
       "\n",
       "    .dataframe tbody tr th {\n",
       "        vertical-align: top;\n",
       "    }\n",
       "\n",
       "    .dataframe thead th {\n",
       "        text-align: right;\n",
       "    }\n",
       "</style>\n",
       "<table border=\"1\" class=\"dataframe\">\n",
       "  <thead>\n",
       "    <tr style=\"text-align: right;\">\n",
       "      <th></th>\n",
       "      <th>id</th>\n",
       "      <th>fixed_json</th>\n",
       "      <th>human_json</th>\n",
       "    </tr>\n",
       "  </thead>\n",
       "  <tbody>\n",
       "    <tr>\n",
       "      <th>0</th>\n",
       "      <td>C97vQGjeOXI</td>\n",
       "      <td>{'1': 'There's two main options to pcs to germ...</td>\n",
       "      <td>{'1': 'Into to Military Spouse', '2': 'Tell me...</td>\n",
       "    </tr>\n",
       "    <tr>\n",
       "      <th>1</th>\n",
       "      <td>zRUk0qHDa_Q</td>\n",
       "      <td>{'1': 'The lightsaber is the blade is capable ...</td>\n",
       "      <td>{'1': 'Intro', '2': 'Programming The Board', '...</td>\n",
       "    </tr>\n",
       "    <tr>\n",
       "      <th>2</th>\n",
       "      <td>TkFpcVNiZ_E</td>\n",
       "      <td>{'1': '\"I thought I'd share how to make a simp...</td>\n",
       "      <td>{'1': 'Introduction', '2': 'Drawing the Heart'...</td>\n",
       "    </tr>\n",
       "    <tr>\n",
       "      <th>3</th>\n",
       "      <td>uOpAxzHiKW8</td>\n",
       "      <td>{'1': 'The Shaq back pocket belt travel wallet...</td>\n",
       "      <td>{'1': 'Overview', '2': 'Materials, Stitching a...</td>\n",
       "    </tr>\n",
       "    <tr>\n",
       "      <th>4</th>\n",
       "      <td>FDtApfo_hzY</td>\n",
       "      <td>{'1': 'The Showers Pass Utility backpack is a ...</td>\n",
       "      <td>{'1': 'Backpack Specs', '2': 'Pocket Deep Dive...</td>\n",
       "    </tr>\n",
       "    <tr>\n",
       "      <th>...</th>\n",
       "      <td>...</td>\n",
       "      <td>...</td>\n",
       "      <td>...</td>\n",
       "    </tr>\n",
       "    <tr>\n",
       "      <th>14091</th>\n",
       "      <td>OxA81RKqQDo</td>\n",
       "      <td>{'1': 'The new Urban Decay Naked honey palette...</td>\n",
       "      <td>{'1': 'Quad 1 | Looxi Beauty', '2': 'Quad 2 | ...</td>\n",
       "    </tr>\n",
       "    <tr>\n",
       "      <th>14092</th>\n",
       "      <td>NoBCYMwQUTQ</td>\n",
       "      <td>{'1': '\"I'll be teaching the shorty a car whic...</td>\n",
       "      <td>{'1': 'Fidget Move 1 (Charlier Cut', '2': 'Fid...</td>\n",
       "    </tr>\n",
       "    <tr>\n",
       "      <th>14093</th>\n",
       "      <td>TynGofurKPM</td>\n",
       "      <td>{'1': 'Ligue 1 predictions round 50 Coventry C...</td>\n",
       "      <td>{'1': 'Blackpool vs Wycombe Wanderers', '2': '...</td>\n",
       "    </tr>\n",
       "    <tr>\n",
       "      <th>14094</th>\n",
       "      <td>cHasvMSjMFw</td>\n",
       "      <td>{'1': 'Stretch wrappers are a great way to sav...</td>\n",
       "      <td>{'1': 'Intro', '2': 'Manual Stretch Wrappers',...</td>\n",
       "    </tr>\n",
       "    <tr>\n",
       "      <th>14095</th>\n",
       "      <td>D1ENGA59vH0</td>\n",
       "      <td>{'1': 'Ryze tie dye is back with a reverse dye...</td>\n",
       "      <td>{'1': 'Swirling the Shirt', '2': 'Applying the...</td>\n",
       "    </tr>\n",
       "  </tbody>\n",
       "</table>\n",
       "<p>14096 rows × 3 columns</p>\n",
       "</div>"
      ],
      "text/plain": [
       "                id                                         fixed_json  \\\n",
       "0      C97vQGjeOXI  {'1': 'There's two main options to pcs to germ...   \n",
       "1      zRUk0qHDa_Q  {'1': 'The lightsaber is the blade is capable ...   \n",
       "2      TkFpcVNiZ_E  {'1': '\"I thought I'd share how to make a simp...   \n",
       "3      uOpAxzHiKW8  {'1': 'The Shaq back pocket belt travel wallet...   \n",
       "4      FDtApfo_hzY  {'1': 'The Showers Pass Utility backpack is a ...   \n",
       "...            ...                                                ...   \n",
       "14091  OxA81RKqQDo  {'1': 'The new Urban Decay Naked honey palette...   \n",
       "14092  NoBCYMwQUTQ  {'1': '\"I'll be teaching the shorty a car whic...   \n",
       "14093  TynGofurKPM  {'1': 'Ligue 1 predictions round 50 Coventry C...   \n",
       "14094  cHasvMSjMFw  {'1': 'Stretch wrappers are a great way to sav...   \n",
       "14095  D1ENGA59vH0  {'1': 'Ryze tie dye is back with a reverse dye...   \n",
       "\n",
       "                                              human_json  \n",
       "0      {'1': 'Into to Military Spouse', '2': 'Tell me...  \n",
       "1      {'1': 'Intro', '2': 'Programming The Board', '...  \n",
       "2      {'1': 'Introduction', '2': 'Drawing the Heart'...  \n",
       "3      {'1': 'Overview', '2': 'Materials, Stitching a...  \n",
       "4      {'1': 'Backpack Specs', '2': 'Pocket Deep Dive...  \n",
       "...                                                  ...  \n",
       "14091  {'1': 'Quad 1 | Looxi Beauty', '2': 'Quad 2 | ...  \n",
       "14092  {'1': 'Fidget Move 1 (Charlier Cut', '2': 'Fid...  \n",
       "14093  {'1': 'Blackpool vs Wycombe Wanderers', '2': '...  \n",
       "14094  {'1': 'Intro', '2': 'Manual Stretch Wrappers',...  \n",
       "14095  {'1': 'Swirling the Shirt', '2': 'Applying the...  \n",
       "\n",
       "[14096 rows x 3 columns]"
      ]
     },
     "execution_count": 31,
     "metadata": {},
     "output_type": "execute_result"
    }
   ],
   "source": [
    "merged_final"
   ]
  },
  {
   "cell_type": "markdown",
   "id": "4fdcb272-4a1b-4eed-aecb-f411b00fb936",
   "metadata": {},
   "source": [
    "# Chapter comparison"
   ]
  },
  {
   "cell_type": "markdown",
   "id": "4defa44a-bf4d-48c3-b06a-9376ce8ef9d7",
   "metadata": {},
   "source": [
    "## Number of chapters"
   ]
  },
  {
   "cell_type": "code",
   "execution_count": 32,
   "id": "776d3940-2c5c-4e3d-a5e6-0558d2cb27e5",
   "metadata": {
    "tags": []
   },
   "outputs": [],
   "source": [
    "len_data = []\n",
    "for i in range(len(merged_final[\"human_json\"])):\n",
    "    fixed = merged_final[\"fixed_json\"][i]\n",
    "    human = merged_final[\"human_json\"][i]\n",
    "    len_diff = np.abs(len(fixed) - len(human))\n",
    "    len_data.append(len_diff)"
   ]
  },
  {
   "cell_type": "code",
   "execution_count": 33,
   "id": "cb6e3550-a958-46e4-a403-ac471688bef8",
   "metadata": {
    "tags": []
   },
   "outputs": [
    {
     "data": {
      "text/plain": [
       "3.290649829738933"
      ]
     },
     "execution_count": 33,
     "metadata": {},
     "output_type": "execute_result"
    }
   ],
   "source": [
    "mean = sum(len_data)/len(len_data)\n",
    "mean"
   ]
  },
  {
   "cell_type": "code",
   "execution_count": 34,
   "id": "abb1077d-d967-4fc9-90c7-b991fac93168",
   "metadata": {},
   "outputs": [
    {
     "data": {
      "text/plain": [
       "3.0"
      ]
     },
     "execution_count": 34,
     "metadata": {},
     "output_type": "execute_result"
    }
   ],
   "source": [
    "median = np.median(len_data)\n",
    "median"
   ]
  },
  {
   "cell_type": "code",
   "execution_count": 35,
   "id": "dfdf3386-af34-4536-8e81-dca49165324b",
   "metadata": {},
   "outputs": [
    {
     "data": {
      "text/plain": [
       "3.299879263428242"
      ]
     },
     "execution_count": 35,
     "metadata": {},
     "output_type": "execute_result"
    }
   ],
   "source": [
    "stdev = np.std(len_data)\n",
    "stdev"
   ]
  },
  {
   "cell_type": "code",
   "execution_count": 36,
   "id": "5ad8f2fa-1ab0-44ad-84db-b03ef70056ee",
   "metadata": {
    "tags": []
   },
   "outputs": [
    {
     "name": "stderr",
     "output_type": "stream",
     "text": [
      "/var/folders/j9/w6m91zxs22l58fngjqhl5xm80000gn/T/ipykernel_41432/2542374804.py:1: SettingWithCopyWarning: \n",
      "A value is trying to be set on a copy of a slice from a DataFrame.\n",
      "Try using .loc[row_indexer,col_indexer] = value instead\n",
      "\n",
      "See the caveats in the documentation: https://pandas.pydata.org/pandas-docs/stable/user_guide/indexing.html#returning-a-view-versus-a-copy\n",
      "  merged_final.loc[:, \"len_diff\"] = len_data\n"
     ]
    }
   ],
   "source": [
    "merged_final.loc[:, \"len_diff\"] = len_data"
   ]
  },
  {
   "cell_type": "code",
   "execution_count": 37,
   "id": "2f6d5f33-32cd-44db-b565-5fdda06b8498",
   "metadata": {
    "tags": []
   },
   "outputs": [
    {
     "data": {
      "text/html": [
       "<div>\n",
       "<style scoped>\n",
       "    .dataframe tbody tr th:only-of-type {\n",
       "        vertical-align: middle;\n",
       "    }\n",
       "\n",
       "    .dataframe tbody tr th {\n",
       "        vertical-align: top;\n",
       "    }\n",
       "\n",
       "    .dataframe thead th {\n",
       "        text-align: right;\n",
       "    }\n",
       "</style>\n",
       "<table border=\"1\" class=\"dataframe\">\n",
       "  <thead>\n",
       "    <tr style=\"text-align: right;\">\n",
       "      <th></th>\n",
       "      <th>id</th>\n",
       "      <th>fixed_json</th>\n",
       "      <th>human_json</th>\n",
       "      <th>len_diff</th>\n",
       "    </tr>\n",
       "  </thead>\n",
       "  <tbody>\n",
       "    <tr>\n",
       "      <th>0</th>\n",
       "      <td>C97vQGjeOXI</td>\n",
       "      <td>{'1': 'There's two main options to pcs to germ...</td>\n",
       "      <td>{'1': 'Into to Military Spouse', '2': 'Tell me...</td>\n",
       "      <td>10</td>\n",
       "    </tr>\n",
       "    <tr>\n",
       "      <th>1</th>\n",
       "      <td>zRUk0qHDa_Q</td>\n",
       "      <td>{'1': 'The lightsaber is the blade is capable ...</td>\n",
       "      <td>{'1': 'Intro', '2': 'Programming The Board', '...</td>\n",
       "      <td>2</td>\n",
       "    </tr>\n",
       "    <tr>\n",
       "      <th>2</th>\n",
       "      <td>TkFpcVNiZ_E</td>\n",
       "      <td>{'1': '\"I thought I'd share how to make a simp...</td>\n",
       "      <td>{'1': 'Introduction', '2': 'Drawing the Heart'...</td>\n",
       "      <td>1</td>\n",
       "    </tr>\n",
       "    <tr>\n",
       "      <th>3</th>\n",
       "      <td>uOpAxzHiKW8</td>\n",
       "      <td>{'1': 'The Shaq back pocket belt travel wallet...</td>\n",
       "      <td>{'1': 'Overview', '2': 'Materials, Stitching a...</td>\n",
       "      <td>2</td>\n",
       "    </tr>\n",
       "    <tr>\n",
       "      <th>4</th>\n",
       "      <td>FDtApfo_hzY</td>\n",
       "      <td>{'1': 'The Showers Pass Utility backpack is a ...</td>\n",
       "      <td>{'1': 'Backpack Specs', '2': 'Pocket Deep Dive...</td>\n",
       "      <td>4</td>\n",
       "    </tr>\n",
       "    <tr>\n",
       "      <th>...</th>\n",
       "      <td>...</td>\n",
       "      <td>...</td>\n",
       "      <td>...</td>\n",
       "      <td>...</td>\n",
       "    </tr>\n",
       "    <tr>\n",
       "      <th>14091</th>\n",
       "      <td>OxA81RKqQDo</td>\n",
       "      <td>{'1': 'The new Urban Decay Naked honey palette...</td>\n",
       "      <td>{'1': 'Quad 1 | Looxi Beauty', '2': 'Quad 2 | ...</td>\n",
       "      <td>5</td>\n",
       "    </tr>\n",
       "    <tr>\n",
       "      <th>14092</th>\n",
       "      <td>NoBCYMwQUTQ</td>\n",
       "      <td>{'1': '\"I'll be teaching the shorty a car whic...</td>\n",
       "      <td>{'1': 'Fidget Move 1 (Charlier Cut', '2': 'Fid...</td>\n",
       "      <td>5</td>\n",
       "    </tr>\n",
       "    <tr>\n",
       "      <th>14093</th>\n",
       "      <td>TynGofurKPM</td>\n",
       "      <td>{'1': 'Ligue 1 predictions round 50 Coventry C...</td>\n",
       "      <td>{'1': 'Blackpool vs Wycombe Wanderers', '2': '...</td>\n",
       "      <td>3</td>\n",
       "    </tr>\n",
       "    <tr>\n",
       "      <th>14094</th>\n",
       "      <td>cHasvMSjMFw</td>\n",
       "      <td>{'1': 'Stretch wrappers are a great way to sav...</td>\n",
       "      <td>{'1': 'Intro', '2': 'Manual Stretch Wrappers',...</td>\n",
       "      <td>2</td>\n",
       "    </tr>\n",
       "    <tr>\n",
       "      <th>14095</th>\n",
       "      <td>D1ENGA59vH0</td>\n",
       "      <td>{'1': 'Ryze tie dye is back with a reverse dye...</td>\n",
       "      <td>{'1': 'Swirling the Shirt', '2': 'Applying the...</td>\n",
       "      <td>2</td>\n",
       "    </tr>\n",
       "  </tbody>\n",
       "</table>\n",
       "<p>14096 rows × 4 columns</p>\n",
       "</div>"
      ],
      "text/plain": [
       "                id                                         fixed_json  \\\n",
       "0      C97vQGjeOXI  {'1': 'There's two main options to pcs to germ...   \n",
       "1      zRUk0qHDa_Q  {'1': 'The lightsaber is the blade is capable ...   \n",
       "2      TkFpcVNiZ_E  {'1': '\"I thought I'd share how to make a simp...   \n",
       "3      uOpAxzHiKW8  {'1': 'The Shaq back pocket belt travel wallet...   \n",
       "4      FDtApfo_hzY  {'1': 'The Showers Pass Utility backpack is a ...   \n",
       "...            ...                                                ...   \n",
       "14091  OxA81RKqQDo  {'1': 'The new Urban Decay Naked honey palette...   \n",
       "14092  NoBCYMwQUTQ  {'1': '\"I'll be teaching the shorty a car whic...   \n",
       "14093  TynGofurKPM  {'1': 'Ligue 1 predictions round 50 Coventry C...   \n",
       "14094  cHasvMSjMFw  {'1': 'Stretch wrappers are a great way to sav...   \n",
       "14095  D1ENGA59vH0  {'1': 'Ryze tie dye is back with a reverse dye...   \n",
       "\n",
       "                                              human_json  len_diff  \n",
       "0      {'1': 'Into to Military Spouse', '2': 'Tell me...        10  \n",
       "1      {'1': 'Intro', '2': 'Programming The Board', '...         2  \n",
       "2      {'1': 'Introduction', '2': 'Drawing the Heart'...         1  \n",
       "3      {'1': 'Overview', '2': 'Materials, Stitching a...         2  \n",
       "4      {'1': 'Backpack Specs', '2': 'Pocket Deep Dive...         4  \n",
       "...                                                  ...       ...  \n",
       "14091  {'1': 'Quad 1 | Looxi Beauty', '2': 'Quad 2 | ...         5  \n",
       "14092  {'1': 'Fidget Move 1 (Charlier Cut', '2': 'Fid...         5  \n",
       "14093  {'1': 'Blackpool vs Wycombe Wanderers', '2': '...         3  \n",
       "14094  {'1': 'Intro', '2': 'Manual Stretch Wrappers',...         2  \n",
       "14095  {'1': 'Swirling the Shirt', '2': 'Applying the...         2  \n",
       "\n",
       "[14096 rows x 4 columns]"
      ]
     },
     "execution_count": 37,
     "metadata": {},
     "output_type": "execute_result"
    }
   ],
   "source": [
    "merged_final"
   ]
  },
  {
   "cell_type": "code",
   "execution_count": 39,
   "id": "06cf5515-ebfd-4bce-9177-19a6992cd1a8",
   "metadata": {},
   "outputs": [
    {
     "data": {
      "image/png": "[encoded data removed]",
      "text/plain": [
       "<Figure size 640x480 with 1 Axes>"
      ]
     },
     "metadata": {},
     "output_type": "display_data"
    }
   ],
   "source": [
    "lens = merged_final['len_diff']\n",
    "value_counts = lens.value_counts().sort_index()\n",
    "\n",
    "plt.bar(value_counts.index, value_counts.values, alpha=0.7)\n",
    "plt.xlabel('Difference (in absolute value)')\n",
    "plt.ylabel('Count')\n",
    "plt.title('Fixed Chapters: Difference in number of chapters found \\nby the model and number of human made chapters')\n",
    "#plt.show()\n",
    "plt.savefig(\"resScore/Fixed chapters distribution.png\", dpi = 400)"
   ]
  },
  {
   "cell_type": "markdown",
   "id": "164da680-2c43-432d-9b5b-8583e7468e84",
   "metadata": {},
   "source": [
    "## Traning doc2vec model"
   ]
  },
  {
   "cell_type": "markdown",
   "id": "d17ab5cc-9ac1-4931-965e-3a5175a8ca80",
   "metadata": {},
   "source": [
    "### Traning the model takes about 2 minutes, if you dont want to train it you can simply load it from here:"
   ]
  },
  {
   "cell_type": "code",
   "execution_count": 42,
   "id": "e25cddbb-cceb-4b5d-bf9f-28ca297a5da6",
   "metadata": {},
   "outputs": [],
   "source": [
    "from gensim.models import Doc2Vec\n",
    "from gensim.models.doc2vec import TaggedDocument\n",
    "\n",
    "model_file_path = \"doc2vec/Fixed/doc2vec_modelFixed\"\n",
    "\n",
    "# Load the saved Doc2Vec model\n",
    "model = Doc2Vec.load(model_file_path)"
   ]
  },
  {
   "cell_type": "markdown",
   "id": "cdf39c4f-0df2-46de-a46f-9a11f7259ff4",
   "metadata": {},
   "source": [
    "If you load the model please use this to check that it was loaded successfully"
   ]
  },
  {
   "cell_type": "code",
   "execution_count": 43,
   "id": "c2a92556-0f70-4967-a7db-27a11cc08ddf",
   "metadata": {},
   "outputs": [
    {
     "name": "stdout",
     "output_type": "stream",
     "text": [
      "Model loaded successfully.\n",
      "Model vocabulary loaded successfully.\n"
     ]
    }
   ],
   "source": [
    "if isinstance(model, Doc2Vec):\n",
    "    print(\"Model loaded successfully.\")\n",
    "\n",
    "    # Check if the vocabulary is loaded\n",
    "    if len(model.wv) > 0:\n",
    "        print(\"Model vocabulary loaded successfully.\")\n",
    "    else:\n",
    "        print(\"Model vocabulary is empty.\")\n",
    "else:\n",
    "    print(\"Loaded model is not a Doc2Vec instance.\")"
   ]
  },
  {
   "cell_type": "markdown",
   "id": "4c76296f-84e2-4292-97bf-0313ce0507cd",
   "metadata": {},
   "source": [
    "### Train doc2vec model"
   ]
  },
  {
   "cell_type": "code",
   "execution_count": 40,
   "id": "7a0231ff-4fb9-40bb-af1c-f533cef0ca6a",
   "metadata": {
    "tags": []
   },
   "outputs": [
    {
     "name": "stdout",
     "output_type": "stream",
     "text": [
      "CPU times: user 2min 1s, sys: 13.4 s, total: 2min 14s\n",
      "Wall time: 1min 29s\n"
     ]
    }
   ],
   "source": [
    "%%time\n",
    "from gensim.models import Doc2Vec\n",
    "from gensim.models.doc2vec import TaggedDocument\n",
    "\n",
    "tagged_data = [TaggedDocument(words=s.split(), tags=[str(i)]) for i, s in enumerate(tutteFrasi)]\n",
    "\n",
    "vector_size = 100\n",
    "window_size = 5\n",
    "min_count = 1\n",
    "epochs = 20\n",
    "\n",
    "model = Doc2Vec(vector_size=vector_size, window=window_size, min_count=min_count, epochs=epochs)\n",
    "model.build_vocab(tagged_data)\n",
    "model.train(tagged_data, total_examples=model.corpus_count, epochs=model.epochs)"
   ]
  },
  {
   "cell_type": "code",
   "execution_count": 41,
   "id": "c5640ced-d58d-4a04-93cd-93ea953dea0c",
   "metadata": {
    "tags": []
   },
   "outputs": [],
   "source": [
    "# Define the file path where you want to save the trained model\n",
    "model_file_path = \"doc2vec/Fixed/doc2vec_modelFixed\"\n",
    "\n",
    "# Save the trained Doc2Vec model\n",
    "model.save(model_file_path)"
   ]
  },
  {
   "cell_type": "markdown",
   "id": "a9924c90-f326-4eab-b358-9110ce450545",
   "metadata": {},
   "source": [
    "## Cosine Similarity Score"
   ]
  },
  {
   "cell_type": "code",
   "execution_count": 29,
   "id": "47d0fcf7-e021-404f-af84-0ff1c5f0b5b9",
   "metadata": {
    "tags": []
   },
   "outputs": [],
   "source": [
    "from itertools import combinations_with_replacement\n",
    "\n",
    "def insert_empties_between(lst, x):\n",
    "    n = len(lst)\n",
    "    \n",
    "    # Generate all ways to distribute x zeros in n+1 positions\n",
    "    distributions = combinations_with_replacement(range(n+1), x)\n",
    "    \n",
    "    results = []\n",
    "    for distribution in distributions:\n",
    "        result = []\n",
    "        elements_iter = iter(lst)\n",
    "        for pos in range(n):\n",
    "            for el in distribution:\n",
    "                if el == pos:\n",
    "                    result.append('')\n",
    "            result.append(next(elements_iter))\n",
    "        for el in distribution:\n",
    "            if el == n:\n",
    "                result.append('')\n",
    "        results.append(result)\n",
    "            \n",
    "    return results"
   ]
  },
  {
   "cell_type": "code",
   "execution_count": 30,
   "id": "02777ff0-6daa-4095-82f9-98fbf0331fa0",
   "metadata": {
    "tags": []
   },
   "outputs": [],
   "source": [
    "def compute_similarity_gen(x, y, verbose = False):\n",
    "    '''\n",
    "    x = list of chapters, human\n",
    "    y = list of chapters, llama\n",
    "    '''\n",
    "    def compute_similarity(x, y, min_len):\n",
    "        \n",
    "#        print(x)\n",
    "#        print(y)\n",
    "        pair_scores = []\n",
    "        for human_sent, llama_sent in zip(x, y):\n",
    "            \n",
    "            # Generate embeddings for sentences\n",
    "#            print(human_sent.split())\n",
    "#            print(llama_sent.split())\n",
    "            human_emb = model.infer_vector(human_sent.split())\n",
    "            llama_emb = model.infer_vector(llama_sent.split())\n",
    "#            print(human_emb)\n",
    "#            print(llama_emb)\n",
    "        \n",
    "            # Compute cosine similarity between sentence embeddings\n",
    "            similarity_score = cosine_similarity([human_emb], [llama_emb])[0][0]\n",
    "            pair_scores.append(similarity_score)\n",
    "#            print(pair_scores)\n",
    "        overall_video_score = sum(pair_scores)/min_len\n",
    "        return overall_video_score\n",
    "    \n",
    "    if len(x) == len(y):\n",
    "        min_len = len(x)\n",
    "        return compute_similarity(x,y,min_len)\n",
    "    if len(x) < len(y):\n",
    "        min_len = len(x)\n",
    "        diff = len(y) - len(x)\n",
    "        similarity = 0\n",
    "        elem = None\n",
    "        for el in insert_empties_between(x, diff):\n",
    "            if compute_similarity(el,y, min_len) > similarity:\n",
    "                similarity = compute_similarity(el,y, min_len)\n",
    "                elem = el\n",
    "        if verbose == True:\n",
    "            print(similarity, elem, y)\n",
    "    if len(x) > len(y):\n",
    "        min_len = len(y)\n",
    "        diff = len(x) - len(y)\n",
    "        similarity = 0\n",
    "        elem = None\n",
    "        for el in insert_empties_between(y, diff):\n",
    "            if compute_similarity(x, el, min_len) > similarity:\n",
    "                similarity = compute_similarity(x, el, min_len)\n",
    "                elem = el\n",
    "        if verbose == True:\n",
    "            print(similarity, x, elem)\n",
    "        \n",
    "    return similarity"
   ]
  },
  {
   "cell_type": "markdown",
   "id": "52588ede-9dc7-4b88-bd37-52e9ea1db8d6",
   "metadata": {},
   "source": [
    "### Since the calculation of the cosine similarity takes a long time, we saved the \"cosine_df\" to a csv (FIXED.csv) and later there is an option to load it back in to check out the cosine similarities"
   ]
  },
  {
   "cell_type": "code",
   "execution_count": 31,
   "id": "15c7d4b0-dd2f-4e11-af56-90c9af2b06fe",
   "metadata": {
    "tags": []
   },
   "outputs": [
    {
     "name": "stderr",
     "output_type": "stream",
     "text": [
      "100%|██████████| 14096/14096 [1:37:04<00:00,  2.42it/s]  \n"
     ]
    }
   ],
   "source": [
    "from sklearn.metrics.pairwise import cosine_similarity\n",
    "\n",
    "fixed_json = merged_final[\"fixed_json\"]\n",
    "human_json = merged_final[\"human_json\"]\n",
    "diff = merged_final['len_diff'].apply(np.abs)\n",
    "\n",
    "indeces = list(fixed_json.index)\n",
    "\n",
    "all_scores = []\n",
    "\n",
    "for pointer in tqdm(indeces):\n",
    "    if diff[pointer] <= 4:\n",
    "        human_d = human_json[pointer]\n",
    "        fixed_d = fixed_json[pointer]\n",
    "        human_chap_list = list(human_d.values())\n",
    "        fixed_chap_list = list(fixed_d.values())\n",
    "        # Compute embeddings and cosine similarity for each pair of sentences\n",
    "        all_scores.append(compute_similarity_gen(human_chap_list, fixed_chap_list))"
   ]
  },
  {
   "cell_type": "code",
   "execution_count": 32,
   "id": "2b3c50f8-619c-4330-9878-3f0c246335bc",
   "metadata": {
    "tags": []
   },
   "outputs": [
    {
     "data": {
      "text/plain": [
       "0.2952209205410764"
      ]
     },
     "execution_count": 32,
     "metadata": {},
     "output_type": "execute_result"
    }
   ],
   "source": [
    "np.mean(all_scores)"
   ]
  },
  {
   "cell_type": "code",
   "execution_count": 33,
   "id": "8a26502c-ded1-4004-90d1-bd4721459130",
   "metadata": {},
   "outputs": [
    {
     "data": {
      "text/plain": [
       "0.2907950757071376"
      ]
     },
     "execution_count": 33,
     "metadata": {},
     "output_type": "execute_result"
    }
   ],
   "source": [
    "np.median(all_scores)"
   ]
  },
  {
   "cell_type": "code",
   "execution_count": 34,
   "id": "69434426-79b2-46e2-b136-051dc84f198f",
   "metadata": {},
   "outputs": [
    {
     "name": "stderr",
     "output_type": "stream",
     "text": [
      "/var/folders/j9/w6m91zxs22l58fngjqhl5xm80000gn/T/ipykernel_29965/278484341.py:2: SettingWithCopyWarning: \n",
      "A value is trying to be set on a copy of a slice from a DataFrame.\n",
      "Try using .loc[row_indexer,col_indexer] = value instead\n",
      "\n",
      "See the caveats in the documentation: https://pandas.pydata.org/pandas-docs/stable/user_guide/indexing.html#returning-a-view-versus-a-copy\n",
      "  cosine_df.loc[:, \"cosine similarity\"] = all_scores\n"
     ]
    }
   ],
   "source": [
    "cosine_df = merged_final[merged_final[\"len_diff\"] <= 4]\n",
    "cosine_df.loc[:, \"cosine similarity\"] = all_scores"
   ]
  },
  {
   "cell_type": "code",
   "execution_count": 35,
   "id": "515bc470-bf04-49ec-b299-3a2668b63e6e",
   "metadata": {},
   "outputs": [
    {
     "data": {
      "text/html": [
       "<div>\n",
       "<style scoped>\n",
       "    .dataframe tbody tr th:only-of-type {\n",
       "        vertical-align: middle;\n",
       "    }\n",
       "\n",
       "    .dataframe tbody tr th {\n",
       "        vertical-align: top;\n",
       "    }\n",
       "\n",
       "    .dataframe thead th {\n",
       "        text-align: right;\n",
       "    }\n",
       "</style>\n",
       "<table border=\"1\" class=\"dataframe\">\n",
       "  <thead>\n",
       "    <tr style=\"text-align: right;\">\n",
       "      <th></th>\n",
       "      <th>id</th>\n",
       "      <th>fixed_json</th>\n",
       "      <th>human_json</th>\n",
       "      <th>len_diff</th>\n",
       "      <th>cosine similarity</th>\n",
       "    </tr>\n",
       "  </thead>\n",
       "  <tbody>\n",
       "    <tr>\n",
       "      <th>1</th>\n",
       "      <td>zRUk0qHDa_Q</td>\n",
       "      <td>{'1': 'The lightsaber is the blade is capable ...</td>\n",
       "      <td>{'1': 'Intro', '2': 'Programming The Board', '...</td>\n",
       "      <td>2</td>\n",
       "      <td>0.257915</td>\n",
       "    </tr>\n",
       "    <tr>\n",
       "      <th>2</th>\n",
       "      <td>TkFpcVNiZ_E</td>\n",
       "      <td>{'1': '\"I thought I'd share how to make a simp...</td>\n",
       "      <td>{'1': 'Introduction', '2': 'Drawing the Heart'...</td>\n",
       "      <td>1</td>\n",
       "      <td>0.312235</td>\n",
       "    </tr>\n",
       "    <tr>\n",
       "      <th>3</th>\n",
       "      <td>uOpAxzHiKW8</td>\n",
       "      <td>{'1': 'The Shaq back pocket belt travel wallet...</td>\n",
       "      <td>{'1': 'Overview', '2': 'Materials, Stitching a...</td>\n",
       "      <td>2</td>\n",
       "      <td>0.410135</td>\n",
       "    </tr>\n",
       "    <tr>\n",
       "      <th>4</th>\n",
       "      <td>FDtApfo_hzY</td>\n",
       "      <td>{'1': 'The Showers Pass Utility backpack is a ...</td>\n",
       "      <td>{'1': 'Backpack Specs', '2': 'Pocket Deep Dive...</td>\n",
       "      <td>4</td>\n",
       "      <td>0.380430</td>\n",
       "    </tr>\n",
       "    <tr>\n",
       "      <th>8</th>\n",
       "      <td>HT5t4SoSxis</td>\n",
       "      <td>{'1': 'My overprotective dad is going to fight...</td>\n",
       "      <td>{'1': 'Fight Teaser', '2': 'Making my sister's...</td>\n",
       "      <td>2</td>\n",
       "      <td>0.359139</td>\n",
       "    </tr>\n",
       "    <tr>\n",
       "      <th>...</th>\n",
       "      <td>...</td>\n",
       "      <td>...</td>\n",
       "      <td>...</td>\n",
       "      <td>...</td>\n",
       "      <td>...</td>\n",
       "    </tr>\n",
       "    <tr>\n",
       "      <th>14087</th>\n",
       "      <td>j7fkadELAoI</td>\n",
       "      <td>{'1': 'Enterprise Hosting is tailored for high...</td>\n",
       "      <td>{'1': 'Enterprise WordPress Hosting', '2': 'Wh...</td>\n",
       "      <td>1</td>\n",
       "      <td>0.262413</td>\n",
       "    </tr>\n",
       "    <tr>\n",
       "      <th>14088</th>\n",
       "      <td>_7EdUl58gks</td>\n",
       "      <td>{'1': 'I'm terribly excited to find out and be...</td>\n",
       "      <td>{'1': 'Tom Holland', '2': 'Sebastian Stan', '3...</td>\n",
       "      <td>1</td>\n",
       "      <td>0.406526</td>\n",
       "    </tr>\n",
       "    <tr>\n",
       "      <th>14093</th>\n",
       "      <td>TynGofurKPM</td>\n",
       "      <td>{'1': 'Ligue 1 predictions round 50 Coventry C...</td>\n",
       "      <td>{'1': 'Blackpool vs Wycombe Wanderers', '2': '...</td>\n",
       "      <td>3</td>\n",
       "      <td>0.363208</td>\n",
       "    </tr>\n",
       "    <tr>\n",
       "      <th>14094</th>\n",
       "      <td>cHasvMSjMFw</td>\n",
       "      <td>{'1': 'Stretch wrappers are a great way to sav...</td>\n",
       "      <td>{'1': 'Intro', '2': 'Manual Stretch Wrappers',...</td>\n",
       "      <td>2</td>\n",
       "      <td>0.453151</td>\n",
       "    </tr>\n",
       "    <tr>\n",
       "      <th>14095</th>\n",
       "      <td>D1ENGA59vH0</td>\n",
       "      <td>{'1': 'Ryze tie dye is back with a reverse dye...</td>\n",
       "      <td>{'1': 'Swirling the Shirt', '2': 'Applying the...</td>\n",
       "      <td>2</td>\n",
       "      <td>0.533091</td>\n",
       "    </tr>\n",
       "  </tbody>\n",
       "</table>\n",
       "<p>10737 rows × 5 columns</p>\n",
       "</div>"
      ],
      "text/plain": [
       "                id                                         fixed_json  \\\n",
       "1      zRUk0qHDa_Q  {'1': 'The lightsaber is the blade is capable ...   \n",
       "2      TkFpcVNiZ_E  {'1': '\"I thought I'd share how to make a simp...   \n",
       "3      uOpAxzHiKW8  {'1': 'The Shaq back pocket belt travel wallet...   \n",
       "4      FDtApfo_hzY  {'1': 'The Showers Pass Utility backpack is a ...   \n",
       "8      HT5t4SoSxis  {'1': 'My overprotective dad is going to fight...   \n",
       "...            ...                                                ...   \n",
       "14087  j7fkadELAoI  {'1': 'Enterprise Hosting is tailored for high...   \n",
       "14088  _7EdUl58gks  {'1': 'I'm terribly excited to find out and be...   \n",
       "14093  TynGofurKPM  {'1': 'Ligue 1 predictions round 50 Coventry C...   \n",
       "14094  cHasvMSjMFw  {'1': 'Stretch wrappers are a great way to sav...   \n",
       "14095  D1ENGA59vH0  {'1': 'Ryze tie dye is back with a reverse dye...   \n",
       "\n",
       "                                              human_json  len_diff  \\\n",
       "1      {'1': 'Intro', '2': 'Programming The Board', '...         2   \n",
       "2      {'1': 'Introduction', '2': 'Drawing the Heart'...         1   \n",
       "3      {'1': 'Overview', '2': 'Materials, Stitching a...         2   \n",
       "4      {'1': 'Backpack Specs', '2': 'Pocket Deep Dive...         4   \n",
       "8      {'1': 'Fight Teaser', '2': 'Making my sister's...         2   \n",
       "...                                                  ...       ...   \n",
       "14087  {'1': 'Enterprise WordPress Hosting', '2': 'Wh...         1   \n",
       "14088  {'1': 'Tom Holland', '2': 'Sebastian Stan', '3...         1   \n",
       "14093  {'1': 'Blackpool vs Wycombe Wanderers', '2': '...         3   \n",
       "14094  {'1': 'Intro', '2': 'Manual Stretch Wrappers',...         2   \n",
       "14095  {'1': 'Swirling the Shirt', '2': 'Applying the...         2   \n",
       "\n",
       "       cosine similarity  \n",
       "1               0.257915  \n",
       "2               0.312235  \n",
       "3               0.410135  \n",
       "4               0.380430  \n",
       "8               0.359139  \n",
       "...                  ...  \n",
       "14087           0.262413  \n",
       "14088           0.406526  \n",
       "14093           0.363208  \n",
       "14094           0.453151  \n",
       "14095           0.533091  \n",
       "\n",
       "[10737 rows x 5 columns]"
      ]
     },
     "execution_count": 35,
     "metadata": {},
     "output_type": "execute_result"
    }
   ],
   "source": [
    "cosine_df"
   ]
  },
  {
   "cell_type": "code",
   "execution_count": 36,
   "id": "6c549f4d-2e1b-45af-926a-1999dd2abdbe",
   "metadata": {},
   "outputs": [],
   "source": [
    "cosine_df.to_csv(\"resScore/FIXED.csv\")"
   ]
  },
  {
   "cell_type": "markdown",
   "id": "e85d9f62-343b-4ba0-a519-b15264aeb074",
   "metadata": {},
   "source": [
    "## Here is the cell to load back in the cosine similarities"
   ]
  },
  {
   "cell_type": "code",
   "execution_count": 44,
   "id": "e60e995e-9472-4010-ad29-32f342e036a6",
   "metadata": {},
   "outputs": [],
   "source": [
    "cosine_df = pd.read_csv(\"resScore/FIXED.csv\")"
   ]
  },
  {
   "cell_type": "code",
   "execution_count": 46,
   "id": "72f4a4be-507b-483b-9e17-95765f497c6c",
   "metadata": {},
   "outputs": [
    {
     "data": {
      "image/png": "[encoded data removed]",
      "text/plain": [
       "<Figure size 640x480 with 1 Axes>"
      ]
     },
     "metadata": {},
     "output_type": "display_data"
    }
   ],
   "source": [
    "lens = cosine_df[\"cosine similarity\"]\n",
    "\n",
    "# Define the bins\n",
    "bins = np.arange(0, 1.1, 0.1)  # Create bins from 0 to 1 with a width of 0.1\n",
    "\n",
    "# Bin the data\n",
    "binned_data = pd.cut(lens, bins=bins, include_lowest=True)\n",
    "\n",
    "# Count the values in each bin\n",
    "value_counts = binned_data.value_counts().sort_index()\n",
    "\n",
    "# Plot the binned data\n",
    "plt.bar(value_counts.index.astype(str), value_counts.values, alpha=0.7)\n",
    "\n",
    "# Define the custom x-axis labels\n",
    "x_labels = ['[0.0, 0.1]', '(0.1, 0.2]', '(0.2, 0.3]', '(0.3, 0.4]', '(0.4, 0.5]', \n",
    "            '(0.5, 0.6]', '(0.6, 0.7]', '(0.7, 0.8]', '(0.8, 0.9]', '(0.9, 1.0]']\n",
    "x_ticks = [0, 0.2, 0.4, 0.6, 0.8, 1.0]\n",
    "\n",
    "# Get the actual positions of these labels in the bins\n",
    "bin_positions = [0, 2, 4, 6, 8, 10]  # Adjust these positions if necessary\n",
    "\n",
    "plt.xticks(bin_positions, x_ticks)\n",
    "\n",
    "plt.xlabel('Cosine similarity')\n",
    "plt.ylabel('Count')\n",
    "plt.title('Fixed Chapters: Cosine similarity distribution')\n",
    "\n",
    "# Save the plot\n",
    "plt.savefig(\"resScore/Fixed chapters cosine.png\", dpi=400)"
   ]
  },
  {
   "cell_type": "code",
   "execution_count": null,
   "id": "d737f386-9ae7-476c-af8a-80dec18aab75",
   "metadata": {},
   "outputs": [],
   "source": []
  }
 ],
 "metadata": {
  "kernelspec": {
   "display_name": "Python 3 (ipykernel)",
   "language": "python",
   "name": "python3"
  },
  "language_info": {
   "codemirror_mode": {
    "name": "ipython",
    "version": 3
   },
   "file_extension": ".py",
   "mimetype": "text/x-python",
   "name": "python",
   "nbconvert_exporter": "python",
   "pygments_lexer": "ipython3",
   "version": "3.11.5"
  }
 },
 "nbformat": 4,
 "nbformat_minor": 5
}
