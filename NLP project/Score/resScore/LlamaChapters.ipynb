{
 "cells": [
  {
   "cell_type": "markdown",
   "id": "d9b3b34e-e5da-463c-8f89-4b73c0d9ca9f",
   "metadata": {},
   "source": [
    "# EVALUATION OF LLAMA CHAPTERS"
   ]
  },
  {
   "cell_type": "code",
   "execution_count": 1,
   "id": "a29b4fc3-7c76-4f33-88e3-9cff1af87a8a",
   "metadata": {
    "tags": []
   },
   "outputs": [],
   "source": [
    "import os \n",
    "import pandas as pd\n",
    "import pickle\n",
    "import json\n",
    "import numpy as np\n",
    "import random\n",
    "from tqdm import tqdm\n",
    "import matplotlib.pyplot as plt"
   ]
  },
  {
   "cell_type": "code",
   "execution_count": 2,
   "id": "7c53bafd-cccb-49c7-81fa-e31527e935a3",
   "metadata": {},
   "outputs": [],
   "source": [
    "random.seed(69420)"
   ]
  },
  {
   "cell_type": "markdown",
   "id": "2f9e578d-5d03-4a00-acd8-14020a793527",
   "metadata": {},
   "source": [
    "# Human chapters cleaning"
   ]
  },
  {
   "cell_type": "code",
   "execution_count": 3,
   "id": "79f66510-b2fa-483a-a932-b64aeb661684",
   "metadata": {
    "tags": []
   },
   "outputs": [
    {
     "name": "stdout",
     "output_type": "stream",
     "text": [
      "CPU times: user 9.28 s, sys: 14.1 s, total: 23.4 s\n",
      "Wall time: 29.3 s\n"
     ]
    }
   ],
   "source": [
    "%%time\n",
    "with open('../data/chapters.pkl', 'rb') as f:\n",
    "    human_chapters_raw = pickle.load(f)\n",
    "human_chapters = pd.DataFrame.from_dict(human_chapters_raw, orient='index')\n",
    "human_chapters = human_chapters[[\"chapters\"]]\n",
    "human_chapters.reset_index(inplace=True)\n",
    "human_chapters.rename(columns={'index': 'id'}, inplace=True)\n",
    "human_chapters.rename(columns={'chapters': 'human'}, inplace=True)\n",
    "human_chapters.dropna(inplace=True)"
   ]
  },
  {
   "cell_type": "code",
   "execution_count": 4,
   "id": "44a5bfe1-8b7e-4e14-9997-096e4cd232c8",
   "metadata": {
    "tags": []
   },
   "outputs": [
    {
     "name": "stdout",
     "output_type": "stream",
     "text": [
      "817076\n",
      "817076\n"
     ]
    }
   ],
   "source": [
    "iteratore = human_chapters[\"human\"]\n",
    "print(len(iteratore)) \n",
    "jason = []\n",
    "\n",
    "for video in iteratore:\n",
    "    dict = {}    \n",
    "    for n, item in enumerate(video):\n",
    "        title = item[\"label\"]\n",
    "        dict[f\"{n+1}\"] = title\n",
    "    jason.append(dict)\n",
    "print(len(jason))\n",
    "    "
   ]
  },
  {
   "cell_type": "code",
   "execution_count": 5,
   "id": "10322513-a387-49c7-a349-8cd26ab41a9e",
   "metadata": {
    "tags": []
   },
   "outputs": [],
   "source": [
    "human_chapters[\"human_json\"] = jason"
   ]
  },
  {
   "cell_type": "code",
   "execution_count": 6,
   "id": "afe1a5c3-f459-426f-9745-c78f0649a6c1",
   "metadata": {
    "tags": []
   },
   "outputs": [
    {
     "data": {
      "text/html": [
       "<div>\n",
       "<style scoped>\n",
       "    .dataframe tbody tr th:only-of-type {\n",
       "        vertical-align: middle;\n",
       "    }\n",
       "\n",
       "    .dataframe tbody tr th {\n",
       "        vertical-align: top;\n",
       "    }\n",
       "\n",
       "    .dataframe thead th {\n",
       "        text-align: right;\n",
       "    }\n",
       "</style>\n",
       "<table border=\"1\" class=\"dataframe\">\n",
       "  <thead>\n",
       "    <tr style=\"text-align: right;\">\n",
       "      <th></th>\n",
       "      <th>id</th>\n",
       "      <th>human</th>\n",
       "      <th>human_json</th>\n",
       "    </tr>\n",
       "  </thead>\n",
       "  <tbody>\n",
       "    <tr>\n",
       "      <th>0</th>\n",
       "      <td>jOiOkFwBpNI</td>\n",
       "      <td>[{'label': 'You won’t look amazing', 'time': 4...</td>\n",
       "      <td>{'1': 'You won’t look amazing', '2': 'Bad ener...</td>\n",
       "    </tr>\n",
       "    <tr>\n",
       "      <th>1</th>\n",
       "      <td>vBv5G5emgl0</td>\n",
       "      <td>[{'label': 'Sheldon's Financial Situation - Th...</td>\n",
       "      <td>{'1': 'Sheldon's Financial Situation - The Big...</td>\n",
       "    </tr>\n",
       "    <tr>\n",
       "      <th>2</th>\n",
       "      <td>IkrXmYjWgIo</td>\n",
       "      <td>[{'label': 'Introduction', 'time': 0}, {'label...</td>\n",
       "      <td>{'1': 'Introduction', '2': 'Unboxing', '3': 'U...</td>\n",
       "    </tr>\n",
       "    <tr>\n",
       "      <th>3</th>\n",
       "      <td>2rj9fXhUKnI</td>\n",
       "      <td>[{'label': 'moon sparo - void', 'time': 47}, {...</td>\n",
       "      <td>{'1': 'moon sparo - void', '2': 'moon sparo - ...</td>\n",
       "    </tr>\n",
       "    <tr>\n",
       "      <th>4</th>\n",
       "      <td>C0sdqnGCE2w</td>\n",
       "      <td>[{'label': 'intro', 'time': 0}, {'label': 'all...</td>\n",
       "      <td>{'1': 'intro', '2': 'allergy shots gone bad', ...</td>\n",
       "    </tr>\n",
       "    <tr>\n",
       "      <th>...</th>\n",
       "      <td>...</td>\n",
       "      <td>...</td>\n",
       "      <td>...</td>\n",
       "    </tr>\n",
       "    <tr>\n",
       "      <th>817071</th>\n",
       "      <td>Au6GfZev_kc</td>\n",
       "      <td>[{'label': 'Recording Start - (...after many t...</td>\n",
       "      <td>{'1': 'Recording Start - (...after many techni...</td>\n",
       "    </tr>\n",
       "    <tr>\n",
       "      <th>817072</th>\n",
       "      <td>AuTQwyGsMsU</td>\n",
       "      <td>[{'label': '1 Xerox &amp; Freeman - Karina (Remix ...</td>\n",
       "      <td>{'1': '1 Xerox &amp; Freeman - Karina (Remix 1998'...</td>\n",
       "    </tr>\n",
       "    <tr>\n",
       "      <th>817073</th>\n",
       "      <td>Auflu6XTrnc</td>\n",
       "      <td>[{'label': 'Step 1 - Grip', 'time': 136}, {'la...</td>\n",
       "      <td>{'1': 'Step 1 - Grip', '2': 'Step 2- Setup &amp; S...</td>\n",
       "    </tr>\n",
       "    <tr>\n",
       "      <th>817074</th>\n",
       "      <td>AuHNvEwx-4g</td>\n",
       "      <td>[{'label': 'Intro', 'time': 0}, {'label': 'BTC...</td>\n",
       "      <td>{'1': 'Intro', '2': 'BTC or Fiat pairs explain...</td>\n",
       "    </tr>\n",
       "    <tr>\n",
       "      <th>817075</th>\n",
       "      <td>AunT7EInm-k</td>\n",
       "      <td>[{'label': 'Yes, yes, yes, come', 'time': 0}, ...</td>\n",
       "      <td>{'1': 'Yes, yes, yes, come', '2': 'Impossibly ...</td>\n",
       "    </tr>\n",
       "  </tbody>\n",
       "</table>\n",
       "<p>817076 rows × 3 columns</p>\n",
       "</div>"
      ],
      "text/plain": [
       "                 id                                              human  \\\n",
       "0       jOiOkFwBpNI  [{'label': 'You won’t look amazing', 'time': 4...   \n",
       "1       vBv5G5emgl0  [{'label': 'Sheldon's Financial Situation - Th...   \n",
       "2       IkrXmYjWgIo  [{'label': 'Introduction', 'time': 0}, {'label...   \n",
       "3       2rj9fXhUKnI  [{'label': 'moon sparo - void', 'time': 47}, {...   \n",
       "4       C0sdqnGCE2w  [{'label': 'intro', 'time': 0}, {'label': 'all...   \n",
       "...             ...                                                ...   \n",
       "817071  Au6GfZev_kc  [{'label': 'Recording Start - (...after many t...   \n",
       "817072  AuTQwyGsMsU  [{'label': '1 Xerox & Freeman - Karina (Remix ...   \n",
       "817073  Auflu6XTrnc  [{'label': 'Step 1 - Grip', 'time': 136}, {'la...   \n",
       "817074  AuHNvEwx-4g  [{'label': 'Intro', 'time': 0}, {'label': 'BTC...   \n",
       "817075  AunT7EInm-k  [{'label': 'Yes, yes, yes, come', 'time': 0}, ...   \n",
       "\n",
       "                                               human_json  \n",
       "0       {'1': 'You won’t look amazing', '2': 'Bad ener...  \n",
       "1       {'1': 'Sheldon's Financial Situation - The Big...  \n",
       "2       {'1': 'Introduction', '2': 'Unboxing', '3': 'U...  \n",
       "3       {'1': 'moon sparo - void', '2': 'moon sparo - ...  \n",
       "4       {'1': 'intro', '2': 'allergy shots gone bad', ...  \n",
       "...                                                   ...  \n",
       "817071  {'1': 'Recording Start - (...after many techni...  \n",
       "817072  {'1': '1 Xerox & Freeman - Karina (Remix 1998'...  \n",
       "817073  {'1': 'Step 1 - Grip', '2': 'Step 2- Setup & S...  \n",
       "817074  {'1': 'Intro', '2': 'BTC or Fiat pairs explain...  \n",
       "817075  {'1': 'Yes, yes, yes, come', '2': 'Impossibly ...  \n",
       "\n",
       "[817076 rows x 3 columns]"
      ]
     },
     "execution_count": 6,
     "metadata": {},
     "output_type": "execute_result"
    }
   ],
   "source": [
    "human_chapters"
   ]
  },
  {
   "cell_type": "markdown",
   "id": "f5ac44bf-e5a1-4ae8-a7b7-17da738fc399",
   "metadata": {},
   "source": [
    "### The next part, is to collect sentences to feed to the doc2vec model that we wil need to calcualte the cosine similarity"
   ]
  },
  {
   "cell_type": "markdown",
   "id": "77e0bc61-c180-4f0a-a8c0-fec156c36a24",
   "metadata": {},
   "source": [
    "We are sampeling 62000 sentences from all the sentences present in in the human chapters, this is done because we only have 62000 sentences in the in the llama chapters and we want our doc2vec model to be balanced and trained on the same number of humna mande sentences and machine made sentences. We belive that this will make the model more accurate in our particular use case."
   ]
  },
  {
   "cell_type": "code",
   "execution_count": 7,
   "id": "e61647ee-ff02-4291-b1dc-c9339ffd5984",
   "metadata": {
    "tags": []
   },
   "outputs": [],
   "source": [
    "tutteFrasiUmani = []\n",
    "for vid in human_chapters[\"human_json\"]:\n",
    "    sent = list(vid.values())\n",
    "    for broccolo in sent:\n",
    "        tutteFrasiUmani.append(broccolo)"
   ]
  },
  {
   "cell_type": "code",
   "execution_count": 8,
   "id": "9cfabd3e-1e43-4479-a1b9-8d5d7010a570",
   "metadata": {
    "tags": []
   },
   "outputs": [
    {
     "data": {
      "text/plain": [
       "62000"
      ]
     },
     "execution_count": 8,
     "metadata": {},
     "output_type": "execute_result"
    }
   ],
   "source": [
    "tutteFrasi = random.sample(tutteFrasiUmani, 62000)\n",
    "len(tutteFrasi)"
   ]
  },
  {
   "cell_type": "markdown",
   "id": "5453aebe-ac67-46c2-ae12-d894812e6bf3",
   "metadata": {},
   "source": [
    "# LLAMA chapters cleaning"
   ]
  },
  {
   "cell_type": "code",
   "execution_count": 9,
   "id": "ebdcc2ee-fae5-4fdd-a49b-3b2ddc4af523",
   "metadata": {
    "tags": []
   },
   "outputs": [],
   "source": [
    "directory = '../data/resLlama'\n",
    "file_names = []\n",
    "file_contents = []\n",
    "\n",
    "for file_name in os.listdir(directory):\n",
    "    file_path = os.path.join(directory, file_name)\n",
    "    if os.path.isfile(file_path):\n",
    "        with open(file_path, 'r', encoding='utf-8') as file:\n",
    "            content = file.read()\n",
    "        file_names.append(file_name[:-4])\n",
    "        file_contents.append(content)\n",
    "\n",
    "llama_chapters = pd.DataFrame({\n",
    "    'file_name': file_names,\n",
    "    'content': file_contents\n",
    "})\n",
    "llama_chapters.rename(columns={'file_name': 'id'}, inplace=True)\n",
    "llama_chapters.rename(columns={'content': 'llama'}, inplace=True)\n"
   ]
  },
  {
   "cell_type": "code",
   "execution_count": 10,
   "id": "9e38d2af-ebdb-40e7-91f6-2e4d7a80b8ad",
   "metadata": {},
   "outputs": [],
   "source": [
    "def clean(sentence):\n",
    "    index = sentence.find(\"{\")\n",
    "    return sentence[index:]\n",
    "\n",
    "def clean2(sentence):\n",
    "    if sentence.endswith(\"}\"):\n",
    "        pass\n",
    "    else:\n",
    "        sentence = sentence + \"\\n}\"\n",
    "    return sentence\n",
    "\n",
    "def clean3(sentence):\n",
    "    index = sentence.find(\"}\")\n",
    "    return sentence[:index+1]\n",
    "\n",
    "llama_chapters[\"llama_clean\"] = llama_chapters[\"llama\"].apply(clean)\n",
    "llama_chapters[\"llama_clean2\"] = llama_chapters[\"llama_clean\"].apply(clean2)\n",
    "llama_chapters[\"llama_clean3\"] = llama_chapters[\"llama_clean2\"].apply(clean3)"
   ]
  },
  {
   "cell_type": "code",
   "execution_count": 11,
   "id": "4e89bb36-620b-442f-a7d3-3f4d1dc1a6b4",
   "metadata": {
    "tags": []
   },
   "outputs": [],
   "source": [
    "cosini = llama_chapters[\"llama_clean3\"]\n",
    "lolol = []\n",
    "\n",
    "for vidd in cosini:\n",
    "    try:\n",
    "        parsed_dict = json.loads(vidd)\n",
    "        lolol.append(parsed_dict)\n",
    "    except:\n",
    "        lolol.append(None) \n",
    "    \n",
    "    "
   ]
  },
  {
   "cell_type": "code",
   "execution_count": 12,
   "id": "bb07683b-b296-4e0c-a1a8-c85c1eec1568",
   "metadata": {
    "tags": []
   },
   "outputs": [],
   "source": [
    "llama_chapters[\"llama_json\"] = lolol"
   ]
  },
  {
   "cell_type": "code",
   "execution_count": 13,
   "id": "18f3c747-37f5-4fbd-aef8-0d1d61db4c22",
   "metadata": {
    "tags": []
   },
   "outputs": [],
   "source": [
    "llama_chapters.dropna(inplace=True)"
   ]
  },
  {
   "cell_type": "code",
   "execution_count": 14,
   "id": "56f7ddc6-8473-4bde-8e0f-6d84e4785c0d",
   "metadata": {
    "tags": []
   },
   "outputs": [
    {
     "data": {
      "text/html": [
       "<div>\n",
       "<style scoped>\n",
       "    .dataframe tbody tr th:only-of-type {\n",
       "        vertical-align: middle;\n",
       "    }\n",
       "\n",
       "    .dataframe tbody tr th {\n",
       "        vertical-align: top;\n",
       "    }\n",
       "\n",
       "    .dataframe thead th {\n",
       "        text-align: right;\n",
       "    }\n",
       "</style>\n",
       "<table border=\"1\" class=\"dataframe\">\n",
       "  <thead>\n",
       "    <tr style=\"text-align: right;\">\n",
       "      <th></th>\n",
       "      <th>id</th>\n",
       "      <th>llama</th>\n",
       "      <th>llama_clean</th>\n",
       "      <th>llama_clean2</th>\n",
       "      <th>llama_clean3</th>\n",
       "      <th>llama_json</th>\n",
       "    </tr>\n",
       "  </thead>\n",
       "  <tbody>\n",
       "    <tr>\n",
       "      <th>0</th>\n",
       "      <td>jKUYFmSn5Eo</td>\n",
       "      <td>{\\n\"1\": \"Introduction and Sponsorship\",\\n\"2\": ...</td>\n",
       "      <td>{\\n\"1\": \"Introduction and Sponsorship\",\\n\"2\": ...</td>\n",
       "      <td>{\\n\"1\": \"Introduction and Sponsorship\",\\n\"2\": ...</td>\n",
       "      <td>{\\n\"1\": \"Introduction and Sponsorship\",\\n\"2\": ...</td>\n",
       "      <td>{'1': 'Introduction and Sponsorship', '2': 'Rh...</td>\n",
       "    </tr>\n",
       "    <tr>\n",
       "      <th>1</th>\n",
       "      <td>da-frvR3iG8</td>\n",
       "      <td>{\\n\"1\": \"Introduction to the new Lego Star War...</td>\n",
       "      <td>{\\n\"1\": \"Introduction to the new Lego Star War...</td>\n",
       "      <td>{\\n\"1\": \"Introduction to the new Lego Star War...</td>\n",
       "      <td>{\\n\"1\": \"Introduction to the new Lego Star War...</td>\n",
       "      <td>{'1': 'Introduction to the new Lego Star Wars ...</td>\n",
       "    </tr>\n",
       "    <tr>\n",
       "      <th>2</th>\n",
       "      <td>pbzj6mvaHb8</td>\n",
       "      <td>{\\n\"1\": \"Introduction to the Audi R8 and its u...</td>\n",
       "      <td>{\\n\"1\": \"Introduction to the Audi R8 and its u...</td>\n",
       "      <td>{\\n\"1\": \"Introduction to the Audi R8 and its u...</td>\n",
       "      <td>{\\n\"1\": \"Introduction to the Audi R8 and its u...</td>\n",
       "      <td>{'1': 'Introduction to the Audi R8 and its uni...</td>\n",
       "    </tr>\n",
       "    <tr>\n",
       "      <th>3</th>\n",
       "      <td>RdaVNt-WcWY</td>\n",
       "      <td>{\\n    \"1\": \"Jorge Garcia's Post-Lost Life: Fr...</td>\n",
       "      <td>{\\n    \"1\": \"Jorge Garcia's Post-Lost Life: Fr...</td>\n",
       "      <td>{\\n    \"1\": \"Jorge Garcia's Post-Lost Life: Fr...</td>\n",
       "      <td>{\\n    \"1\": \"Jorge Garcia's Post-Lost Life: Fr...</td>\n",
       "      <td>{'1': 'Jorge Garcia's Post-Lost Life: From Fri...</td>\n",
       "    </tr>\n",
       "    <tr>\n",
       "      <th>4</th>\n",
       "      <td>BIPUrV4aaFs</td>\n",
       "      <td>{\\n    \"1\": \"Introduction and Budget\",\\n    \"2...</td>\n",
       "      <td>{\\n    \"1\": \"Introduction and Budget\",\\n    \"2...</td>\n",
       "      <td>{\\n    \"1\": \"Introduction and Budget\",\\n    \"2...</td>\n",
       "      <td>{\\n    \"1\": \"Introduction and Budget\",\\n    \"2...</td>\n",
       "      <td>{'1': 'Introduction and Budget', '2': 'Venue a...</td>\n",
       "    </tr>\n",
       "    <tr>\n",
       "      <th>...</th>\n",
       "      <td>...</td>\n",
       "      <td>...</td>\n",
       "      <td>...</td>\n",
       "      <td>...</td>\n",
       "      <td>...</td>\n",
       "      <td>...</td>\n",
       "    </tr>\n",
       "    <tr>\n",
       "      <th>8647</th>\n",
       "      <td>mnkw9v5MyNY</td>\n",
       "      <td>{\\n    \"1\": \"Morning Routine and Garden Plans\"...</td>\n",
       "      <td>{\\n    \"1\": \"Morning Routine and Garden Plans\"...</td>\n",
       "      <td>{\\n    \"1\": \"Morning Routine and Garden Plans\"...</td>\n",
       "      <td>{\\n    \"1\": \"Morning Routine and Garden Plans\"...</td>\n",
       "      <td>{'1': 'Morning Routine and Garden Plans', '2':...</td>\n",
       "    </tr>\n",
       "    <tr>\n",
       "      <th>8648</th>\n",
       "      <td>KnfJUpwF1Gk</td>\n",
       "      <td>{\\n    \"1\": \"Morning Routine and Work Prep\",\\n...</td>\n",
       "      <td>{\\n    \"1\": \"Morning Routine and Work Prep\",\\n...</td>\n",
       "      <td>{\\n    \"1\": \"Morning Routine and Work Prep\",\\n...</td>\n",
       "      <td>{\\n    \"1\": \"Morning Routine and Work Prep\",\\n...</td>\n",
       "      <td>{'1': 'Morning Routine and Work Prep', '2': 'B...</td>\n",
       "    </tr>\n",
       "    <tr>\n",
       "      <th>8649</th>\n",
       "      <td>tk-VLMdusXo</td>\n",
       "      <td>{\\n\"1\": \"Introduction to Cash Flow Maximizatio...</td>\n",
       "      <td>{\\n\"1\": \"Introduction to Cash Flow Maximizatio...</td>\n",
       "      <td>{\\n\"1\": \"Introduction to Cash Flow Maximizatio...</td>\n",
       "      <td>{\\n\"1\": \"Introduction to Cash Flow Maximizatio...</td>\n",
       "      <td>{'1': 'Introduction to Cash Flow Maximization ...</td>\n",
       "    </tr>\n",
       "    <tr>\n",
       "      <th>8650</th>\n",
       "      <td>U9doieQXks8</td>\n",
       "      <td>{\\n\"1\": \"Welcome Song and Introduction\",\\n\"2\":...</td>\n",
       "      <td>{\\n\"1\": \"Welcome Song and Introduction\",\\n\"2\":...</td>\n",
       "      <td>{\\n\"1\": \"Welcome Song and Introduction\",\\n\"2\":...</td>\n",
       "      <td>{\\n\"1\": \"Welcome Song and Introduction\",\\n\"2\":...</td>\n",
       "      <td>{'1': 'Welcome Song and Introduction', '2': 'R...</td>\n",
       "    </tr>\n",
       "    <tr>\n",
       "      <th>8651</th>\n",
       "      <td>v-DR1YGtHXs</td>\n",
       "      <td>{\\n\"1\": \"Introduction to the Smooth Jazz Lick\"...</td>\n",
       "      <td>{\\n\"1\": \"Introduction to the Smooth Jazz Lick\"...</td>\n",
       "      <td>{\\n\"1\": \"Introduction to the Smooth Jazz Lick\"...</td>\n",
       "      <td>{\\n\"1\": \"Introduction to the Smooth Jazz Lick\"...</td>\n",
       "      <td>{'1': 'Introduction to the Smooth Jazz Lick', ...</td>\n",
       "    </tr>\n",
       "  </tbody>\n",
       "</table>\n",
       "<p>8580 rows × 6 columns</p>\n",
       "</div>"
      ],
      "text/plain": [
       "               id                                              llama  \\\n",
       "0     jKUYFmSn5Eo  {\\n\"1\": \"Introduction and Sponsorship\",\\n\"2\": ...   \n",
       "1     da-frvR3iG8  {\\n\"1\": \"Introduction to the new Lego Star War...   \n",
       "2     pbzj6mvaHb8  {\\n\"1\": \"Introduction to the Audi R8 and its u...   \n",
       "3     RdaVNt-WcWY  {\\n    \"1\": \"Jorge Garcia's Post-Lost Life: Fr...   \n",
       "4     BIPUrV4aaFs  {\\n    \"1\": \"Introduction and Budget\",\\n    \"2...   \n",
       "...           ...                                                ...   \n",
       "8647  mnkw9v5MyNY  {\\n    \"1\": \"Morning Routine and Garden Plans\"...   \n",
       "8648  KnfJUpwF1Gk  {\\n    \"1\": \"Morning Routine and Work Prep\",\\n...   \n",
       "8649  tk-VLMdusXo  {\\n\"1\": \"Introduction to Cash Flow Maximizatio...   \n",
       "8650  U9doieQXks8  {\\n\"1\": \"Welcome Song and Introduction\",\\n\"2\":...   \n",
       "8651  v-DR1YGtHXs  {\\n\"1\": \"Introduction to the Smooth Jazz Lick\"...   \n",
       "\n",
       "                                            llama_clean  \\\n",
       "0     {\\n\"1\": \"Introduction and Sponsorship\",\\n\"2\": ...   \n",
       "1     {\\n\"1\": \"Introduction to the new Lego Star War...   \n",
       "2     {\\n\"1\": \"Introduction to the Audi R8 and its u...   \n",
       "3     {\\n    \"1\": \"Jorge Garcia's Post-Lost Life: Fr...   \n",
       "4     {\\n    \"1\": \"Introduction and Budget\",\\n    \"2...   \n",
       "...                                                 ...   \n",
       "8647  {\\n    \"1\": \"Morning Routine and Garden Plans\"...   \n",
       "8648  {\\n    \"1\": \"Morning Routine and Work Prep\",\\n...   \n",
       "8649  {\\n\"1\": \"Introduction to Cash Flow Maximizatio...   \n",
       "8650  {\\n\"1\": \"Welcome Song and Introduction\",\\n\"2\":...   \n",
       "8651  {\\n\"1\": \"Introduction to the Smooth Jazz Lick\"...   \n",
       "\n",
       "                                           llama_clean2  \\\n",
       "0     {\\n\"1\": \"Introduction and Sponsorship\",\\n\"2\": ...   \n",
       "1     {\\n\"1\": \"Introduction to the new Lego Star War...   \n",
       "2     {\\n\"1\": \"Introduction to the Audi R8 and its u...   \n",
       "3     {\\n    \"1\": \"Jorge Garcia's Post-Lost Life: Fr...   \n",
       "4     {\\n    \"1\": \"Introduction and Budget\",\\n    \"2...   \n",
       "...                                                 ...   \n",
       "8647  {\\n    \"1\": \"Morning Routine and Garden Plans\"...   \n",
       "8648  {\\n    \"1\": \"Morning Routine and Work Prep\",\\n...   \n",
       "8649  {\\n\"1\": \"Introduction to Cash Flow Maximizatio...   \n",
       "8650  {\\n\"1\": \"Welcome Song and Introduction\",\\n\"2\":...   \n",
       "8651  {\\n\"1\": \"Introduction to the Smooth Jazz Lick\"...   \n",
       "\n",
       "                                           llama_clean3  \\\n",
       "0     {\\n\"1\": \"Introduction and Sponsorship\",\\n\"2\": ...   \n",
       "1     {\\n\"1\": \"Introduction to the new Lego Star War...   \n",
       "2     {\\n\"1\": \"Introduction to the Audi R8 and its u...   \n",
       "3     {\\n    \"1\": \"Jorge Garcia's Post-Lost Life: Fr...   \n",
       "4     {\\n    \"1\": \"Introduction and Budget\",\\n    \"2...   \n",
       "...                                                 ...   \n",
       "8647  {\\n    \"1\": \"Morning Routine and Garden Plans\"...   \n",
       "8648  {\\n    \"1\": \"Morning Routine and Work Prep\",\\n...   \n",
       "8649  {\\n\"1\": \"Introduction to Cash Flow Maximizatio...   \n",
       "8650  {\\n\"1\": \"Welcome Song and Introduction\",\\n\"2\":...   \n",
       "8651  {\\n\"1\": \"Introduction to the Smooth Jazz Lick\"...   \n",
       "\n",
       "                                             llama_json  \n",
       "0     {'1': 'Introduction and Sponsorship', '2': 'Rh...  \n",
       "1     {'1': 'Introduction to the new Lego Star Wars ...  \n",
       "2     {'1': 'Introduction to the Audi R8 and its uni...  \n",
       "3     {'1': 'Jorge Garcia's Post-Lost Life: From Fri...  \n",
       "4     {'1': 'Introduction and Budget', '2': 'Venue a...  \n",
       "...                                                 ...  \n",
       "8647  {'1': 'Morning Routine and Garden Plans', '2':...  \n",
       "8648  {'1': 'Morning Routine and Work Prep', '2': 'B...  \n",
       "8649  {'1': 'Introduction to Cash Flow Maximization ...  \n",
       "8650  {'1': 'Welcome Song and Introduction', '2': 'R...  \n",
       "8651  {'1': 'Introduction to the Smooth Jazz Lick', ...  \n",
       "\n",
       "[8580 rows x 6 columns]"
      ]
     },
     "execution_count": 14,
     "metadata": {},
     "output_type": "execute_result"
    }
   ],
   "source": [
    "llama_chapters"
   ]
  },
  {
   "cell_type": "code",
   "execution_count": 15,
   "id": "cf8a37dd-8cdb-467b-996f-bf5cab5a1dd7",
   "metadata": {
    "tags": []
   },
   "outputs": [],
   "source": [
    "for vid in llama_chapters[\"llama_json\"]:\n",
    "    sent = list(vid.values())\n",
    "    for broccolo in sent:\n",
    "        tutteFrasi.append(broccolo)"
   ]
  },
  {
   "cell_type": "code",
   "execution_count": 16,
   "id": "c03c90e1-2c15-44e4-9071-5dc6848dce15",
   "metadata": {
    "tags": []
   },
   "outputs": [
    {
     "data": {
      "text/plain": [
       "125042"
      ]
     },
     "execution_count": 16,
     "metadata": {},
     "output_type": "execute_result"
    }
   ],
   "source": [
    "len(tutteFrasi)"
   ]
  },
  {
   "cell_type": "markdown",
   "id": "37425b2d-244e-41b3-99fd-64dd25934965",
   "metadata": {},
   "source": [
    "# Merge the 2 dataframes"
   ]
  },
  {
   "cell_type": "code",
   "execution_count": 17,
   "id": "c4fcebdd-aa9d-4145-a509-e50b1436ed68",
   "metadata": {
    "tags": []
   },
   "outputs": [],
   "source": [
    "merged_df = pd.merge(llama_chapters, human_chapters, on='id', how='inner')"
   ]
  },
  {
   "cell_type": "code",
   "execution_count": 18,
   "id": "ebfd8c24-aaf2-40eb-9067-d30b13851f3c",
   "metadata": {
    "tags": []
   },
   "outputs": [],
   "source": [
    "merged_final = merged_df[[\"id\", \"llama_json\", \"human_json\"]]"
   ]
  },
  {
   "cell_type": "code",
   "execution_count": 19,
   "id": "c4f666df-a78f-4eac-a531-c72d9bef899c",
   "metadata": {
    "tags": []
   },
   "outputs": [
    {
     "data": {
      "text/html": [
       "<div>\n",
       "<style scoped>\n",
       "    .dataframe tbody tr th:only-of-type {\n",
       "        vertical-align: middle;\n",
       "    }\n",
       "\n",
       "    .dataframe tbody tr th {\n",
       "        vertical-align: top;\n",
       "    }\n",
       "\n",
       "    .dataframe thead th {\n",
       "        text-align: right;\n",
       "    }\n",
       "</style>\n",
       "<table border=\"1\" class=\"dataframe\">\n",
       "  <thead>\n",
       "    <tr style=\"text-align: right;\">\n",
       "      <th></th>\n",
       "      <th>id</th>\n",
       "      <th>llama_json</th>\n",
       "      <th>human_json</th>\n",
       "    </tr>\n",
       "  </thead>\n",
       "  <tbody>\n",
       "    <tr>\n",
       "      <th>0</th>\n",
       "      <td>jKUYFmSn5Eo</td>\n",
       "      <td>{'1': 'Introduction and Sponsorship', '2': 'Rh...</td>\n",
       "      <td>{'1': 'Intro', '2': 'Disclaimer', '3': 'Demo S...</td>\n",
       "    </tr>\n",
       "    <tr>\n",
       "      <th>1</th>\n",
       "      <td>da-frvR3iG8</td>\n",
       "      <td>{'1': 'Introduction to the new Lego Star Wars ...</td>\n",
       "      <td>{'1': 'Outrage', '2': 'Set Overview(s', '3': '...</td>\n",
       "    </tr>\n",
       "    <tr>\n",
       "      <th>2</th>\n",
       "      <td>pbzj6mvaHb8</td>\n",
       "      <td>{'1': 'Introduction to the Audi R8 and its uni...</td>\n",
       "      <td>{'1': 'Intro', '2': 'Price', '3': 'Exterior De...</td>\n",
       "    </tr>\n",
       "    <tr>\n",
       "      <th>3</th>\n",
       "      <td>RdaVNt-WcWY</td>\n",
       "      <td>{'1': 'Jorge Garcia's Post-Lost Life: From Fri...</td>\n",
       "      <td>{'1': 'Sticking with J.J. Abrams', '2': 'How H...</td>\n",
       "    </tr>\n",
       "    <tr>\n",
       "      <th>4</th>\n",
       "      <td>BIPUrV4aaFs</td>\n",
       "      <td>{'1': 'Introduction and Budget', '2': 'Venue a...</td>\n",
       "      <td>{'1': 'Money', '2': 'What I saved money on', '...</td>\n",
       "    </tr>\n",
       "    <tr>\n",
       "      <th>...</th>\n",
       "      <td>...</td>\n",
       "      <td>...</td>\n",
       "      <td>...</td>\n",
       "    </tr>\n",
       "    <tr>\n",
       "      <th>8575</th>\n",
       "      <td>mnkw9v5MyNY</td>\n",
       "      <td>{'1': 'Morning Routine and Garden Plans', '2':...</td>\n",
       "      <td>{'1': 'Starting the garden', '2': 'Dinner time...</td>\n",
       "    </tr>\n",
       "    <tr>\n",
       "      <th>8576</th>\n",
       "      <td>KnfJUpwF1Gk</td>\n",
       "      <td>{'1': 'Morning Routine and Work Prep', '2': 'B...</td>\n",
       "      <td>{'1': 'Morning Routine', '2': 'On My Way to Wo...</td>\n",
       "    </tr>\n",
       "    <tr>\n",
       "      <th>8577</th>\n",
       "      <td>tk-VLMdusXo</td>\n",
       "      <td>{'1': 'Introduction to Cash Flow Maximization ...</td>\n",
       "      <td>{'1': 'Why Grow Cash Flow', '2': 'How To GROW ...</td>\n",
       "    </tr>\n",
       "    <tr>\n",
       "      <th>8578</th>\n",
       "      <td>U9doieQXks8</td>\n",
       "      <td>{'1': 'Welcome Song and Introduction', '2': 'R...</td>\n",
       "      <td>{'1': 'Welcome Song', '2': 'Roly Poly Opposite...</td>\n",
       "    </tr>\n",
       "    <tr>\n",
       "      <th>8579</th>\n",
       "      <td>v-DR1YGtHXs</td>\n",
       "      <td>{'1': 'Introduction to the Smooth Jazz Lick', ...</td>\n",
       "      <td>{'1': 'intro', '2': 'Lesson Starts', '3': 'Sol...</td>\n",
       "    </tr>\n",
       "  </tbody>\n",
       "</table>\n",
       "<p>8580 rows × 3 columns</p>\n",
       "</div>"
      ],
      "text/plain": [
       "               id                                         llama_json  \\\n",
       "0     jKUYFmSn5Eo  {'1': 'Introduction and Sponsorship', '2': 'Rh...   \n",
       "1     da-frvR3iG8  {'1': 'Introduction to the new Lego Star Wars ...   \n",
       "2     pbzj6mvaHb8  {'1': 'Introduction to the Audi R8 and its uni...   \n",
       "3     RdaVNt-WcWY  {'1': 'Jorge Garcia's Post-Lost Life: From Fri...   \n",
       "4     BIPUrV4aaFs  {'1': 'Introduction and Budget', '2': 'Venue a...   \n",
       "...           ...                                                ...   \n",
       "8575  mnkw9v5MyNY  {'1': 'Morning Routine and Garden Plans', '2':...   \n",
       "8576  KnfJUpwF1Gk  {'1': 'Morning Routine and Work Prep', '2': 'B...   \n",
       "8577  tk-VLMdusXo  {'1': 'Introduction to Cash Flow Maximization ...   \n",
       "8578  U9doieQXks8  {'1': 'Welcome Song and Introduction', '2': 'R...   \n",
       "8579  v-DR1YGtHXs  {'1': 'Introduction to the Smooth Jazz Lick', ...   \n",
       "\n",
       "                                             human_json  \n",
       "0     {'1': 'Intro', '2': 'Disclaimer', '3': 'Demo S...  \n",
       "1     {'1': 'Outrage', '2': 'Set Overview(s', '3': '...  \n",
       "2     {'1': 'Intro', '2': 'Price', '3': 'Exterior De...  \n",
       "3     {'1': 'Sticking with J.J. Abrams', '2': 'How H...  \n",
       "4     {'1': 'Money', '2': 'What I saved money on', '...  \n",
       "...                                                 ...  \n",
       "8575  {'1': 'Starting the garden', '2': 'Dinner time...  \n",
       "8576  {'1': 'Morning Routine', '2': 'On My Way to Wo...  \n",
       "8577  {'1': 'Why Grow Cash Flow', '2': 'How To GROW ...  \n",
       "8578  {'1': 'Welcome Song', '2': 'Roly Poly Opposite...  \n",
       "8579  {'1': 'intro', '2': 'Lesson Starts', '3': 'Sol...  \n",
       "\n",
       "[8580 rows x 3 columns]"
      ]
     },
     "execution_count": 19,
     "metadata": {},
     "output_type": "execute_result"
    }
   ],
   "source": [
    "merged_final"
   ]
  },
  {
   "cell_type": "markdown",
   "id": "4fdcb272-4a1b-4eed-aecb-f411b00fb936",
   "metadata": {},
   "source": [
    "# Chapter comparison"
   ]
  },
  {
   "cell_type": "markdown",
   "id": "4defa44a-bf4d-48c3-b06a-9376ce8ef9d7",
   "metadata": {},
   "source": [
    "### Number of chapters"
   ]
  },
  {
   "cell_type": "code",
   "execution_count": 20,
   "id": "776d3940-2c5c-4e3d-a5e6-0558d2cb27e5",
   "metadata": {
    "tags": []
   },
   "outputs": [],
   "source": [
    "len_data = []\n",
    "for i in range(len(merged_final[\"human_json\"])):\n",
    "    llama = merged_final[\"llama_json\"][i]\n",
    "    human = merged_final[\"human_json\"][i]\n",
    "    len_diff = np.abs(len(llama) - len(human))\n",
    "    len_data.append(len_diff)"
   ]
  },
  {
   "cell_type": "code",
   "execution_count": 21,
   "id": "cb6e3550-a958-46e4-a403-ac471688bef8",
   "metadata": {
    "tags": []
   },
   "outputs": [
    {
     "data": {
      "text/plain": [
       "2.894755244755245"
      ]
     },
     "execution_count": 21,
     "metadata": {},
     "output_type": "execute_result"
    }
   ],
   "source": [
    "mean = sum(len_data)/len(len_data)\n",
    "mean"
   ]
  },
  {
   "cell_type": "code",
   "execution_count": 22,
   "id": "602e0def-0072-4292-8b01-aa410878309a",
   "metadata": {},
   "outputs": [
    {
     "data": {
      "text/plain": [
       "2.0"
      ]
     },
     "execution_count": 22,
     "metadata": {},
     "output_type": "execute_result"
    }
   ],
   "source": [
    "median = np.median(len_data)\n",
    "median"
   ]
  },
  {
   "cell_type": "code",
   "execution_count": 23,
   "id": "8661237a-0223-4b14-80ca-27085e6f8961",
   "metadata": {},
   "outputs": [
    {
     "data": {
      "text/plain": [
       "3.4461214979050445"
      ]
     },
     "execution_count": 23,
     "metadata": {},
     "output_type": "execute_result"
    }
   ],
   "source": [
    "stdev = np.std(len_data)\n",
    "stdev"
   ]
  },
  {
   "cell_type": "code",
   "execution_count": 24,
   "id": "5ad8f2fa-1ab0-44ad-84db-b03ef70056ee",
   "metadata": {
    "tags": []
   },
   "outputs": [
    {
     "name": "stderr",
     "output_type": "stream",
     "text": [
      "/var/folders/j9/w6m91zxs22l58fngjqhl5xm80000gn/T/ipykernel_42077/2542374804.py:1: SettingWithCopyWarning: \n",
      "A value is trying to be set on a copy of a slice from a DataFrame.\n",
      "Try using .loc[row_indexer,col_indexer] = value instead\n",
      "\n",
      "See the caveats in the documentation: https://pandas.pydata.org/pandas-docs/stable/user_guide/indexing.html#returning-a-view-versus-a-copy\n",
      "  merged_final.loc[:, \"len_diff\"] = len_data\n"
     ]
    }
   ],
   "source": [
    "merged_final.loc[:, \"len_diff\"] = len_data"
   ]
  },
  {
   "cell_type": "code",
   "execution_count": 25,
   "id": "2f6d5f33-32cd-44db-b565-5fdda06b8498",
   "metadata": {
    "tags": []
   },
   "outputs": [
    {
     "data": {
      "text/html": [
       "<div>\n",
       "<style scoped>\n",
       "    .dataframe tbody tr th:only-of-type {\n",
       "        vertical-align: middle;\n",
       "    }\n",
       "\n",
       "    .dataframe tbody tr th {\n",
       "        vertical-align: top;\n",
       "    }\n",
       "\n",
       "    .dataframe thead th {\n",
       "        text-align: right;\n",
       "    }\n",
       "</style>\n",
       "<table border=\"1\" class=\"dataframe\">\n",
       "  <thead>\n",
       "    <tr style=\"text-align: right;\">\n",
       "      <th></th>\n",
       "      <th>id</th>\n",
       "      <th>llama_json</th>\n",
       "      <th>human_json</th>\n",
       "      <th>len_diff</th>\n",
       "    </tr>\n",
       "  </thead>\n",
       "  <tbody>\n",
       "    <tr>\n",
       "      <th>0</th>\n",
       "      <td>jKUYFmSn5Eo</td>\n",
       "      <td>{'1': 'Introduction and Sponsorship', '2': 'Rh...</td>\n",
       "      <td>{'1': 'Intro', '2': 'Disclaimer', '3': 'Demo S...</td>\n",
       "      <td>1</td>\n",
       "    </tr>\n",
       "    <tr>\n",
       "      <th>1</th>\n",
       "      <td>da-frvR3iG8</td>\n",
       "      <td>{'1': 'Introduction to the new Lego Star Wars ...</td>\n",
       "      <td>{'1': 'Outrage', '2': 'Set Overview(s', '3': '...</td>\n",
       "      <td>0</td>\n",
       "    </tr>\n",
       "    <tr>\n",
       "      <th>2</th>\n",
       "      <td>pbzj6mvaHb8</td>\n",
       "      <td>{'1': 'Introduction to the Audi R8 and its uni...</td>\n",
       "      <td>{'1': 'Intro', '2': 'Price', '3': 'Exterior De...</td>\n",
       "      <td>6</td>\n",
       "    </tr>\n",
       "    <tr>\n",
       "      <th>3</th>\n",
       "      <td>RdaVNt-WcWY</td>\n",
       "      <td>{'1': 'Jorge Garcia's Post-Lost Life: From Fri...</td>\n",
       "      <td>{'1': 'Sticking with J.J. Abrams', '2': 'How H...</td>\n",
       "      <td>1</td>\n",
       "    </tr>\n",
       "    <tr>\n",
       "      <th>4</th>\n",
       "      <td>BIPUrV4aaFs</td>\n",
       "      <td>{'1': 'Introduction and Budget', '2': 'Venue a...</td>\n",
       "      <td>{'1': 'Money', '2': 'What I saved money on', '...</td>\n",
       "      <td>0</td>\n",
       "    </tr>\n",
       "    <tr>\n",
       "      <th>...</th>\n",
       "      <td>...</td>\n",
       "      <td>...</td>\n",
       "      <td>...</td>\n",
       "      <td>...</td>\n",
       "    </tr>\n",
       "    <tr>\n",
       "      <th>8575</th>\n",
       "      <td>mnkw9v5MyNY</td>\n",
       "      <td>{'1': 'Morning Routine and Garden Plans', '2':...</td>\n",
       "      <td>{'1': 'Starting the garden', '2': 'Dinner time...</td>\n",
       "      <td>5</td>\n",
       "    </tr>\n",
       "    <tr>\n",
       "      <th>8576</th>\n",
       "      <td>KnfJUpwF1Gk</td>\n",
       "      <td>{'1': 'Morning Routine and Work Prep', '2': 'B...</td>\n",
       "      <td>{'1': 'Morning Routine', '2': 'On My Way to Wo...</td>\n",
       "      <td>0</td>\n",
       "    </tr>\n",
       "    <tr>\n",
       "      <th>8577</th>\n",
       "      <td>tk-VLMdusXo</td>\n",
       "      <td>{'1': 'Introduction to Cash Flow Maximization ...</td>\n",
       "      <td>{'1': 'Why Grow Cash Flow', '2': 'How To GROW ...</td>\n",
       "      <td>5</td>\n",
       "    </tr>\n",
       "    <tr>\n",
       "      <th>8578</th>\n",
       "      <td>U9doieQXks8</td>\n",
       "      <td>{'1': 'Welcome Song and Introduction', '2': 'R...</td>\n",
       "      <td>{'1': 'Welcome Song', '2': 'Roly Poly Opposite...</td>\n",
       "      <td>0</td>\n",
       "    </tr>\n",
       "    <tr>\n",
       "      <th>8579</th>\n",
       "      <td>v-DR1YGtHXs</td>\n",
       "      <td>{'1': 'Introduction to the Smooth Jazz Lick', ...</td>\n",
       "      <td>{'1': 'intro', '2': 'Lesson Starts', '3': 'Sol...</td>\n",
       "      <td>2</td>\n",
       "    </tr>\n",
       "  </tbody>\n",
       "</table>\n",
       "<p>8580 rows × 4 columns</p>\n",
       "</div>"
      ],
      "text/plain": [
       "               id                                         llama_json  \\\n",
       "0     jKUYFmSn5Eo  {'1': 'Introduction and Sponsorship', '2': 'Rh...   \n",
       "1     da-frvR3iG8  {'1': 'Introduction to the new Lego Star Wars ...   \n",
       "2     pbzj6mvaHb8  {'1': 'Introduction to the Audi R8 and its uni...   \n",
       "3     RdaVNt-WcWY  {'1': 'Jorge Garcia's Post-Lost Life: From Fri...   \n",
       "4     BIPUrV4aaFs  {'1': 'Introduction and Budget', '2': 'Venue a...   \n",
       "...           ...                                                ...   \n",
       "8575  mnkw9v5MyNY  {'1': 'Morning Routine and Garden Plans', '2':...   \n",
       "8576  KnfJUpwF1Gk  {'1': 'Morning Routine and Work Prep', '2': 'B...   \n",
       "8577  tk-VLMdusXo  {'1': 'Introduction to Cash Flow Maximization ...   \n",
       "8578  U9doieQXks8  {'1': 'Welcome Song and Introduction', '2': 'R...   \n",
       "8579  v-DR1YGtHXs  {'1': 'Introduction to the Smooth Jazz Lick', ...   \n",
       "\n",
       "                                             human_json  len_diff  \n",
       "0     {'1': 'Intro', '2': 'Disclaimer', '3': 'Demo S...         1  \n",
       "1     {'1': 'Outrage', '2': 'Set Overview(s', '3': '...         0  \n",
       "2     {'1': 'Intro', '2': 'Price', '3': 'Exterior De...         6  \n",
       "3     {'1': 'Sticking with J.J. Abrams', '2': 'How H...         1  \n",
       "4     {'1': 'Money', '2': 'What I saved money on', '...         0  \n",
       "...                                                 ...       ...  \n",
       "8575  {'1': 'Starting the garden', '2': 'Dinner time...         5  \n",
       "8576  {'1': 'Morning Routine', '2': 'On My Way to Wo...         0  \n",
       "8577  {'1': 'Why Grow Cash Flow', '2': 'How To GROW ...         5  \n",
       "8578  {'1': 'Welcome Song', '2': 'Roly Poly Opposite...         0  \n",
       "8579  {'1': 'intro', '2': 'Lesson Starts', '3': 'Sol...         2  \n",
       "\n",
       "[8580 rows x 4 columns]"
      ]
     },
     "execution_count": 25,
     "metadata": {},
     "output_type": "execute_result"
    }
   ],
   "source": [
    "merged_final"
   ]
  },
  {
   "cell_type": "code",
   "execution_count": 26,
   "id": "06cf5515-ebfd-4bce-9177-19a6992cd1a8",
   "metadata": {},
   "outputs": [
    {
     "data": {
      "image/png": "[encoded data removed]",
      "text/plain": [
       "<Figure size 640x480 with 1 Axes>"
      ]
     },
     "metadata": {},
     "output_type": "display_data"
    }
   ],
   "source": [
    "import matplotlib.pyplot as plt\n",
    "\n",
    "lens = merged_final['len_diff']\n",
    "value_counts = lens.value_counts().sort_index()\n",
    "\n",
    "plt.bar(value_counts.index, value_counts.values, alpha=0.7)\n",
    "plt.xlabel('Difference (in absolute value)')\n",
    "plt.ylabel('Count')\n",
    "plt.title('LLama Chapters: Difference in number of chapters found \\nby the model and number of human made chapters')\n",
    "#plt.show()\n",
    "plt.savefig(\"resScore/LLama chapters distribution.png\", dpi = 400)"
   ]
  },
  {
   "cell_type": "markdown",
   "id": "6104cc41-b391-427d-abe2-b994e95df7fe",
   "metadata": {},
   "source": [
    "## Traning doc2vec model"
   ]
  },
  {
   "cell_type": "markdown",
   "id": "9eabf894-2502-460b-acde-0caa5ec8de36",
   "metadata": {},
   "source": [
    "### Traning the model takes about 1 minute, if you dont want to train it you can simply load it from here:"
   ]
  },
  {
   "cell_type": "code",
   "execution_count": 29,
   "id": "68c2ee46-0d4b-4df7-90f0-0786745db0b6",
   "metadata": {},
   "outputs": [],
   "source": [
    "from gensim.models import Doc2Vec\n",
    "from gensim.models.doc2vec import TaggedDocument\n",
    "\n",
    "model_file_path = \"doc2vec/Llama/doc2vec_modelLlama\"\n",
    "\n",
    "# Load the saved Doc2Vec model\n",
    "model = Doc2Vec.load(model_file_path)"
   ]
  },
  {
   "cell_type": "markdown",
   "id": "745ff39e-4497-4128-b19c-1f928be45ad6",
   "metadata": {},
   "source": [
    "If you load the model please use this to check that it was loaded successfully"
   ]
  },
  {
   "cell_type": "code",
   "execution_count": 30,
   "id": "bfb5d7aa-f459-49ab-b2de-2c15c524a146",
   "metadata": {},
   "outputs": [
    {
     "name": "stdout",
     "output_type": "stream",
     "text": [
      "Model loaded successfully.\n",
      "Model vocabulary loaded successfully.\n"
     ]
    }
   ],
   "source": [
    "if isinstance(model, Doc2Vec):\n",
    "    print(\"Model loaded successfully.\")\n",
    "\n",
    "    # Check if the vocabulary is loaded\n",
    "    if len(model.wv) > 0:\n",
    "        print(\"Model vocabulary loaded successfully.\")\n",
    "    else:\n",
    "        print(\"Model vocabulary is empty.\")\n",
    "else:\n",
    "    print(\"Loaded model is not a Doc2Vec instance.\")"
   ]
  },
  {
   "cell_type": "markdown",
   "id": "4c76296f-84e2-4292-97bf-0313ce0507cd",
   "metadata": {},
   "source": [
    "### Train doc2vec model"
   ]
  },
  {
   "cell_type": "code",
   "execution_count": 27,
   "id": "7a0231ff-4fb9-40bb-af1c-f533cef0ca6a",
   "metadata": {
    "tags": []
   },
   "outputs": [
    {
     "name": "stdout",
     "output_type": "stream",
     "text": [
      "CPU times: user 58.3 s, sys: 13 s, total: 1min 11s\n",
      "Wall time: 56.8 s\n"
     ]
    }
   ],
   "source": [
    "%%time\n",
    "from gensim.models import Doc2Vec\n",
    "from gensim.models.doc2vec import TaggedDocument\n",
    "\n",
    "tagged_data = [TaggedDocument(words=s.split(), tags=[str(i)]) for i, s in enumerate(tutteFrasi)]\n",
    "\n",
    "vector_size = 100\n",
    "window_size = 5\n",
    "min_count = 1\n",
    "epochs = 20\n",
    "\n",
    "model = Doc2Vec(vector_size=vector_size, window=window_size, min_count=min_count, epochs=epochs)\n",
    "model.build_vocab(tagged_data)\n",
    "model.train(tagged_data, total_examples=model.corpus_count, epochs=model.epochs)"
   ]
  },
  {
   "cell_type": "code",
   "execution_count": 28,
   "id": "c5640ced-d58d-4a04-93cd-93ea953dea0c",
   "metadata": {
    "tags": []
   },
   "outputs": [],
   "source": [
    "# Define the file path where you want to save the trained model\n",
    "model_file_path = \"doc2vec/Llama/doc2vec_modelLlama\"\n",
    "\n",
    "# Save the trained Doc2Vec model\n",
    "model.save(model_file_path)"
   ]
  },
  {
   "cell_type": "markdown",
   "id": "a9924c90-f326-4eab-b358-9110ce450545",
   "metadata": {},
   "source": [
    "## Cosine Similarity Score"
   ]
  },
  {
   "cell_type": "code",
   "execution_count": 92,
   "id": "47d0fcf7-e021-404f-af84-0ff1c5f0b5b9",
   "metadata": {
    "tags": []
   },
   "outputs": [],
   "source": [
    "from itertools import combinations_with_replacement\n",
    "\n",
    "def insert_empties_between(lst, x):\n",
    "    n = len(lst)\n",
    "    \n",
    "    # Generate all ways to distribute x zeros in n+1 positions\n",
    "    distributions = combinations_with_replacement(range(n+1), x)\n",
    "    \n",
    "    results = []\n",
    "    for distribution in distributions:\n",
    "        result = []\n",
    "        elements_iter = iter(lst)\n",
    "        for pos in range(n):\n",
    "            for el in distribution:\n",
    "                if el == pos:\n",
    "                    result.append('')\n",
    "            result.append(next(elements_iter))\n",
    "        for el in distribution:\n",
    "            if el == n:\n",
    "                result.append('')\n",
    "        results.append(result)\n",
    "            \n",
    "    return results"
   ]
  },
  {
   "cell_type": "code",
   "execution_count": 93,
   "id": "02777ff0-6daa-4095-82f9-98fbf0331fa0",
   "metadata": {
    "tags": []
   },
   "outputs": [],
   "source": [
    "def compute_similarity_gen(x, y, verbose = False):\n",
    "    '''\n",
    "    x = list of chapters, human\n",
    "    y = list of chapters, llama\n",
    "    '''\n",
    "    def compute_similarity(x, y, min_len):\n",
    "        \n",
    "#        print(x)\n",
    "#        print(y)\n",
    "        pair_scores = []\n",
    "        for human_sent, llama_sent in zip(x, y):\n",
    "            \n",
    "            # Generate embeddings for sentences\n",
    "#            print(human_sent.split())\n",
    "#            print(llama_sent.split())\n",
    "            human_emb = model.infer_vector(human_sent.split())\n",
    "            llama_emb = model.infer_vector(llama_sent.split())\n",
    "#            print(human_emb)\n",
    "#            print(llama_emb)\n",
    "        \n",
    "            # Compute cosine similarity between sentence embeddings\n",
    "            similarity_score = cosine_similarity([human_emb], [llama_emb])[0][0]\n",
    "            pair_scores.append(similarity_score)\n",
    "#            print(pair_scores)\n",
    "        overall_video_score = sum(pair_scores)/min_len\n",
    "        return overall_video_score\n",
    "    \n",
    "    if len(x) == len(y):\n",
    "        min_len = len(x)\n",
    "        return compute_similarity(x,y,min_len)\n",
    "    if len(x) < len(y):\n",
    "        min_len = len(x)\n",
    "        diff = len(y) - len(x)\n",
    "        similarity = 0\n",
    "        elem = None\n",
    "        for el in insert_empties_between(x, diff):\n",
    "            if compute_similarity(el,y, min_len) > similarity:\n",
    "                similarity = compute_similarity(el,y, min_len)\n",
    "                elem = el\n",
    "        if verbose == True:\n",
    "            print(similarity, elem, y)\n",
    "    if len(x) > len(y):\n",
    "        min_len = len(y)\n",
    "        diff = len(x) - len(y)\n",
    "        similarity = 0\n",
    "        elem = None\n",
    "        for el in insert_empties_between(y, diff):\n",
    "            if compute_similarity(x, el, min_len) > similarity:\n",
    "                similarity = compute_similarity(x, el, min_len)\n",
    "                elem = el\n",
    "        if verbose == True:\n",
    "            print(similarity, x, elem)\n",
    "        \n",
    "    return similarity"
   ]
  },
  {
   "cell_type": "markdown",
   "id": "b9310d16-422a-40f0-a8c7-1976e871b0c0",
   "metadata": {},
   "source": [
    "### Since the calculation of the cosine similarity takes a long time, we saved the \"cosine_df\" to a csv (LLAMA.csv) and later there is an option to load it back in to check out the cosine similarities"
   ]
  },
  {
   "cell_type": "code",
   "execution_count": 103,
   "id": "15c7d4b0-dd2f-4e11-af56-90c9af2b06fe",
   "metadata": {
    "tags": []
   },
   "outputs": [
    {
     "name": "stderr",
     "output_type": "stream",
     "text": [
      "100%|██████████| 8580/8580 [46:54<00:00,  3.05it/s]  \n"
     ]
    }
   ],
   "source": [
    "from sklearn.metrics.pairwise import cosine_similarity\n",
    "\n",
    "llama_json = merged_final[\"llama_json\"]\n",
    "human_json = merged_final[\"human_json\"]\n",
    "diff = merged_final['len_diff'].apply(np.abs)\n",
    "\n",
    "indeces = list(llama_json.index)\n",
    "\n",
    "all_scores = []\n",
    "\n",
    "for pointer in tqdm(indeces):\n",
    "    if diff[pointer] <= 4:\n",
    "        human_d = human_json[pointer]\n",
    "        llama_d = llama_json[pointer]\n",
    "        human_chap_list = list(human_d.values())\n",
    "        llama_chap_list = list(llama_d.values())\n",
    "\n",
    "        # Compute embeddings and cosine similarity for each pair of sentences\n",
    "        all_scores.append(compute_similarity_gen(human_chap_list, llama_chap_list))"
   ]
  },
  {
   "cell_type": "code",
   "execution_count": 104,
   "id": "2b3c50f8-619c-4330-9878-3f0c246335bc",
   "metadata": {
    "tags": []
   },
   "outputs": [
    {
     "data": {
      "text/plain": [
       "0.34711819863848253"
      ]
     },
     "execution_count": 104,
     "metadata": {},
     "output_type": "execute_result"
    }
   ],
   "source": [
    "np.mean(all_scores)"
   ]
  },
  {
   "cell_type": "code",
   "execution_count": 114,
   "id": "2456a696-eb23-4614-b934-a45a3936753e",
   "metadata": {},
   "outputs": [
    {
     "data": {
      "text/plain": [
       "0.3403965594867865"
      ]
     },
     "execution_count": 114,
     "metadata": {},
     "output_type": "execute_result"
    }
   ],
   "source": [
    "np.median(all_scores)"
   ]
  },
  {
   "cell_type": "code",
   "execution_count": 106,
   "id": "aa877076-e9fb-4cef-a5e1-f65de6b0c645",
   "metadata": {},
   "outputs": [
    {
     "name": "stderr",
     "output_type": "stream",
     "text": [
      "/var/folders/j9/w6m91zxs22l58fngjqhl5xm80000gn/T/ipykernel_5237/278484341.py:2: SettingWithCopyWarning: \n",
      "A value is trying to be set on a copy of a slice from a DataFrame.\n",
      "Try using .loc[row_indexer,col_indexer] = value instead\n",
      "\n",
      "See the caveats in the documentation: https://pandas.pydata.org/pandas-docs/stable/user_guide/indexing.html#returning-a-view-versus-a-copy\n",
      "  cosine_df.loc[:, \"cosine similarity\"] = all_scores\n"
     ]
    }
   ],
   "source": [
    "cosine_df = merged_final[merged_final[\"len_diff\"] <= 4]\n",
    "cosine_df.loc[:, \"cosine similarity\"] = all_scores"
   ]
  },
  {
   "cell_type": "code",
   "execution_count": 107,
   "id": "eaffe2c8-eeeb-4a4a-9bb5-f65282798b2d",
   "metadata": {},
   "outputs": [
    {
     "data": {
      "text/html": [
       "<div>\n",
       "<style scoped>\n",
       "    .dataframe tbody tr th:only-of-type {\n",
       "        vertical-align: middle;\n",
       "    }\n",
       "\n",
       "    .dataframe tbody tr th {\n",
       "        vertical-align: top;\n",
       "    }\n",
       "\n",
       "    .dataframe thead th {\n",
       "        text-align: right;\n",
       "    }\n",
       "</style>\n",
       "<table border=\"1\" class=\"dataframe\">\n",
       "  <thead>\n",
       "    <tr style=\"text-align: right;\">\n",
       "      <th></th>\n",
       "      <th>id</th>\n",
       "      <th>llama_json</th>\n",
       "      <th>human_json</th>\n",
       "      <th>len_diff</th>\n",
       "      <th>cosine similarity</th>\n",
       "    </tr>\n",
       "  </thead>\n",
       "  <tbody>\n",
       "    <tr>\n",
       "      <th>0</th>\n",
       "      <td>jKUYFmSn5Eo</td>\n",
       "      <td>{'1': 'Introduction and Sponsorship', '2': 'Rh...</td>\n",
       "      <td>{'1': 'Intro', '2': 'Disclaimer', '3': 'Demo S...</td>\n",
       "      <td>1</td>\n",
       "      <td>0.509625</td>\n",
       "    </tr>\n",
       "    <tr>\n",
       "      <th>1</th>\n",
       "      <td>da-frvR3iG8</td>\n",
       "      <td>{'1': 'Introduction to the new Lego Star Wars ...</td>\n",
       "      <td>{'1': 'Outrage', '2': 'Set Overview(s', '3': '...</td>\n",
       "      <td>0</td>\n",
       "      <td>0.244124</td>\n",
       "    </tr>\n",
       "    <tr>\n",
       "      <th>3</th>\n",
       "      <td>RdaVNt-WcWY</td>\n",
       "      <td>{'1': 'Jorge Garcia's Post-Lost Life: From Fri...</td>\n",
       "      <td>{'1': 'Sticking with J.J. Abrams', '2': 'How H...</td>\n",
       "      <td>1</td>\n",
       "      <td>0.359560</td>\n",
       "    </tr>\n",
       "    <tr>\n",
       "      <th>4</th>\n",
       "      <td>BIPUrV4aaFs</td>\n",
       "      <td>{'1': 'Introduction and Budget', '2': 'Venue a...</td>\n",
       "      <td>{'1': 'Money', '2': 'What I saved money on', '...</td>\n",
       "      <td>0</td>\n",
       "      <td>0.302777</td>\n",
       "    </tr>\n",
       "    <tr>\n",
       "      <th>5</th>\n",
       "      <td>8_NhdSZQoxE</td>\n",
       "      <td>{'1': 'Introduction to Clubhouse', '2': 'What ...</td>\n",
       "      <td>{'1': 'Intro', '2': 'What', '3': 'Game-changer...</td>\n",
       "      <td>1</td>\n",
       "      <td>0.580757</td>\n",
       "    </tr>\n",
       "    <tr>\n",
       "      <th>...</th>\n",
       "      <td>...</td>\n",
       "      <td>...</td>\n",
       "      <td>...</td>\n",
       "      <td>...</td>\n",
       "      <td>...</td>\n",
       "    </tr>\n",
       "    <tr>\n",
       "      <th>8573</th>\n",
       "      <td>TCn2GeeVlg4</td>\n",
       "      <td>{'1': 'Introduction to L-Pod Academy and the I...</td>\n",
       "      <td>{'1': 'Hand Controls - Steering Wheel', '2': '...</td>\n",
       "      <td>4</td>\n",
       "      <td>0.233142</td>\n",
       "    </tr>\n",
       "    <tr>\n",
       "      <th>8574</th>\n",
       "      <td>HkH3nEmD9_8</td>\n",
       "      <td>{'1': 'Introduction to Role Dividers', '2': 'S...</td>\n",
       "      <td>{'1': 'Updated version for new UI at top of de...</td>\n",
       "      <td>1</td>\n",
       "      <td>0.376767</td>\n",
       "    </tr>\n",
       "    <tr>\n",
       "      <th>8576</th>\n",
       "      <td>KnfJUpwF1Gk</td>\n",
       "      <td>{'1': 'Morning Routine and Work Prep', '2': 'B...</td>\n",
       "      <td>{'1': 'Morning Routine', '2': 'On My Way to Wo...</td>\n",
       "      <td>0</td>\n",
       "      <td>0.271048</td>\n",
       "    </tr>\n",
       "    <tr>\n",
       "      <th>8578</th>\n",
       "      <td>U9doieQXks8</td>\n",
       "      <td>{'1': 'Welcome Song and Introduction', '2': 'R...</td>\n",
       "      <td>{'1': 'Welcome Song', '2': 'Roly Poly Opposite...</td>\n",
       "      <td>0</td>\n",
       "      <td>0.508475</td>\n",
       "    </tr>\n",
       "    <tr>\n",
       "      <th>8579</th>\n",
       "      <td>v-DR1YGtHXs</td>\n",
       "      <td>{'1': 'Introduction to the Smooth Jazz Lick', ...</td>\n",
       "      <td>{'1': 'intro', '2': 'Lesson Starts', '3': 'Sol...</td>\n",
       "      <td>2</td>\n",
       "      <td>0.168501</td>\n",
       "    </tr>\n",
       "  </tbody>\n",
       "</table>\n",
       "<p>6916 rows × 5 columns</p>\n",
       "</div>"
      ],
      "text/plain": [
       "               id                                         llama_json  \\\n",
       "0     jKUYFmSn5Eo  {'1': 'Introduction and Sponsorship', '2': 'Rh...   \n",
       "1     da-frvR3iG8  {'1': 'Introduction to the new Lego Star Wars ...   \n",
       "3     RdaVNt-WcWY  {'1': 'Jorge Garcia's Post-Lost Life: From Fri...   \n",
       "4     BIPUrV4aaFs  {'1': 'Introduction and Budget', '2': 'Venue a...   \n",
       "5     8_NhdSZQoxE  {'1': 'Introduction to Clubhouse', '2': 'What ...   \n",
       "...           ...                                                ...   \n",
       "8573  TCn2GeeVlg4  {'1': 'Introduction to L-Pod Academy and the I...   \n",
       "8574  HkH3nEmD9_8  {'1': 'Introduction to Role Dividers', '2': 'S...   \n",
       "8576  KnfJUpwF1Gk  {'1': 'Morning Routine and Work Prep', '2': 'B...   \n",
       "8578  U9doieQXks8  {'1': 'Welcome Song and Introduction', '2': 'R...   \n",
       "8579  v-DR1YGtHXs  {'1': 'Introduction to the Smooth Jazz Lick', ...   \n",
       "\n",
       "                                             human_json  len_diff  \\\n",
       "0     {'1': 'Intro', '2': 'Disclaimer', '3': 'Demo S...         1   \n",
       "1     {'1': 'Outrage', '2': 'Set Overview(s', '3': '...         0   \n",
       "3     {'1': 'Sticking with J.J. Abrams', '2': 'How H...         1   \n",
       "4     {'1': 'Money', '2': 'What I saved money on', '...         0   \n",
       "5     {'1': 'Intro', '2': 'What', '3': 'Game-changer...         1   \n",
       "...                                                 ...       ...   \n",
       "8573  {'1': 'Hand Controls - Steering Wheel', '2': '...         4   \n",
       "8574  {'1': 'Updated version for new UI at top of de...         1   \n",
       "8576  {'1': 'Morning Routine', '2': 'On My Way to Wo...         0   \n",
       "8578  {'1': 'Welcome Song', '2': 'Roly Poly Opposite...         0   \n",
       "8579  {'1': 'intro', '2': 'Lesson Starts', '3': 'Sol...         2   \n",
       "\n",
       "      cosine similarity  \n",
       "0              0.509625  \n",
       "1              0.244124  \n",
       "3              0.359560  \n",
       "4              0.302777  \n",
       "5              0.580757  \n",
       "...                 ...  \n",
       "8573           0.233142  \n",
       "8574           0.376767  \n",
       "8576           0.271048  \n",
       "8578           0.508475  \n",
       "8579           0.168501  \n",
       "\n",
       "[6916 rows x 5 columns]"
      ]
     },
     "execution_count": 107,
     "metadata": {},
     "output_type": "execute_result"
    }
   ],
   "source": [
    "cosine_df"
   ]
  },
  {
   "cell_type": "code",
   "execution_count": 108,
   "id": "69434426-79b2-46e2-b136-051dc84f198f",
   "metadata": {},
   "outputs": [],
   "source": [
    "cosine_df.to_csv(\"resScore/LLAMA.csv\")"
   ]
  },
  {
   "cell_type": "markdown",
   "id": "6afeeca3-ff29-4db4-9f4d-2e62d8f60b70",
   "metadata": {},
   "source": [
    "## Here is the cell to load back in the cosine similarities"
   ]
  },
  {
   "cell_type": "code",
   "execution_count": 31,
   "id": "ff460b8b-bf85-4d2d-923e-405d284b6ff9",
   "metadata": {},
   "outputs": [],
   "source": [
    "cosine_df = pd.read_csv(\"resScore/LLAMA.csv\")"
   ]
  },
  {
   "cell_type": "code",
   "execution_count": 33,
   "id": "39f1148c-1676-4735-9d1d-8196e15eb45a",
   "metadata": {},
   "outputs": [
    {
     "data": {
      "image/png": "[encoded data removed]",
      "text/plain": [
       "<Figure size 640x480 with 1 Axes>"
      ]
     },
     "metadata": {},
     "output_type": "display_data"
    }
   ],
   "source": [
    "lens = cosine_df[\"cosine similarity\"]\n",
    "\n",
    "# Define the bins\n",
    "bins = np.arange(0, 1.1, 0.1)  # Create bins from 0 to 1 with a width of 0.1\n",
    "\n",
    "# Bin the data\n",
    "binned_data = pd.cut(lens, bins=bins, include_lowest=True)\n",
    "\n",
    "# Count the values in each bin\n",
    "value_counts = binned_data.value_counts().sort_index()\n",
    "\n",
    "# Plot the binned data\n",
    "plt.bar(value_counts.index.astype(str), value_counts.values, alpha=0.7)\n",
    "\n",
    "# Define the custom x-axis labels\n",
    "x_labels = ['[0.0, 0.1]', '(0.1, 0.2]', '(0.2, 0.3]', '(0.3, 0.4]', '(0.4, 0.5]', \n",
    "            '(0.5, 0.6]', '(0.6, 0.7]', '(0.7, 0.8]', '(0.8, 0.9]', '(0.9, 1.0]']\n",
    "x_ticks = [0, 0.2, 0.4, 0.6, 0.8, 1.0]\n",
    "\n",
    "# Get the actual positions of these labels in the bins\n",
    "bin_positions = [0, 2, 4, 6, 8, 10]  # Adjust these positions if necessary\n",
    "\n",
    "plt.xticks(bin_positions, x_ticks)\n",
    "\n",
    "plt.xlabel('Cosine similarity')\n",
    "plt.ylabel('Count')\n",
    "plt.title('LLama Chapters: Cosine similarity distribution')\n",
    "\n",
    "# Save the plot\n",
    "plt.savefig(\"resScore/LLama chapters cosine.png\", dpi=400)\n"
   ]
  },
  {
   "cell_type": "code",
   "execution_count": null,
   "id": "413b4372-74ea-49de-b147-a8b2832cb0c2",
   "metadata": {},
   "outputs": [],
   "source": []
  }
 ],
 "metadata": {
  "kernelspec": {
   "display_name": "Python 3 (ipykernel)",
   "language": "python",
   "name": "python3"
  },
  "language_info": {
   "codemirror_mode": {
    "name": "ipython",
    "version": 3
   },
   "file_extension": ".py",
   "mimetype": "text/x-python",
   "name": "python",
   "nbconvert_exporter": "python",
   "pygments_lexer": "ipython3",
   "version": "3.11.5"
  }
 },
 "nbformat": 4,
 "nbformat_minor": 5
}
