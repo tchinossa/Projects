{
 "cells": [
  {
   "cell_type": "code",
   "execution_count": 1,
   "id": "00748ae8-1db9-473e-b6eb-b1b82ad456b6",
   "metadata": {},
   "outputs": [],
   "source": [
    "import requests\n",
    "import pandas as pd"
   ]
  },
  {
   "cell_type": "code",
   "execution_count": 2,
   "id": "976acfdf-7eee-44b0-9e82-fc642626a4ba",
   "metadata": {},
   "outputs": [],
   "source": [
    "videos = [\"dQw4w9WgXcQ\",\n",
    "          \"kdemFfbS5H0\",\n",
    "          \"3JZ_D3ELwOQ\",\n",
    "          \"_wYtG7aQTHA\",\n",
    "          \"_H6Cj6exO7c\",\n",
    "          \"iik25wqIuFo\",\n",
    "          \"0KSOMA3QBU0\",\n",
    "          \"J68dO4Gx1kQ\",\n",
    "          \"qHRK-Z_9w_4\",\n",
    "          \"e-ORhEE9VVg\",]"
   ]
  },
  {
   "cell_type": "code",
   "execution_count": 8,
   "id": "125af88a-da12-4c3f-919e-abf35ab2e74a",
   "metadata": {},
   "outputs": [],
   "source": [
    "# List to store dictionaries\n",
    "data = []\n",
    "\n",
    "# Assuming 'videos' is a list of video IDs\n",
    "for vid_id in videos:\n",
    "    req_stats = requests.get(f'https://yt.lemnoslife.com/noKey/videos?part=statistics&id={vid_id}')\n",
    "    json_data = req_stats.json()\n",
    "    for item in json_data['items']:\n",
    "        # Extract relevant data and create a dictionary\n",
    "        row = {\n",
    "            'id': item['id'],\n",
    "            'viewCount': item['statistics']['viewCount'],\n",
    "            'likeCount': item['statistics']['likeCount'],\n",
    "            'favoriteCount': item['statistics']['favoriteCount'],\n",
    "            'commentCount': item['statistics']['commentCount']\n",
    "        }\n",
    "        data.append(row)\n",
    "\n",
    "# Create DataFrame from the list of dictionaries\n",
    "df = pd.DataFrame(data)"
   ]
  },
  {
   "cell_type": "code",
   "execution_count": 9,
   "id": "41de34aa-ebda-4cf0-815b-87cb9c82e2e5",
   "metadata": {},
   "outputs": [
    {
     "data": {
      "text/html": [
       "<div>\n",
       "<style scoped>\n",
       "    .dataframe tbody tr th:only-of-type {\n",
       "        vertical-align: middle;\n",
       "    }\n",
       "\n",
       "    .dataframe tbody tr th {\n",
       "        vertical-align: top;\n",
       "    }\n",
       "\n",
       "    .dataframe thead th {\n",
       "        text-align: right;\n",
       "    }\n",
       "</style>\n",
       "<table border=\"1\" class=\"dataframe\">\n",
       "  <thead>\n",
       "    <tr style=\"text-align: right;\">\n",
       "      <th></th>\n",
       "      <th>id</th>\n",
       "      <th>viewCount</th>\n",
       "      <th>likeCount</th>\n",
       "      <th>favoriteCount</th>\n",
       "      <th>commentCount</th>\n",
       "    </tr>\n",
       "  </thead>\n",
       "  <tbody>\n",
       "    <tr>\n",
       "      <th>0</th>\n",
       "      <td>dQw4w9WgXcQ</td>\n",
       "      <td>1525577082</td>\n",
       "      <td>17475512</td>\n",
       "      <td>0</td>\n",
       "      <td>2318294</td>\n",
       "    </tr>\n",
       "    <tr>\n",
       "      <th>1</th>\n",
       "      <td>kdemFfbS5H0</td>\n",
       "      <td>623797445</td>\n",
       "      <td>3534056</td>\n",
       "      <td>0</td>\n",
       "      <td>178958</td>\n",
       "    </tr>\n",
       "    <tr>\n",
       "      <th>2</th>\n",
       "      <td>3JZ_D3ELwOQ</td>\n",
       "      <td>4448325</td>\n",
       "      <td>78869</td>\n",
       "      <td>0</td>\n",
       "      <td>2331</td>\n",
       "    </tr>\n",
       "    <tr>\n",
       "      <th>3</th>\n",
       "      <td>_wYtG7aQTHA</td>\n",
       "      <td>80264963</td>\n",
       "      <td>646235</td>\n",
       "      <td>0</td>\n",
       "      <td>163728</td>\n",
       "    </tr>\n",
       "    <tr>\n",
       "      <th>4</th>\n",
       "      <td>iik25wqIuFo</td>\n",
       "      <td>14536035</td>\n",
       "      <td>227146</td>\n",
       "      <td>0</td>\n",
       "      <td>21538</td>\n",
       "    </tr>\n",
       "    <tr>\n",
       "      <th>5</th>\n",
       "      <td>0KSOMA3QBU0</td>\n",
       "      <td>3706146045</td>\n",
       "      <td>17571820</td>\n",
       "      <td>0</td>\n",
       "      <td>807668</td>\n",
       "    </tr>\n",
       "    <tr>\n",
       "      <th>6</th>\n",
       "      <td>e-ORhEE9VVg</td>\n",
       "      <td>3403140702</td>\n",
       "      <td>15529496</td>\n",
       "      <td>0</td>\n",
       "      <td>653992</td>\n",
       "    </tr>\n",
       "  </tbody>\n",
       "</table>\n",
       "</div>"
      ],
      "text/plain": [
       "            id   viewCount likeCount favoriteCount commentCount\n",
       "0  dQw4w9WgXcQ  1525577082  17475512             0      2318294\n",
       "1  kdemFfbS5H0   623797445   3534056             0       178958\n",
       "2  3JZ_D3ELwOQ     4448325     78869             0         2331\n",
       "3  _wYtG7aQTHA    80264963    646235             0       163728\n",
       "4  iik25wqIuFo    14536035    227146             0        21538\n",
       "5  0KSOMA3QBU0  3706146045  17571820             0       807668\n",
       "6  e-ORhEE9VVg  3403140702  15529496             0       653992"
      ]
     },
     "execution_count": 9,
     "metadata": {},
     "output_type": "execute_result"
    }
   ],
   "source": [
    "df"
   ]
  },
  {
   "cell_type": "code",
   "execution_count": null,
   "id": "359f9605-e232-466f-bb86-a4ed63451452",
   "metadata": {},
   "outputs": [],
   "source": []
  },
  {
   "cell_type": "code",
   "execution_count": null,
   "id": "87a141d0-77cf-4db8-ad7a-a838db434b6e",
   "metadata": {},
   "outputs": [],
   "source": []
  },
  {
   "cell_type": "code",
   "execution_count": null,
   "id": "9a8a5c19-b5dd-428f-90e3-0fb827bb4f8f",
   "metadata": {},
   "outputs": [],
   "source": []
  }
 ],
 "metadata": {
  "kernelspec": {
   "display_name": "Python 3 (ipykernel)",
   "language": "python",
   "name": "python3"
  },
  "language_info": {
   "codemirror_mode": {
    "name": "ipython",
    "version": 3
   },
   "file_extension": ".py",
   "mimetype": "text/x-python",
   "name": "python",
   "nbconvert_exporter": "python",
   "pygments_lexer": "ipython3",
   "version": "3.11.4"
  }
 },
 "nbformat": 4,
 "nbformat_minor": 5
}
